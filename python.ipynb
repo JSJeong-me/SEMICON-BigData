{
  "nbformat": 4,
  "nbformat_minor": 0,
  "metadata": {
    "colab": {
      "name": "Untitled1.ipynb",
      "provenance": [],
      "include_colab_link": true
    },
    "kernelspec": {
      "name": "python3",
      "display_name": "Python 3"
    },
    "language_info": {
      "name": "python"
    }
  },
  "cells": [
    {
      "cell_type": "markdown",
      "metadata": {
        "id": "view-in-github",
        "colab_type": "text"
      },
      "source": [
        "<a href=\"https://colab.research.google.com/github/JSJeong-me/SEMICON-BigData/blob/main/python.ipynb\" target=\"_parent\"><img src=\"https://colab.research.google.com/assets/colab-badge.svg\" alt=\"Open In Colab\"/></a>"
      ]
    },
    {
      "cell_type": "markdown",
      "metadata": {
        "id": "QxBLxVT2FDV8"
      },
      "source": [
        "과정 목표: 파이썬 이해, 데이터 수집 및 정제, 데이터 시각화, 통계의 이해까지이며 내용으로는 Pandas활용, 시각화, 통계적 가설검정"
      ]
    },
    {
      "cell_type": "markdown",
      "metadata": {
        "id": "_qjQKYBADv9H"
      },
      "source": [
        "Computer Program는\n",
        "\n",
        "Mathmatics Notation 과 NLP 사이"
      ]
    },
    {
      "cell_type": "markdown",
      "metadata": {
        "id": "bwGKbkrfEezH"
      },
      "source": [
        "Python\n",
        "platform — 하부 플랫폼의 식별 데이터에 대한 액세스"
      ]
    },
    {
      "cell_type": "code",
      "metadata": {
        "id": "XhAerIjzEd_5"
      },
      "source": [
        "# https://docs.python.org/ko/3/library/platform.html\n",
        "\n",
        "import platform"
      ],
      "execution_count": null,
      "outputs": []
    },
    {
      "cell_type": "code",
      "metadata": {
        "id": "YdyciqhEDu4e"
      },
      "source": [
        "platform.processor()"
      ],
      "execution_count": null,
      "outputs": []
    },
    {
      "cell_type": "code",
      "metadata": {
        "id": "qQ_kGSGTFSVm"
      },
      "source": [
        "platform.python_version()"
      ],
      "execution_count": null,
      "outputs": []
    },
    {
      "cell_type": "code",
      "metadata": {
        "id": "7pIngEH5FYLS"
      },
      "source": [
        "platform.system()"
      ],
      "execution_count": null,
      "outputs": []
    },
    {
      "cell_type": "code",
      "metadata": {
        "id": "KmrTb0GCFv2L"
      },
      "source": [
        "platform.python_build()"
      ],
      "execution_count": null,
      "outputs": []
    },
    {
      "cell_type": "code",
      "metadata": {
        "id": "pjkW-1MCHLCc"
      },
      "source": [
        ""
      ],
      "execution_count": null,
      "outputs": []
    },
    {
      "cell_type": "markdown",
      "metadata": {
        "id": "vW5-AJVuHh-X"
      },
      "source": [
        "문자열 인덱싱과 슬라이싱"
      ]
    },
    {
      "cell_type": "code",
      "metadata": {
        "id": "QH65uXH9Hgjk"
      },
      "source": [
        "a = \"Hello World!\""
      ],
      "execution_count": null,
      "outputs": []
    },
    {
      "cell_type": "code",
      "metadata": {
        "id": "I53ccrm0Hp5n"
      },
      "source": [
        "a[0]"
      ],
      "execution_count": null,
      "outputs": []
    },
    {
      "cell_type": "code",
      "metadata": {
        "id": "xhqfoRYeHtiZ"
      },
      "source": [
        "a[-1]"
      ],
      "execution_count": null,
      "outputs": []
    },
    {
      "cell_type": "code",
      "metadata": {
        "id": "XRXv_usKHy__"
      },
      "source": [
        "a[2:-1]"
      ],
      "execution_count": null,
      "outputs": []
    },
    {
      "cell_type": "code",
      "metadata": {
        "id": "_jbZu2ZVH6qL"
      },
      "source": [
        "a[2:]"
      ],
      "execution_count": null,
      "outputs": []
    },
    {
      "cell_type": "code",
      "metadata": {
        "id": "CHuLfR8OM-tL"
      },
      "source": [
        ""
      ],
      "execution_count": null,
      "outputs": []
    },
    {
      "cell_type": "markdown",
      "metadata": {
        "id": "P7mw9y-UIH0l"
      },
      "source": [
        "문자열 포맷팅 : %"
      ]
    },
    {
      "cell_type": "markdown",
      "metadata": {
        "id": "RIJnfJ9xIkXg"
      },
      "source": [
        "%s는 'string'의 첫 글자로서 문자열을 의미\n",
        "\n",
        "%c는 'character'의 첫 글자로서 문자 1개를 의미\n",
        "\n",
        "%d는 'digit'의 첫 글자로 정수형 숫자를 의미\n",
        "\n",
        "%f는 'floating point'의 첫 글자로서 실수형 숫자를 의미\n"
      ]
    },
    {
      "cell_type": "code",
      "metadata": {
        "id": "59dvbTSWIzCc"
      },
      "source": [
        "kor = 90\n",
        "eng = 100\n",
        "math = 85\n",
        "sum = kor + eng + math\n",
        "avg = sum/3\n",
        "print('합계 : %d, 평균 : %.2f' % (sum, avg))"
      ],
      "execution_count": null,
      "outputs": []
    },
    {
      "cell_type": "code",
      "metadata": {
        "cellView": "code",
        "id": "DMTQybFzIAuo"
      },
      "source": [
        "#@title 기본 제목 텍스트\n",
        "color = '파랑'\n",
        "s = '나는 %s을 좋아합니다.' %color # %s에 color값(파랑)을 대입\n",
        "s"
      ],
      "execution_count": null,
      "outputs": []
    },
    {
      "cell_type": "code",
      "metadata": {
        "id": "9ik2Och3JNSt"
      },
      "source": [
        "a = \"%10s\" % \"hi\"\n",
        "print(a)"
      ],
      "execution_count": null,
      "outputs": []
    },
    {
      "cell_type": "code",
      "metadata": {
        "id": "7WCqRbrOJYbe"
      },
      "source": [
        "a = \"%-10s\" % \"hi\"\n",
        "print(a)"
      ],
      "execution_count": null,
      "outputs": []
    },
    {
      "cell_type": "code",
      "metadata": {
        "id": "KSxHPWm0JpW2"
      },
      "source": [
        "a = \"%0.4f\" % 3.42134234\n",
        "print(a)"
      ],
      "execution_count": null,
      "outputs": []
    },
    {
      "cell_type": "code",
      "metadata": {
        "id": "kbvuK1XeJyn5"
      },
      "source": [
        "number = 4\n",
        "a = \"I want {0} eggs\".format(number)\n",
        "print(a)"
      ],
      "execution_count": null,
      "outputs": []
    },
    {
      "cell_type": "code",
      "metadata": {
        "id": "Y5HPIZ0WJ9Rb"
      },
      "source": [
        "color = \"white\"\n",
        "day = \"ten\"\n",
        "a = \"I like {0} eggs. so I ate them for {1} days.\".format(color, day)\n",
        "print(a)"
      ],
      "execution_count": null,
      "outputs": []
    },
    {
      "cell_type": "code",
      "metadata": {
        "id": "Auj0LzbkJ_Hq"
      },
      "source": [
        "a = \" I like {color} eggs. so I ate them for {day} days.\".format(color= \"white\" , day=10)\n",
        "print(a)"
      ],
      "execution_count": null,
      "outputs": []
    },
    {
      "cell_type": "code",
      "metadata": {
        "id": "lg5JWg4sKD-q"
      },
      "source": [
        "message = '안녕하세요!'\n",
        "str_len = len(message) # message 문자열의 길이\n",
        "print('문자열의 길이 : ' + str(str_len))"
      ],
      "execution_count": null,
      "outputs": []
    },
    {
      "cell_type": "code",
      "metadata": {
        "id": "5FjzEEQPKPFn"
      },
      "source": [
        "a = \"happy\"\n",
        "c = a.count('p') # happy 문자열에서 p는 몇 개인지 세기\n",
        "print(c)"
      ],
      "execution_count": null,
      "outputs": []
    },
    {
      "cell_type": "code",
      "metadata": {
        "id": "-9wD1ka1KobX"
      },
      "source": [
        "a = \"I like egg\"\n",
        "f = a.find('e') # 문자열 중 e가 처음 나온 위치 반환\n",
        "print(f)"
      ],
      "execution_count": null,
      "outputs": []
    },
    {
      "cell_type": "code",
      "metadata": {
        "id": "Xj1sCAnDK2kT"
      },
      "source": [
        "f = a.find('s') # 찾는 문자나 문자열이 존재하지 않는다면 -1을 반환\n",
        "print(f)"
      ],
      "execution_count": null,
      "outputs": []
    },
    {
      "cell_type": "code",
      "metadata": {
        "id": "TJ4K878yLEAY"
      },
      "source": [
        "a = \"Life is too short\"\n",
        "i = a.index('t') # 문자열 중 t가 처음 나온 위치 반환\n",
        "print(i)"
      ],
      "execution_count": null,
      "outputs": []
    },
    {
      "cell_type": "code",
      "metadata": {
        "id": "k9vr4djTJ80s"
      },
      "source": [
        "a = \"Life is too short\"\n",
        "i = a.index('k') # 문자열 안에서 찾고자 하는 문자를 찾지 못하면 오류 발생\n",
        "print(i)"
      ],
      "execution_count": null,
      "outputs": []
    },
    {
      "cell_type": "code",
      "metadata": {
        "id": "Y5sWWPS5LZj_"
      },
      "source": [
        "j = \",\".join('abcd') # abcd 문자열의 각각의 문자 사이에 ',' 를 삽입\n",
        "print(j)"
      ],
      "execution_count": null,
      "outputs": []
    },
    {
      "cell_type": "code",
      "metadata": {
        "id": "dWRMCRnTLZa5"
      },
      "source": [
        "a = \"HI\"\n",
        "T = a.upper()\n",
        "t = a.lower()\n",
        "print(t, T)\n"
      ],
      "execution_count": null,
      "outputs": []
    },
    {
      "cell_type": "code",
      "metadata": {
        "id": "8kydk6jnLZQe"
      },
      "source": [
        "a = \" hi \"\n",
        "l = a.lstrip()\n",
        "print(l)"
      ],
      "execution_count": null,
      "outputs": []
    },
    {
      "cell_type": "code",
      "metadata": {
        "id": "Va9SJqnfMWdu"
      },
      "source": [
        "a= \" hi \"\n",
        "r = a.rstrip()\n",
        "print(r)"
      ],
      "execution_count": null,
      "outputs": []
    },
    {
      "cell_type": "code",
      "metadata": {
        "id": "NpUXKFLQLZAr"
      },
      "source": [
        "a = \" hi \"\n",
        "s = a.strip()\n",
        "print(s)"
      ],
      "execution_count": null,
      "outputs": []
    },
    {
      "cell_type": "code",
      "metadata": {
        "id": "TRw8gX9OMcdX"
      },
      "source": [
        "a = \"aaaaHello Pythonaaa\"\n",
        "l = a.lstrip('a')\n",
        "print(l)"
      ],
      "execution_count": null,
      "outputs": []
    },
    {
      "cell_type": "code",
      "metadata": {
        "id": "b_DDviN6McZ3"
      },
      "source": [
        "a= \"aaaaHello Pythonaaa\"\n",
        "r = a.rstrip('a')\n",
        "print(r)"
      ],
      "execution_count": null,
      "outputs": []
    },
    {
      "cell_type": "code",
      "metadata": {
        "id": "QszVe1CGMcWP"
      },
      "source": [
        "a = \"aaaaHello Pythonaaa\"\n",
        "s = a.strip('a')\n",
        "print(s)\n",
        "s"
      ],
      "execution_count": null,
      "outputs": []
    },
    {
      "cell_type": "code",
      "metadata": {
        "id": "o2i0NytcMcSU"
      },
      "source": [
        "a = \"Life is bad\"\n",
        "s = a.replace(\"bad\", \"good\")\n",
        "print(s)"
      ],
      "execution_count": null,
      "outputs": []
    },
    {
      "cell_type": "code",
      "metadata": {
        "id": "mpDFk8glMcOt"
      },
      "source": [
        "a = \"Life is good\"\n",
        "s = a.split() # 공백을 구분자로 문자열을 나눔\n",
        "print(s)"
      ],
      "execution_count": null,
      "outputs": []
    },
    {
      "cell_type": "code",
      "metadata": {
        "id": "xDwwiVN1Oxc9"
      },
      "source": [
        "type(a)"
      ],
      "execution_count": null,
      "outputs": []
    },
    {
      "cell_type": "code",
      "metadata": {
        "id": "og9SSohdMcHR"
      },
      "source": [
        "type(s)"
      ],
      "execution_count": null,
      "outputs": []
    },
    {
      "cell_type": "code",
      "metadata": {
        "id": "Fo4LYOJzMb9D"
      },
      "source": [
        "b = \"a:b:c:d\"\n",
        "s = b.split(':') # ':' 값을 구분자로 문자열을 나눔\n",
        "print(s)"
      ],
      "execution_count": null,
      "outputs": []
    },
    {
      "cell_type": "markdown",
      "metadata": {
        "id": "LFrPR7UAPStn"
      },
      "source": [
        "List"
      ]
    },
    {
      "cell_type": "code",
      "metadata": {
        "id": "91XITEG2O7bt"
      },
      "source": [
        "score = [90, 89, 77, 95, 67] # score 변수에 숫자로 된 리스트형의 값을 저장\n",
        "fruit = ['apple', 'banana', 'orange'] # fruit 변수에 문자열로 된 리스트형의 값을 저장\n",
        "print(score)"
      ],
      "execution_count": null,
      "outputs": []
    },
    {
      "cell_type": "code",
      "metadata": {
        "id": "k5pzPE3DP0Ri"
      },
      "source": [
        "print(fruit)"
      ],
      "execution_count": null,
      "outputs": []
    },
    {
      "cell_type": "code",
      "metadata": {
        "id": "g6nFYsNlO7WR"
      },
      "source": [
        "color = ['red', 'green', 'blue', 'black', 'white'] # 가장 왼쪽부터 0번째 값임\n",
        "print(color[4]) "
      ],
      "execution_count": null,
      "outputs": []
    },
    {
      "cell_type": "code",
      "metadata": {
        "id": "m-Hqd4d0O7R0"
      },
      "source": [
        "print(color[1:4])"
      ],
      "execution_count": null,
      "outputs": []
    },
    {
      "cell_type": "code",
      "metadata": {
        "id": "TDvo82wnO7LT"
      },
      "source": [
        "a = [1, 2, 3, ['a', 'b', 'c'], 4, 5]\n",
        "print(a[2:5]) # a변수에서 2번 index에서 4번 index까지 출력"
      ],
      "execution_count": null,
      "outputs": []
    },
    {
      "cell_type": "code",
      "metadata": {
        "id": "6OFzT8y4O7Hp"
      },
      "source": [
        "print(a[3][:2])"
      ],
      "execution_count": null,
      "outputs": []
    },
    {
      "cell_type": "code",
      "metadata": {
        "id": "FD7e5kz9O68u"
      },
      "source": [
        "num = list(range(1,21, 2)) # 1부터 20까지 2씩 증가하는 데이터 생성\n",
        "print(num)"
      ],
      "execution_count": null,
      "outputs": []
    },
    {
      "cell_type": "code",
      "metadata": {
        "id": "ic6J_FnEO606"
      },
      "source": [
        "print(num[3:7])"
      ],
      "execution_count": null,
      "outputs": []
    },
    {
      "cell_type": "markdown",
      "metadata": {
        "id": "fPKdgZcWQwxS"
      },
      "source": [
        " 리스트 연산하기"
      ]
    },
    {
      "cell_type": "code",
      "metadata": {
        "id": "wzhUsz0EMbv1"
      },
      "source": [
        "a = [1, 2, 3]\n",
        "b = [4, 5, 6]\n",
        "print(a + b)"
      ],
      "execution_count": null,
      "outputs": []
    },
    {
      "cell_type": "code",
      "metadata": {
        "id": "--JbdxzFQ2vm"
      },
      "source": [
        "a = [1, 2, 3]\n",
        "print(a * 3)"
      ],
      "execution_count": null,
      "outputs": []
    },
    {
      "cell_type": "code",
      "metadata": {
        "id": "T8k4WaR5Q2r3"
      },
      "source": [
        "a = [1, 2, 3]\n",
        "print(len(a))"
      ],
      "execution_count": null,
      "outputs": []
    },
    {
      "cell_type": "code",
      "metadata": {
        "id": "ZIVUIq8mQ2pC"
      },
      "source": [
        "a = [1, 2, 3]\n",
        "a[2] = 4 # a의 3번째 값에 4를 저장\n",
        "print(a)"
      ],
      "execution_count": null,
      "outputs": []
    },
    {
      "cell_type": "code",
      "metadata": {
        "id": "omwiWwUYQ2ia"
      },
      "source": [
        "a = [1, 2, 3]\n",
        "del a[1] # a의 2번째 값을 삭제\n",
        "print(a)"
      ],
      "execution_count": null,
      "outputs": []
    },
    {
      "cell_type": "code",
      "metadata": {
        "id": "rLbv0JmhQ2dR"
      },
      "source": [
        "a = [1, 2, 3, 4, 5]\n",
        "del a[2:] # a의 3번째 값부터 삭제\n",
        "print(a)"
      ],
      "execution_count": null,
      "outputs": []
    },
    {
      "cell_type": "code",
      "metadata": {
        "id": "80x9hCQVQ2Yw",
        "colab": {
          "base_uri": "https://localhost:8080/"
        },
        "outputId": "7679ed33-63c8-4e81-cad8-e329c97c0034"
      },
      "source": [
        "a = [1, 2, 3]\n",
        "a.append(4) # a의 값에 4를 추가\n",
        "print(a)"
      ],
      "execution_count": null,
      "outputs": [
        {
          "output_type": "stream",
          "text": [
            "[1, 2, 3, 4]\n"
          ],
          "name": "stdout"
        }
      ]
    },
    {
      "cell_type": "code",
      "metadata": {
        "id": "yGPQOdARQ2K1"
      },
      "source": [
        "a.append([5,6]) # a의 값에 [5,6] 리스트를 추가\n",
        "print(a)"
      ],
      "execution_count": null,
      "outputs": []
    },
    {
      "cell_type": "code",
      "metadata": {
        "id": "_5DOO8uhQ1sc"
      },
      "source": [
        "a = [1, 2, 3]\n",
        "a.insert(0, 4) # insert(a, b)는 리스트의 a번째 위치에 b를 삽입\n",
        "print(a)"
      ],
      "execution_count": null,
      "outputs": []
    },
    {
      "cell_type": "code",
      "metadata": {
        "id": "ZhcPKAFtRmk6"
      },
      "source": [
        "a = [1, 2, 3, 1, 2, 3]\n",
        "a.remove(3) # remove(x)는 리스트에서 첫 번째로 나오는 x를 삭제\n",
        "print(a)"
      ],
      "execution_count": null,
      "outputs": []
    },
    {
      "cell_type": "code",
      "metadata": {
        "id": "L3KQOK-vRmhM",
        "colab": {
          "base_uri": "https://localhost:8080/"
        },
        "outputId": "0b6ef68d-c85b-4f25-86da-858703286b2e"
      },
      "source": [
        "a = [1,2,3]\n",
        "print(a.pop()) # pop()은 리스트의 맨 마지막 요소를 돌려주고 그 요소는 삭제"
      ],
      "execution_count": null,
      "outputs": [
        {
          "output_type": "stream",
          "text": [
            "3\n"
          ],
          "name": "stdout"
        }
      ]
    },
    {
      "cell_type": "code",
      "metadata": {
        "id": "lHAnzEsGRmfO",
        "colab": {
          "base_uri": "https://localhost:8080/"
        },
        "outputId": "f0ee4d8c-020c-4efb-990b-37db18e9bae2"
      },
      "source": [
        "a"
      ],
      "execution_count": null,
      "outputs": [
        {
          "output_type": "execute_result",
          "data": {
            "text/plain": [
              "[1, 2]"
            ]
          },
          "metadata": {
            "tags": []
          },
          "execution_count": 103
        }
      ]
    },
    {
      "cell_type": "code",
      "metadata": {
        "id": "pGWU-x6kRmXL",
        "colab": {
          "base_uri": "https://localhost:8080/"
        },
        "outputId": "f7cdad8e-55f5-4c8c-f2c1-a6e2f66e604d"
      },
      "source": [
        "b = [1,2,3]\n",
        "print(b.pop(1)) # pop(x)는 리스트의 x번째 요소를 돌려주고 그 요소는 삭제"
      ],
      "execution_count": null,
      "outputs": [
        {
          "output_type": "stream",
          "text": [
            "2\n"
          ],
          "name": "stdout"
        }
      ]
    },
    {
      "cell_type": "code",
      "metadata": {
        "id": "ruRoYTFfRmKK",
        "colab": {
          "base_uri": "https://localhost:8080/"
        },
        "outputId": "21d2b1ea-8a96-4617-b90d-c51ae056f96b"
      },
      "source": [
        "print(b)"
      ],
      "execution_count": null,
      "outputs": [
        {
          "output_type": "stream",
          "text": [
            "[1, 3]\n"
          ],
          "name": "stdout"
        }
      ]
    },
    {
      "cell_type": "markdown",
      "metadata": {
        "id": "uZiwep9ROcOH"
      },
      "source": [
        "리스트 관련 함수"
      ]
    },
    {
      "cell_type": "code",
      "metadata": {
        "id": "GACZ_klWSWKn"
      },
      "source": [
        "a = ['a', 'c', 'b']\n",
        "a.reverse() # a의 순서를 뒤집기\n",
        "print(a)"
      ],
      "execution_count": null,
      "outputs": []
    },
    {
      "cell_type": "code",
      "metadata": {
        "id": "MyAzyYFfSV7i"
      },
      "source": [
        "a = [1,2,3]\n",
        "print(a.index(3)) "
      ],
      "execution_count": null,
      "outputs": []
    },
    {
      "cell_type": "code",
      "metadata": {
        "id": "Hw8qMw_9SV2F"
      },
      "source": [
        "a = [1, 4, 3, 2]\n",
        "a.sort() # a를 오름차순으로 정렬\n",
        "print(a)"
      ],
      "execution_count": null,
      "outputs": []
    },
    {
      "cell_type": "code",
      "metadata": {
        "id": "-oXkfCHqSVyr"
      },
      "source": [
        "a = [1, 4, 3, 2]\n",
        "a.sort(reverse = True) #a를 내림차순 정렬\n",
        "print(a)"
      ],
      "execution_count": null,
      "outputs": []
    },
    {
      "cell_type": "code",
      "metadata": {
        "id": "55rfLsIhSViu"
      },
      "source": [
        "a = [1,2,3,1]\n",
        "print(a.count(1))"
      ],
      "execution_count": null,
      "outputs": []
    },
    {
      "cell_type": "code",
      "metadata": {
        "id": "LZPWwLs-O2O7"
      },
      "source": [
        "a = [1,2,3]\n",
        "a.extend([4,5]) # a 리스트에 x 리스트를 더함\n",
        "print(a)"
      ],
      "execution_count": null,
      "outputs": []
    },
    {
      "cell_type": "code",
      "metadata": {
        "id": "ipacjmMdO2Jb"
      },
      "source": [
        "b = [6, 7]\n",
        "a.extend(b)\n",
        "print(a)"
      ],
      "execution_count": null,
      "outputs": []
    },
    {
      "cell_type": "markdown",
      "metadata": {
        "id": "SYxhRF9zPHfD"
      },
      "source": [
        "Tuple 자료\n",
        "\n",
        "\n",
        "  > • List와 같이 여러 개의 데이터를 집어넣을 수 있는 공간. 소괄호를 이용하여, 데이터를 묶어 줌.\n",
        "\n",
        "  (예) c = (1,2,3,4,5)\n",
        "  > • Tuple 내 데이터 간에 순서가 존재함\n",
        "\n",
        "  > • 한번 선언된 Tuple은 변경이 불가능함\n",
        "  \n",
        "  > • 함수와 반복문 같이 중요한 하이퍼파라미터(Hyper Parameter)들을 보호할 때 사용\n",
        "  > - 하이퍼파라미터 : 수식 내 값이 변하지 않는 인자나 상수\n",
        "\n",
        "\n"
      ]
    },
    {
      "cell_type": "code",
      "metadata": {
        "id": "4t9PuDIYPGNM"
      },
      "source": [
        "t1 = (1, 2, 3)\n",
        "print(t1)"
      ],
      "execution_count": null,
      "outputs": []
    },
    {
      "cell_type": "code",
      "metadata": {
        "id": "RKndQPMfQrjR"
      },
      "source": [
        "type(t1)"
      ],
      "execution_count": null,
      "outputs": []
    },
    {
      "cell_type": "code",
      "metadata": {
        "id": "l6aUjls2O2HA"
      },
      "source": [
        "t2 = ('a', 'b', ('ab', 'cd'))\n",
        "print(t2)"
      ],
      "execution_count": null,
      "outputs": []
    },
    {
      "cell_type": "code",
      "metadata": {
        "id": "8QESv_rRO2Du"
      },
      "source": [
        "t3=(4,)\n",
        "print(t3) # 데이터를 하나만 가진 튜플을 만들 땐 데이터 뒤에 콤마(,)를 꼭 찍어야 함"
      ],
      "execution_count": null,
      "outputs": []
    },
    {
      "cell_type": "code",
      "metadata": {
        "id": "nT2K9yCWO2BG"
      },
      "source": [
        "t1 = (1, 2, 'a', 'b')\n",
        "print(t1[0]) # t1의 1번째 값을 출력"
      ],
      "execution_count": null,
      "outputs": []
    },
    {
      "cell_type": "code",
      "metadata": {
        "id": "LkvgKM9XO19t"
      },
      "source": [
        "print(t1[3]) # t1의 4번째 값을 출력"
      ],
      "execution_count": null,
      "outputs": []
    },
    {
      "cell_type": "code",
      "metadata": {
        "id": "om42qigSO17U"
      },
      "source": [
        "t1 = (1, 2, 'a', 'b')\n",
        "print(t1[1:]) # t1의 2번째부터 출력"
      ],
      "execution_count": null,
      "outputs": []
    },
    {
      "cell_type": "code",
      "metadata": {
        "id": "kttvQOPSO14H"
      },
      "source": [
        "t1 = (1, 2, 'a', 'b')\n",
        "t2 = (3, 4)\n",
        "print(t1 + t2)"
      ],
      "execution_count": null,
      "outputs": []
    },
    {
      "cell_type": "code",
      "metadata": {
        "id": "RV-6EnVgO11M"
      },
      "source": [
        "t2 = (3, 4)\n",
        "print(t2 * 3)"
      ],
      "execution_count": null,
      "outputs": []
    },
    {
      "cell_type": "code",
      "metadata": {
        "id": "fg54ddEjO1yX"
      },
      "source": [
        "t1 = (1, 2, 'a', 'b')\n",
        "print(len(t1))"
      ],
      "execution_count": null,
      "outputs": []
    },
    {
      "cell_type": "markdown",
      "metadata": {
        "id": "LdxcdbXBQ0PT"
      },
      "source": [
        "**Dictionary 자료** \n",
        "\n",
        "  • 데이터를 Key와 Value의 Pair 형태로 하나의 변수에 선언\n",
        "\n",
        "  • 중괄호를 이용하여, key-value Pair 형태로 묶어줌.\n",
        "\n",
        "  - d = {“name” : “Kim”, “value” : 100 } : Kim이라는 데이터가 name이라는 키 값과 쌍을 이루고 100이라는 데이터가 value라는 키 값과 쌍을 이룸.\n",
        "\n",
        "• 매우 많이 사용되는 데이터 자료형 중 하나로 구조적으로 다룰 수 있음.\n",
        "\n",
        "• Key 값은 중복되지 않음.\n"
      ]
    },
    {
      "cell_type": "code",
      "metadata": {
        "id": "3q3GY2pJQzdk"
      },
      "source": [
        "dic = {'name':'kim', 'phone':'01012341234', 'birth': '0705'}"
      ],
      "execution_count": 18,
      "outputs": []
    },
    {
      "cell_type": "code",
      "metadata": {
        "id": "GdvvhRyxO1vv"
      },
      "source": [
        "type(dic)"
      ],
      "execution_count": null,
      "outputs": []
    },
    {
      "cell_type": "code",
      "metadata": {
        "id": "9coOYLU-QwpP"
      },
      "source": [
        "a = {1: 'hi'}"
      ],
      "execution_count": 20,
      "outputs": []
    },
    {
      "cell_type": "code",
      "metadata": {
        "id": "fVh1jWfHQwnO"
      },
      "source": [
        "type(a)"
      ],
      "execution_count": null,
      "outputs": []
    },
    {
      "cell_type": "code",
      "metadata": {
        "id": "-nN-sQmWQwjT"
      },
      "source": [
        "a = { 'a': [1,2,3]} # Value에 List를 넣은 예"
      ],
      "execution_count": 22,
      "outputs": []
    },
    {
      "cell_type": "code",
      "metadata": {
        "id": "tnS12r55Qwg1"
      },
      "source": [
        "a"
      ],
      "execution_count": null,
      "outputs": []
    },
    {
      "cell_type": "code",
      "metadata": {
        "id": "aHFZzO5lQwdl"
      },
      "source": [
        "a = {1: 'a'}\n",
        "a[2] = 'b' # 딕셔너리 a에 Key와 Value가 각각 2와 'b'인 딕셔너리 쌍 추가\n",
        "print(a)"
      ],
      "execution_count": null,
      "outputs": []
    },
    {
      "cell_type": "code",
      "metadata": {
        "id": "VTk-K8S5QwaR"
      },
      "source": [
        "a['name'] = 'kim' # 딕셔너리 a에 'name': ‘kim'라는 쌍을 추가\n",
        "print(a)"
      ],
      "execution_count": null,
      "outputs": []
    },
    {
      "cell_type": "code",
      "metadata": {
        "id": "ZmLrayWWQwWu"
      },
      "source": [
        "a[3] = [1,2,3] # Key는 3, Value는 [1, 2, 3]을 가지는 한 쌍이 추가\n",
        "print(a)"
      ],
      "execution_count": null,
      "outputs": []
    },
    {
      "cell_type": "code",
      "metadata": {
        "id": "z1NFPhS3QwTK"
      },
      "source": [
        "del a[1] # 지정한 Key 1에 해당하는 {key : value} 쌍이 삭제\n",
        "print(a)"
      ],
      "execution_count": null,
      "outputs": []
    },
    {
      "cell_type": "code",
      "metadata": {
        "id": "mpNVTfBwQwPZ"
      },
      "source": [
        "grade = {'kim': 30, 'lee': 80}\n",
        "print(grade['kim'])"
      ],
      "execution_count": null,
      "outputs": []
    },
    {
      "cell_type": "code",
      "metadata": {
        "id": "uABTr_meQwL3"
      },
      "source": [
        "print(grade['lee'])"
      ],
      "execution_count": null,
      "outputs": []
    },
    {
      "cell_type": "code",
      "metadata": {
        "id": "n13j1qynO1pt"
      },
      "source": [
        "a = {1:'a', 2:'b'}\n",
        "print(a[1])"
      ],
      "execution_count": null,
      "outputs": []
    },
    {
      "cell_type": "code",
      "metadata": {
        "id": "LDea7ezzSswT"
      },
      "source": [
        "a[1]"
      ],
      "execution_count": null,
      "outputs": []
    },
    {
      "cell_type": "code",
      "metadata": {
        "id": "uWJ2k1uHO1mP"
      },
      "source": [
        "print(a[2])"
      ],
      "execution_count": null,
      "outputs": []
    },
    {
      "cell_type": "code",
      "metadata": {
        "id": "pWo8vmEmO1h9"
      },
      "source": [
        "a = {'a':1, 'b':2}\n",
        "print(a['a'])"
      ],
      "execution_count": null,
      "outputs": []
    },
    {
      "cell_type": "code",
      "metadata": {
        "id": "vzwMFRnAO1dx"
      },
      "source": [
        "print(a['b'])"
      ],
      "execution_count": null,
      "outputs": []
    },
    {
      "cell_type": "code",
      "metadata": {
        "id": "25AsoKE_S9LR"
      },
      "source": [
        "a = {'name': 'kim', 'phone': '01012341234', 'birth': '0705'}\n",
        "print(a.keys()) # a.keys()는 딕셔너리 a의 Key만을 모아서 dict_keys 객체를 돌려줌"
      ],
      "execution_count": null,
      "outputs": []
    },
    {
      "cell_type": "code",
      "metadata": {
        "id": "A7uytk1BS9F7"
      },
      "source": [
        "print(list(a.keys())) # dict_keys 객체를 리스트로 변환"
      ],
      "execution_count": null,
      "outputs": []
    },
    {
      "cell_type": "code",
      "metadata": {
        "id": "J9vjee_2S9DE"
      },
      "source": [
        "a = {'name': 'kim', 'phone': '01012341234', 'birth': '0705'}\n",
        "print(a.values())"
      ],
      "execution_count": null,
      "outputs": []
    },
    {
      "cell_type": "code",
      "metadata": {
        "id": "3nqGOJGeS8_6"
      },
      "source": [
        "a = {'name': 'kim', 'phone': '01012341234', 'birth': '0705'}\n",
        "print(a.items())"
      ],
      "execution_count": null,
      "outputs": []
    },
    {
      "cell_type": "code",
      "metadata": {
        "id": "wcPnaZ1JS88u"
      },
      "source": [
        "a = {'name': 'kim', 'phone': '01012341234', 'birth': '0705'}\n",
        "a.clear() # a 딕셔너리 안의 모든 요소를 삭제\n",
        "print(a)"
      ],
      "execution_count": null,
      "outputs": []
    },
    {
      "cell_type": "code",
      "metadata": {
        "id": "yP7SwJ0bS852"
      },
      "source": [
        "a = {'name': 'kim', 'phone': '01012341234', 'birth': '0705'}\n",
        "print(a.get('name')) # a 딕셔너리 안의 name key에 해당하는 value 출력"
      ],
      "execution_count": null,
      "outputs": []
    },
    {
      "cell_type": "code",
      "metadata": {
        "id": "--gVsCCGS82y"
      },
      "source": [
        "a = {'name': 'kim', 'phone': '01012341234', 'birth': '0705'}\n",
        "print('name' in a) # a 딕셔너리 안에 name key가 있으면 True, 없으면 False"
      ],
      "execution_count": null,
      "outputs": []
    },
    {
      "cell_type": "code",
      "metadata": {
        "id": "PnA77FrbS8z8"
      },
      "source": [
        "print('email' in a)"
      ],
      "execution_count": null,
      "outputs": []
    },
    {
      "cell_type": "markdown",
      "metadata": {
        "id": "BAkhTfYmTxVb"
      },
      "source": [
        "**집합(Set)이란?**\n",
        "\n",
        "집합에 관련된 것을 쉽게 처리하기 위해 만든 자료형\n",
        "\n",
        "**집합 자료형의 특징**\n",
        "\n",
        "집합 자료형은 중복을 허용하지 않음\n",
        "\n",
        "집합 자료형은 순서가 없음\n",
        "\n",
        "set 자료형은 순서가 없기 때문에 인덱셍으로 값을 얻을 수 없음"
      ]
    },
    {
      "cell_type": "code",
      "metadata": {
        "id": "fbQKhibQTw3y"
      },
      "source": [
        "s1 = set([1,2,3]) # set()의 괄호안에 리스트를 입력\n",
        "print(s1)"
      ],
      "execution_count": null,
      "outputs": []
    },
    {
      "cell_type": "code",
      "metadata": {
        "id": "RJO9z1NwS8xQ"
      },
      "source": [
        "s2 = set(\"hello\")\n",
        "print(s2)"
      ],
      "execution_count": null,
      "outputs": []
    },
    {
      "cell_type": "code",
      "metadata": {
        "id": "ZvTlTwwYS8ui"
      },
      "source": [
        "s1 = set([1, 2, 3, 4, 5, 6])\n",
        "s2 = set([4, 5, 6, 7, 8, 9])\n",
        "print(s1 & s2) # 교집합"
      ],
      "execution_count": null,
      "outputs": []
    },
    {
      "cell_type": "code",
      "metadata": {
        "id": "p_1eP_EQS8r8"
      },
      "source": [
        "print(s1.intersection(s2)) # 교집합"
      ],
      "execution_count": null,
      "outputs": []
    },
    {
      "cell_type": "code",
      "metadata": {
        "id": "yLjerBeAS8pQ"
      },
      "source": [
        "print(s1 | s2) # 합집합"
      ],
      "execution_count": null,
      "outputs": []
    },
    {
      "cell_type": "code",
      "metadata": {
        "id": "u5muV3CBS8mr"
      },
      "source": [
        "print(s1.union(s2)) # 합집합"
      ],
      "execution_count": null,
      "outputs": []
    },
    {
      "cell_type": "code",
      "metadata": {
        "id": "XYHT3-4_S8j9"
      },
      "source": [
        "#@title 기본 제목 텍스트\n",
        "print(s1 - s2) # 차집합\n",
        "\n",
        "print(s2 - s1) # 차집합\n",
        "\n",
        "print(s1.difference(s2)) # 차집합\n",
        "\n",
        "print(s2.difference(s1)) # 차집합"
      ],
      "execution_count": null,
      "outputs": []
    },
    {
      "cell_type": "markdown",
      "metadata": {
        "id": "RqLbvtaxVpig"
      },
      "source": [
        "**input**() **함수**"
      ]
    },
    {
      "cell_type": "code",
      "metadata": {
        "id": "h8_va48CS8gY"
      },
      "source": [
        "height=input(\"당신의 키는?\") # height라는 변수에 ‘170’ 문자로 저장"
      ],
      "execution_count": null,
      "outputs": []
    },
    {
      "cell_type": "code",
      "metadata": {
        "id": "zV7TY2GdS8dA"
      },
      "source": [
        "type(height) # height라는 변수가 문자인 것을 확인"
      ],
      "execution_count": null,
      "outputs": []
    },
    {
      "cell_type": "code",
      "metadata": {
        "id": "nWwAcN6lWC8i"
      },
      "source": [
        "height=int(input(\"당신의 키는?\"))\n",
        "print(height)"
      ],
      "execution_count": null,
      "outputs": []
    },
    {
      "cell_type": "code",
      "metadata": {
        "id": "mU4n3AYEWC5S"
      },
      "source": [
        "type(height)"
      ],
      "execution_count": null,
      "outputs": []
    },
    {
      "cell_type": "code",
      "metadata": {
        "id": "AHqZts0uWC2J"
      },
      "source": [
        "a = input(\"정사각형 한 변의 길이는?\")\n",
        "area = int(a) ** 2\n",
        "print(\"정사각형의 넓이 :\", area)"
      ],
      "execution_count": null,
      "outputs": []
    },
    {
      "cell_type": "markdown",
      "metadata": {
        "id": "YwbfIYKwW3Yg"
      },
      "source": [
        "**print() 함수**\n",
        "\n"
      ]
    },
    {
      "cell_type": "code",
      "metadata": {
        "id": "oa7xIdy_WCzb"
      },
      "source": [
        "print(\"hello\")"
      ],
      "execution_count": null,
      "outputs": []
    },
    {
      "cell_type": "code",
      "metadata": {
        "id": "5rxmPkIDWCwk"
      },
      "source": [
        "\"hello\""
      ],
      "execution_count": null,
      "outputs": []
    },
    {
      "cell_type": "code",
      "metadata": {
        "id": "iGFD2PT_WCth"
      },
      "source": [
        "55+21"
      ],
      "execution_count": null,
      "outputs": []
    },
    {
      "cell_type": "code",
      "metadata": {
        "id": "gIiuFWRbWCqC"
      },
      "source": [
        "print(\"I\", end=\" \")  # 줄을 바꾸지 않고 싶은 경우 end 이용\n",
        "print(\"Love\", end = \" \")\n",
        "print(\"You\" , end= \" \")"
      ],
      "execution_count": null,
      "outputs": []
    },
    {
      "cell_type": "code",
      "metadata": {
        "id": "K02wxS1wWCmf"
      },
      "source": [
        "print(\"I\" \"2\" \"YOU\")"
      ],
      "execution_count": null,
      "outputs": []
    },
    {
      "cell_type": "code",
      "metadata": {
        "id": "PtGZmGafWCjL"
      },
      "source": [
        "print(\"I\", \"2\", \"YOU\")"
      ],
      "execution_count": null,
      "outputs": []
    },
    {
      "cell_type": "code",
      "metadata": {
        "id": "LZrWaB7UWCfn"
      },
      "source": [
        "print(\"I\"+ str(2)+ \"YOU\")"
      ],
      "execution_count": null,
      "outputs": []
    },
    {
      "cell_type": "markdown",
      "metadata": {
        "id": "mkjFeVgtYzkK"
      },
      "source": [
        "**문자열 형식 지정 출력**\n",
        "\n",
        "%s  ---   문자열 형태로 출력\n",
        "\n",
        "%d --- 정수형으로 출력\n",
        "\n",
        "%f --- 부동소수점 형식으로 출력\n",
        "\n",
        "%.nf --- 부동소수점을 소수점 이하 n자리까지 출력\n",
        "\n",
        "%x 또는 %X --- 정수를 16진수 형태(소문자 또는 대문자)로 출력"
      ]
    },
    {
      "cell_type": "code",
      "metadata": {
        "id": "H-Ue7HdeWCcB"
      },
      "source": [
        "name = \"John\"\n",
        "print(\"Hello, %s!\" % name) "
      ],
      "execution_count": null,
      "outputs": []
    },
    {
      "cell_type": "code",
      "metadata": {
        "id": "poVoKHbpYUQK"
      },
      "source": [
        "name = \"John\"\n",
        "age = 23\n",
        "print(\"%s은 %d 살입니다.\" % (name, age)) "
      ],
      "execution_count": null,
      "outputs": []
    },
    {
      "cell_type": "code",
      "metadata": {
        "id": "-LN3cEu4Zt4W"
      },
      "source": [
        ""
      ],
      "execution_count": null,
      "outputs": []
    },
    {
      "cell_type": "markdown",
      "metadata": {
        "id": "XLDwtsZKZwll"
      },
      "source": [
        "예제"
      ]
    },
    {
      "cell_type": "code",
      "metadata": {
        "id": "Ldy_Ncn2Zfww"
      },
      "source": [
        "cost=input(\"상품의 가격을 입력하세요: \")\n",
        "belong=input(\"구매를 위해 낼 돈의 금액을 입력하세요: \")\n",
        "rest=int(belong)-int(cost)\n",
        "print(\"상품은 \"+cost+\"원이고, 잔돈은 \"+str(rest)+\"원입니다\")"
      ],
      "execution_count": null,
      "outputs": []
    },
    {
      "cell_type": "markdown",
      "metadata": {
        "id": "FBK3mZmSZ1CH"
      },
      "source": [
        "**if문이란?**\n",
        "\n",
        "if 조건1: # if 조건문 뒤에는 반드시 콜론(:)을 붙임\n",
        "\n",
        "    수행할 문장1 # 들여쓰기(빈칸 4 : 스페이스바 띄움 4번)\n",
        "\n",
        "else:\n",
        "\n",
        "    수행할 문장2"
      ]
    },
    {
      "cell_type": "markdown",
      "metadata": {
        "id": "fSxfDsepaMD9"
      },
      "source": [
        "**비교연산자**\n",
        "\n",
        "X < y  X가 y보다 작다\n",
        "\n",
        "X > y  X가 y보다 크다\n",
        "\n",
        "X == y  X와 y가 같다\n",
        "\n",
        "X != y  X와 y가 같지 않다\n",
        "\n",
        "\n",
        "X >= y  X가 y보다 크거나 같다\n",
        "\n",
        "X <= y  X가 y보다 작거나 같다\n",
        "\n",
        "\n"
      ]
    },
    {
      "cell_type": "code",
      "metadata": {
        "id": "jnx8EGBHZfsU"
      },
      "source": [
        "money = True\n",
        "if money:\n",
        "  print(\"사과를 사라\")\n",
        "else:\n",
        "  print(\"바나나를 사라\")"
      ],
      "execution_count": null,
      "outputs": []
    },
    {
      "cell_type": "code",
      "metadata": {
        "id": "exKTvW4lZfkw"
      },
      "source": [
        "money = 5000\n",
        "if money >= 8000:\n",
        "  print(\"사과를 사라\")\n",
        "else:\n",
        "  print(\"바나나를 사라\")"
      ],
      "execution_count": null,
      "outputs": []
    },
    {
      "cell_type": "code",
      "metadata": {
        "id": "lF53e-dMZfgu"
      },
      "source": [
        "number = input(\"정수를 입력하세요: \")\n",
        "number = int(number)\n",
        "if number % 2 == 0:\n",
        "  print(\"짝수입니다.\")\n",
        "else:\n",
        "  print(\"홀수입니다.\")"
      ],
      "execution_count": null,
      "outputs": []
    },
    {
      "cell_type": "code",
      "metadata": {
        "id": "Tp3nOPImZfdQ",
        "outputId": "3e543ba5-e378-49b9-d63c-83020defdf40",
        "colab": {
          "base_uri": "https://localhost:8080/"
        }
      },
      "source": [
        "money = 5000\n",
        "card = True\n",
        "if money >= 8000 or card:\n",
        "  print(\"사과를 사라\")\n",
        "else:\n",
        "  print(\"바나나를 사라\")  "
      ],
      "execution_count": 87,
      "outputs": [
        {
          "output_type": "stream",
          "text": [
            "사과를 사라\n"
          ],
          "name": "stdout"
        }
      ]
    },
    {
      "cell_type": "code",
      "metadata": {
        "id": "ae_PSButZfZ4",
        "outputId": "653fc2f8-05e5-41a6-a0c4-6e0d47bb7f4d",
        "colab": {
          "base_uri": "https://localhost:8080/"
        }
      },
      "source": [
        "pocket = ['pen', 'phone']\n",
        "card = True\n",
        "if 'money' in pocket:\n",
        "  print(\"과일을 사라\")\n",
        "elif card:\n",
        "  print(\"과일을 사라\")\n",
        "else:\n",
        "  print(\"그냥 가라\")"
      ],
      "execution_count": 88,
      "outputs": [
        {
          "output_type": "stream",
          "text": [
            "과일을 사라\n"
          ],
          "name": "stdout"
        }
      ]
    },
    {
      "cell_type": "code",
      "metadata": {
        "id": "T95G56m2ZfVw"
      },
      "source": [
        "score = int(input(\"점수를 입력하시오: \"))\n",
        "if score >= 95:\n",
        "  grade = \"A+입니다.\"\n",
        "elif score >= 90:\n",
        "  grade = \"A0입니다.\"\n",
        "elif score >= 85:\n",
        "  grade = \"B+입니다.\"\n",
        "elif score >= 80:\n",
        "  grade = \"B0입니다.\"\n",
        "else:\n",
        "  grade = \"C0입니다.\"\n",
        "print(grade)"
      ],
      "execution_count": null,
      "outputs": []
    },
    {
      "cell_type": "markdown",
      "metadata": {
        "id": "n-R_R3zacohs"
      },
      "source": [
        "**예제**"
      ]
    },
    {
      "cell_type": "code",
      "metadata": {
        "id": "XOMyp9FdYULj"
      },
      "source": [
        "weight=input(\"당신의 몸무게는 몇 kg입니까?\")\n",
        "height=input(\"당신의 키는 몇 cm입니까?\")\n",
        "bmi=int(weight)/((int(height)*0.01)**2) \n",
        "if bmi < 18.5:\n",
        "  print(\"당신은 저체중입니다\")\n",
        "elif bmi < 22.9:\n",
        "  print(\"당신은 정상체중입니다\")\n",
        "elif bmi < 24.9:\n",
        "  print(\"당신은 과체중입니다\")\n",
        "elif bmi < 29.9:\n",
        "  print(\"당신은 경도비만입니다\")\n",
        "else:\n",
        "  print(\"당신은 고도비만입니다\")"
      ],
      "execution_count": null,
      "outputs": []
    },
    {
      "cell_type": "code",
      "metadata": {
        "id": "IcPJsV8tYUHs"
      },
      "source": [
        "print(bmi)"
      ],
      "execution_count": null,
      "outputs": []
    },
    {
      "cell_type": "markdown",
      "metadata": {
        "id": "Es-nafspdRDC"
      },
      "source": [
        "**while문이란?**"
      ]
    },
    {
      "cell_type": "code",
      "metadata": {
        "id": "CWcxcxafYUEZ"
      },
      "source": [
        "color = \"\"\"\n",
        "  1. red\n",
        "  2. yellow\n",
        "  3. blue\n",
        "  4. orange\n",
        "  Enter number: \"\"\"\n",
        "\n",
        "number = 0\n",
        "while number != 4: # number가 4가 아닌 동안 color를 출력하고  사용자로부터 번호를 입력 받음\n",
        "  print(color)\n",
        "  number = int(input())"
      ],
      "execution_count": null,
      "outputs": []
    },
    {
      "cell_type": "code",
      "metadata": {
        "id": "WTSVi48wdUeU"
      },
      "source": [
        "i = 0\n",
        "sum = 0\n",
        "while i < 10:\n",
        "  i = i + 1\n",
        "  sum = sum + i\n",
        "  \n",
        "print(sum) "
      ],
      "execution_count": null,
      "outputs": []
    },
    {
      "cell_type": "code",
      "metadata": {
        "id": "gDn8f8qwdUac"
      },
      "source": [
        "i = 0\n",
        "while i < 10:\n",
        "  i = i + 1\n",
        "  if i % 2 == 1:\n",
        "    print(i, end = \"  \")"
      ],
      "execution_count": null,
      "outputs": []
    },
    {
      "cell_type": "markdown",
      "metadata": {
        "id": "Zg0m6YYYeoJm"
      },
      "source": [
        "**break(while문 강제 종료)**"
      ]
    },
    {
      "cell_type": "code",
      "metadata": {
        "id": "3godADNwdUXl"
      },
      "source": [
        "egg = 5\n",
        "money = 500\n",
        "while money:\n",
        "  print(\"돈을 받고 계란을 준다.\")\n",
        "  egg = egg -1\n",
        "  print(\"남은 계란은 %d개입니다.\" % egg)\n",
        "  if egg == 0:\n",
        "    print(\"계란이 없습니다.\")\n",
        "    break"
      ],
      "execution_count": null,
      "outputs": []
    },
    {
      "cell_type": "markdown",
      "metadata": {
        "id": "INLRNhF2etvh"
      },
      "source": [
        "**continue**"
      ]
    },
    {
      "cell_type": "code",
      "metadata": {
        "id": "RXE5qiOYdUUd"
      },
      "source": [
        "a = 0\n",
        "while a < 10:\n",
        "  a = a + 1\n",
        "  if a % 2 == 0:\n",
        "    continue\n",
        "  print(a)"
      ],
      "execution_count": null,
      "outputs": []
    },
    {
      "cell_type": "markdown",
      "metadata": {
        "id": "zeXxo8WZe7DK"
      },
      "source": [
        "**for문이란?**\n",
        "\n",
        "for 변수 in 범위 또는 배열의 변수(리스트, 튜플, 문자열):\n",
        "\n",
        "      수행할 문장1\n",
        "\n",
        "      수행할 문장2\n",
        "\n",
        "      ..."
      ]
    },
    {
      "cell_type": "code",
      "metadata": {
        "id": "172QuAFvdURA"
      },
      "source": [
        "test_list = ['one', 'two', 'three']\n",
        "for i in test_list:\n",
        "  print(i)"
      ],
      "execution_count": null,
      "outputs": []
    },
    {
      "cell_type": "code",
      "metadata": {
        "id": "T04hZz1IdUJz"
      },
      "source": [
        "a = [(1,2), (3,4), (5,6)]\n",
        "for (first, last) in a:\n",
        "  print(first + last)"
      ],
      "execution_count": null,
      "outputs": []
    },
    {
      "cell_type": "code",
      "metadata": {
        "id": "ELLGWMa5dUF_"
      },
      "source": [
        "array = [35, 20, 56, 76, 65]\n",
        "for i in range(len(array)):\n",
        "  print(\"{}번째 데이터는 {}입니다.\".format(i, array[i]))"
      ],
      "execution_count": null,
      "outputs": []
    },
    {
      "cell_type": "code",
      "metadata": {
        "id": "znnXExmidUCi"
      },
      "source": [
        "avers = [80, 20, 65, 50, 90]\n",
        "num = 0\n",
        "for aver in avers:\n",
        "  num = num +1\n",
        "  if aver >= 60:\n",
        "    print(\"%d번은 합격입니다.\" % num)\n",
        "  else:\n",
        "   print(\"%d번은 불합격입니다.\" % num)"
      ],
      "execution_count": null,
      "outputs": []
    },
    {
      "cell_type": "markdown",
      "metadata": {
        "id": "6oAqxwtRgYV_"
      },
      "source": [
        "**예제**"
      ]
    },
    {
      "cell_type": "code",
      "metadata": {
        "id": "Zb2NjzBEdT_R"
      },
      "source": [
        "# while문\n",
        "number=int(input(\"정수를 입력하시오 : \"))\n",
        "i=1\n",
        "\n",
        "while i<10:\n",
        "  print(\"%d x %d = %d\" %(number, i, number*i))\n",
        "  i=i+1"
      ],
      "execution_count": null,
      "outputs": []
    },
    {
      "cell_type": "code",
      "metadata": {
        "id": "YGgxTmuSdT8I"
      },
      "source": [
        "# for문\n",
        "num=int(input(\"정수를 입력하시오 : \"))\n",
        "for i in range(1,10):\n",
        "  print(\"%d x %d = %d\" %(num,i,num*i))"
      ],
      "execution_count": null,
      "outputs": []
    },
    {
      "cell_type": "markdown",
      "metadata": {
        "id": "5ql8lA-nhQ-K"
      },
      "source": [
        "**함수**\n",
        "\n",
        "\n",
        " 입력 X 값에 대한 결과 Y 값을 반환(Return)하는 기능을 하나의 묶음으로 선언"
      ]
    },
    {
      "cell_type": "code",
      "metadata": {
        "id": "V_ArfdqThAln"
      },
      "source": [
        "def add(a, b) :\n",
        "  result = a + b\n",
        "  return result"
      ],
      "execution_count": 116,
      "outputs": []
    },
    {
      "cell_type": "code",
      "metadata": {
        "id": "OXpGzEXPhAYV"
      },
      "source": [
        "a = add(3,4)\n",
        "print(a)"
      ],
      "execution_count": null,
      "outputs": []
    },
    {
      "cell_type": "code",
      "metadata": {
        "id": "Q2sZm9jgdT5d"
      },
      "source": [
        "def say():\n",
        "  return \"Hi\""
      ],
      "execution_count": 119,
      "outputs": []
    },
    {
      "cell_type": "code",
      "metadata": {
        "id": "GlKfX8YHSVbg",
        "outputId": "585df051-bcbe-4faa-98af-0150ece525da",
        "colab": {
          "base_uri": "https://localhost:8080/"
        }
      },
      "source": [
        "a=say()\n",
        "print(a)"
      ],
      "execution_count": 120,
      "outputs": [
        {
          "output_type": "stream",
          "text": [
            "Hi\n"
          ],
          "name": "stdout"
        }
      ]
    },
    {
      "cell_type": "code",
      "metadata": {
        "id": "BOOKOghMHNtH"
      },
      "source": [
        "def add(a,b):\n",
        "  print(\"%d, %d의 합은 %d입니다.\" %(a,b,a+b))"
      ],
      "execution_count": 121,
      "outputs": []
    },
    {
      "cell_type": "code",
      "metadata": {
        "id": "U3mVRDtlhxSu"
      },
      "source": [
        "add(3,4)  # 결과값이 없는 함수는 호출해도 돌려주는 값이 없으며 출력만 해 줌\n"
      ],
      "execution_count": null,
      "outputs": []
    },
    {
      "cell_type": "code",
      "metadata": {
        "id": "gNNtIhARhw7i"
      },
      "source": [
        "a= add(3,4) # 하지만 a변수의 값을 출력해보면 None 출력\n",
        "print(a)    # 결과값이 없다’는 것은 변수가 지정이 되지 않는다는 의미\n"
      ],
      "execution_count": null,
      "outputs": []
    },
    {
      "cell_type": "code",
      "metadata": {
        "id": "o-DSNxZ_hw4Y"
      },
      "source": [
        "def say() :\n",
        "  print(‘Hi’)"
      ],
      "execution_count": null,
      "outputs": []
    },
    {
      "cell_type": "code",
      "metadata": {
        "id": "KBjjWfZlhw05"
      },
      "source": [
        "say() # 입력 인수를 받는 매개변수도 없고 return문도 없어 결과값도 없는 함수"
      ],
      "execution_count": null,
      "outputs": []
    },
    {
      "cell_type": "code",
      "metadata": {
        "id": "fZBtg1WeitEF"
      },
      "source": [
        "def swap(x, y) :\n",
        "  return y, x\n",
        "swap(1, 2)"
      ],
      "execution_count": null,
      "outputs": []
    },
    {
      "cell_type": "code",
      "metadata": {
        "id": "-s7unWNRis8o"
      },
      "source": [
        "def setValue(newValue):\n",
        "  x=newValue\n",
        "  \n",
        "retval = setValue(10)"
      ],
      "execution_count": 128,
      "outputs": []
    },
    {
      "cell_type": "code",
      "metadata": {
        "id": "E2OjZDNGisx8"
      },
      "source": [
        "print(retval)"
      ],
      "execution_count": null,
      "outputs": []
    },
    {
      "cell_type": "code",
      "metadata": {
        "id": "DbnoAhJNistn"
      },
      "source": [
        "def printUser(name, age = 18) :\n"
      ],
      "execution_count": 131,
      "outputs": []
    },
    {
      "cell_type": "code",
      "metadata": {
        "id": "sJ_94xr4jUGQ"
      },
      "source": [
        "printUser(\"홍길동\",55) # name, age인수가 입력되면 그대로 출력"
      ],
      "execution_count": null,
      "outputs": []
    },
    {
      "cell_type": "code",
      "metadata": {
        "id": "k3vUXCH2jZuo"
      },
      "source": [
        "printUser(\"홍길동\")"
      ],
      "execution_count": null,
      "outputs": []
    },
    {
      "cell_type": "code",
      "metadata": {
        "id": "_jjBlVeyjZpV"
      },
      "source": [
        "def printUser(age = 18, name): # 디폴트 매개변수 다음에 일반 매개변수가 오면 오류 발생\n",
        "  print(\"이름 : \" + name)\n",
        "  print(\"나이 : \" + str(age))\n",
        "  return"
      ],
      "execution_count": null,
      "outputs": []
    },
    {
      "cell_type": "markdown",
      "metadata": {
        "id": "JXQu6Y-2kEzw"
      },
      "source": [
        "**가변개수 매개변수(여러 개의 입력값을 받는 함수 만들기)**"
      ]
    },
    {
      "cell_type": "code",
      "metadata": {
        "id": "ysDrnkzbjZlW"
      },
      "source": [
        "def sum_many(*args): \n",
        "  sum = 0\n",
        "  for i in args: # args에 입력받은 모든 값을 더한다\n",
        "      sum = sum + i\n",
        "  return sum"
      ],
      "execution_count": 138,
      "outputs": []
    },
    {
      "cell_type": "code",
      "metadata": {
        "id": "TOEtdb7BjZiG"
      },
      "source": [
        "result = sum_many(1,2,3)\n",
        "print(result)"
      ],
      "execution_count": null,
      "outputs": []
    },
    {
      "cell_type": "code",
      "metadata": {
        "id": "nOAccxjhjZe7"
      },
      "source": [
        "result=sum_many(1,2,3,4,5,6,7,8,9,10)\n",
        "print(result)"
      ],
      "execution_count": null,
      "outputs": []
    },
    {
      "cell_type": "code",
      "metadata": {
        "id": "ioNMS7Knktw4"
      },
      "source": [
        "# 익명 함수\n",
        "add2 = lambda v1, v2 : v1 + v2\n",
        "sum = add2(4, 5)\n",
        "print(sum)"
      ],
      "execution_count": null,
      "outputs": []
    },
    {
      "cell_type": "markdown",
      "metadata": {
        "id": "cgGjuwlAk06r"
      },
      "source": [
        "예제"
      ]
    },
    {
      "cell_type": "code",
      "metadata": {
        "id": "7IIZ2Ue1k1uh"
      },
      "source": [
        "def FtoC(temp_f):\n",
        "  temp_c = (5 * (temp_f - 32)) / 9\n",
        "  return temp_c"
      ],
      "execution_count": 142,
      "outputs": []
    },
    {
      "cell_type": "code",
      "metadata": {
        "id": "m46cwV-tk74Z"
      },
      "source": [
        "temp_f = float(input(\"화씨온도를 입력하시오: \"))\n",
        "print(FtoC(temp_f))"
      ],
      "execution_count": null,
      "outputs": []
    },
    {
      "cell_type": "markdown",
      "metadata": {
        "id": "SLPjruZylU4m"
      },
      "source": [
        "**모듈 내의 함수 불러 오기**"
      ]
    },
    {
      "cell_type": "code",
      "metadata": {
        "id": "_eaEuC3ZlF7f"
      },
      "source": [
        "from math import factorial\n",
        "n=factorial(5)\n",
        "n"
      ],
      "execution_count": null,
      "outputs": []
    },
    {
      "cell_type": "code",
      "metadata": {
        "id": "Kb-Pcr_7lF0b"
      },
      "source": [
        "from math import (factorial,acos)\n",
        "n=factorial(3)+acos(1)\n",
        "n"
      ],
      "execution_count": null,
      "outputs": []
    },
    {
      "cell_type": "code",
      "metadata": {
        "id": "fCqCN-IFlFr3"
      },
      "source": [
        "from math import *\n",
        "n=sqrt(5)+abs(-12.5)\n",
        "n"
      ],
      "execution_count": null,
      "outputs": []
    },
    {
      "cell_type": "code",
      "metadata": {
        "id": "1dM74TbqlFmb"
      },
      "source": [
        "from math import factorial as f\n",
        "n=f(5)/f(3)\n",
        "n"
      ],
      "execution_count": null,
      "outputs": []
    },
    {
      "cell_type": "code",
      "metadata": {
        "id": "DjrL6p7rlFjL"
      },
      "source": [
        ""
      ],
      "execution_count": null,
      "outputs": []
    },
    {
      "cell_type": "code",
      "metadata": {
        "id": "70mEt5bolFfK"
      },
      "source": [
        ""
      ],
      "execution_count": null,
      "outputs": []
    },
    {
      "cell_type": "code",
      "metadata": {
        "id": "-K0M2wH4lFbn"
      },
      "source": [
        ""
      ],
      "execution_count": null,
      "outputs": []
    }
  ]
}