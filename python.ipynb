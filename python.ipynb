{
  "nbformat": 4,
  "nbformat_minor": 0,
  "metadata": {
    "colab": {
      "name": "Untitled1.ipynb",
      "provenance": [],
      "include_colab_link": true
    },
    "kernelspec": {
      "name": "python3",
      "display_name": "Python 3"
    },
    "language_info": {
      "name": "python"
    }
  },
  "cells": [
    {
      "cell_type": "markdown",
      "metadata": {
        "id": "view-in-github",
        "colab_type": "text"
      },
      "source": [
        "<a href=\"https://colab.research.google.com/github/JSJeong-me/SEMICON-BigData/blob/main/python.ipynb\" target=\"_parent\"><img src=\"https://colab.research.google.com/assets/colab-badge.svg\" alt=\"Open In Colab\"/></a>"
      ]
    },
    {
      "cell_type": "markdown",
      "metadata": {
        "id": "QxBLxVT2FDV8"
      },
      "source": [
        "과정 목표: 파이썬 이해, 데이터 수집 및 정제, 데이터 시각화, 통계의 이해까지이며 내용으로는 Pandas활용, 시각화, 통계적 가설검정"
      ]
    },
    {
      "cell_type": "markdown",
      "metadata": {
        "id": "_qjQKYBADv9H"
      },
      "source": [
        "Computer Program는\n",
        "\n",
        "Mathmatics Notation 과 NLP 사이"
      ]
    },
    {
      "cell_type": "markdown",
      "metadata": {
        "id": "bwGKbkrfEezH"
      },
      "source": [
        "Python\n",
        "platform — 하부 플랫폼의 식별 데이터에 대한 액세스"
      ]
    },
    {
      "cell_type": "code",
      "metadata": {
        "id": "XhAerIjzEd_5"
      },
      "source": [
        "# https://docs.python.org/ko/3/library/platform.html\n",
        "\n",
        "import platform"
      ],
      "execution_count": 2,
      "outputs": []
    },
    {
      "cell_type": "code",
      "metadata": {
        "id": "YdyciqhEDu4e"
      },
      "source": [
        "platform.processor()"
      ],
      "execution_count": null,
      "outputs": []
    },
    {
      "cell_type": "code",
      "metadata": {
        "id": "qQ_kGSGTFSVm"
      },
      "source": [
        "platform.python_version()"
      ],
      "execution_count": null,
      "outputs": []
    },
    {
      "cell_type": "code",
      "metadata": {
        "id": "7pIngEH5FYLS"
      },
      "source": [
        "platform.system()"
      ],
      "execution_count": null,
      "outputs": []
    },
    {
      "cell_type": "code",
      "metadata": {
        "id": "KmrTb0GCFv2L"
      },
      "source": [
        "platform.python_build()"
      ],
      "execution_count": null,
      "outputs": []
    },
    {
      "cell_type": "code",
      "metadata": {
        "id": "pjkW-1MCHLCc"
      },
      "source": [
        ""
      ],
      "execution_count": null,
      "outputs": []
    },
    {
      "cell_type": "markdown",
      "metadata": {
        "id": "vW5-AJVuHh-X"
      },
      "source": [
        "문자열 인덱싱과 슬라이싱"
      ]
    },
    {
      "cell_type": "code",
      "metadata": {
        "id": "QH65uXH9Hgjk"
      },
      "source": [
        "a = \"Hello World!\""
      ],
      "execution_count": 15,
      "outputs": []
    },
    {
      "cell_type": "code",
      "metadata": {
        "id": "I53ccrm0Hp5n"
      },
      "source": [
        "a[0]"
      ],
      "execution_count": null,
      "outputs": []
    },
    {
      "cell_type": "code",
      "metadata": {
        "id": "xhqfoRYeHtiZ"
      },
      "source": [
        "a[-1]"
      ],
      "execution_count": null,
      "outputs": []
    },
    {
      "cell_type": "code",
      "metadata": {
        "id": "XRXv_usKHy__"
      },
      "source": [
        "a[2:-1]"
      ],
      "execution_count": null,
      "outputs": []
    },
    {
      "cell_type": "code",
      "metadata": {
        "id": "_jbZu2ZVH6qL"
      },
      "source": [
        "a[2:]"
      ],
      "execution_count": null,
      "outputs": []
    },
    {
      "cell_type": "code",
      "metadata": {
        "id": "CHuLfR8OM-tL"
      },
      "source": [
        ""
      ],
      "execution_count": null,
      "outputs": []
    },
    {
      "cell_type": "markdown",
      "metadata": {
        "id": "P7mw9y-UIH0l"
      },
      "source": [
        "문자열 포맷팅 : %"
      ]
    },
    {
      "cell_type": "markdown",
      "metadata": {
        "id": "RIJnfJ9xIkXg"
      },
      "source": [
        "%s는 'string'의 첫 글자로서 문자열을 의미\n",
        "%c는 'character'의 첫 글자로서 문자 1개를 의미\n",
        "%d는 'digit'의 첫 글자로 정수형 숫자를 의미\n",
        "%f는 'floating point'의 첫 글자로서 실수형 숫자를 의미\n"
      ]
    },
    {
      "cell_type": "code",
      "metadata": {
        "id": "59dvbTSWIzCc"
      },
      "source": [
        "kor = 90\n",
        "eng = 100\n",
        "math = 85\n",
        "sum = kor + eng + math\n",
        "avg = sum/3\n",
        "print('합계 : %d, 평균 : %.2f' % (sum, avg))"
      ],
      "execution_count": null,
      "outputs": []
    },
    {
      "cell_type": "code",
      "metadata": {
        "cellView": "code",
        "id": "DMTQybFzIAuo"
      },
      "source": [
        "#@title 기본 제목 텍스트\n",
        "color = '파랑'\n",
        "s = '나는 %s을 좋아합니다.' %color # %s에 color값(파랑)을 대입\n",
        "s"
      ],
      "execution_count": 26,
      "outputs": []
    },
    {
      "cell_type": "code",
      "metadata": {
        "id": "9ik2Och3JNSt"
      },
      "source": [
        "a = \"%10s\" % \"hi\"\n",
        "print(a)"
      ],
      "execution_count": null,
      "outputs": []
    },
    {
      "cell_type": "code",
      "metadata": {
        "id": "7WCqRbrOJYbe"
      },
      "source": [
        "a = \"%-10s\" % \"hi\"\n",
        "print(a)"
      ],
      "execution_count": null,
      "outputs": []
    },
    {
      "cell_type": "code",
      "metadata": {
        "id": "KSxHPWm0JpW2"
      },
      "source": [
        "a = \"%0.4f\" % 3.42134234\n",
        "print(a)"
      ],
      "execution_count": null,
      "outputs": []
    },
    {
      "cell_type": "code",
      "metadata": {
        "id": "kbvuK1XeJyn5"
      },
      "source": [
        "number = 4\n",
        "a = \"I want {0} eggs\".format(number)\n",
        "print(a)"
      ],
      "execution_count": null,
      "outputs": []
    },
    {
      "cell_type": "code",
      "metadata": {
        "id": "Y5HPIZ0WJ9Rb"
      },
      "source": [
        "color = \"white\"\n",
        "day = \"ten\"\n",
        "a = \"I like {0} eggs. so I ate them for {1} days.\".format(color, day)\n",
        "print(a)"
      ],
      "execution_count": null,
      "outputs": []
    },
    {
      "cell_type": "code",
      "metadata": {
        "id": "Auj0LzbkJ_Hq"
      },
      "source": [
        "a = \" I like {color} eggs. so I ate them for {day} days.\".format(color= \"white\" , day=10)\n",
        "print(a)"
      ],
      "execution_count": null,
      "outputs": []
    },
    {
      "cell_type": "code",
      "metadata": {
        "id": "lg5JWg4sKD-q"
      },
      "source": [
        "message = '안녕하세요!'\n",
        "str_len = len(message) # message 문자열의 길이\n",
        "print('문자열의 길이 : ' + str(str_len))"
      ],
      "execution_count": null,
      "outputs": []
    },
    {
      "cell_type": "code",
      "metadata": {
        "id": "5FjzEEQPKPFn"
      },
      "source": [
        "a = \"happy\"\n",
        "c = a.count('p') # happy 문자열에서 p는 몇 개인지 세기\n",
        "print(c)"
      ],
      "execution_count": null,
      "outputs": []
    },
    {
      "cell_type": "code",
      "metadata": {
        "id": "-9wD1ka1KobX"
      },
      "source": [
        "a = \"I like egg\"\n",
        "f = a.find('e') # 문자열 중 e가 처음 나온 위치 반환\n",
        "print(f)"
      ],
      "execution_count": null,
      "outputs": []
    },
    {
      "cell_type": "code",
      "metadata": {
        "id": "Xj1sCAnDK2kT"
      },
      "source": [
        "f = a.find('s') # 찾는 문자나 문자열이 존재하지 않는다면 -1을 반환\n",
        "print(f)"
      ],
      "execution_count": null,
      "outputs": []
    },
    {
      "cell_type": "code",
      "metadata": {
        "id": "TJ4K878yLEAY"
      },
      "source": [
        "a = \"Life is too short\"\n",
        "i = a.index('t') # 문자열 중 t가 처음 나온 위치 반환\n",
        "print(i)"
      ],
      "execution_count": null,
      "outputs": []
    },
    {
      "cell_type": "code",
      "metadata": {
        "id": "k9vr4djTJ80s"
      },
      "source": [
        "a = \"Life is too short\"\n",
        "i = a.index('k') # 문자열 안에서 찾고자 하는 문자를 찾지 못하면 오류 발생\n",
        "print(i)"
      ],
      "execution_count": null,
      "outputs": []
    },
    {
      "cell_type": "code",
      "metadata": {
        "id": "Y5sWWPS5LZj_"
      },
      "source": [
        "j = \",\".join('abcd') # abcd 문자열의 각각의 문자 사이에 ',' 를 삽입\n",
        "print(j)"
      ],
      "execution_count": null,
      "outputs": []
    },
    {
      "cell_type": "code",
      "metadata": {
        "id": "dWRMCRnTLZa5"
      },
      "source": [
        "a = \"HI\"\n",
        "T = a.upper()\n",
        "t = a.lower()\n",
        "print(t, T)\n"
      ],
      "execution_count": null,
      "outputs": []
    },
    {
      "cell_type": "code",
      "metadata": {
        "id": "8kydk6jnLZQe"
      },
      "source": [
        "a = \" hi \"\n",
        "l = a.lstrip()\n",
        "print(l)"
      ],
      "execution_count": null,
      "outputs": []
    },
    {
      "cell_type": "code",
      "metadata": {
        "id": "Va9SJqnfMWdu"
      },
      "source": [
        "a= \" hi \"\n",
        "r = a.rstrip()\n",
        "print(r)"
      ],
      "execution_count": null,
      "outputs": []
    },
    {
      "cell_type": "code",
      "metadata": {
        "id": "NpUXKFLQLZAr"
      },
      "source": [
        "a = \" hi \"\n",
        "s = a.strip()\n",
        "print(s)"
      ],
      "execution_count": null,
      "outputs": []
    },
    {
      "cell_type": "code",
      "metadata": {
        "id": "TRw8gX9OMcdX"
      },
      "source": [
        "a = \"aaaaHello Pythonaaa\"\n",
        "l = a.lstrip('a')\n",
        "print(l)"
      ],
      "execution_count": null,
      "outputs": []
    },
    {
      "cell_type": "code",
      "metadata": {
        "id": "b_DDviN6McZ3"
      },
      "source": [
        "a= \"aaaaHello Pythonaaa\"\n",
        "r = a.rstrip('a')\n",
        "print(r)"
      ],
      "execution_count": null,
      "outputs": []
    },
    {
      "cell_type": "code",
      "metadata": {
        "id": "QszVe1CGMcWP"
      },
      "source": [
        "a = \"aaaaHello Pythonaaa\"\n",
        "s = a.strip('a')\n",
        "print(s)\n",
        "s"
      ],
      "execution_count": null,
      "outputs": []
    },
    {
      "cell_type": "code",
      "metadata": {
        "id": "o2i0NytcMcSU"
      },
      "source": [
        "a = \"Life is bad\"\n",
        "s = a.replace(\"bad\", \"good\")\n",
        "print(s)"
      ],
      "execution_count": null,
      "outputs": []
    },
    {
      "cell_type": "code",
      "metadata": {
        "id": "mpDFk8glMcOt"
      },
      "source": [
        "a = \"Life is good\"\n",
        "s = a.split() # 공백을 구분자로 문자열을 나눔\n",
        "print(s)"
      ],
      "execution_count": null,
      "outputs": []
    },
    {
      "cell_type": "code",
      "metadata": {
        "id": "xDwwiVN1Oxc9"
      },
      "source": [
        "type(a)"
      ],
      "execution_count": null,
      "outputs": []
    },
    {
      "cell_type": "code",
      "metadata": {
        "id": "og9SSohdMcHR"
      },
      "source": [
        "type(s)"
      ],
      "execution_count": null,
      "outputs": []
    },
    {
      "cell_type": "code",
      "metadata": {
        "id": "Fo4LYOJzMb9D"
      },
      "source": [
        "b = \"a:b:c:d\"\n",
        "s = b.split(':') # ':' 값을 구분자로 문자열을 나눔\n",
        "print(s)"
      ],
      "execution_count": null,
      "outputs": []
    },
    {
      "cell_type": "markdown",
      "metadata": {
        "id": "LFrPR7UAPStn"
      },
      "source": [
        "List ndarray Sereis DataFrame"
      ]
    },
    {
      "cell_type": "code",
      "metadata": {
        "id": "91XITEG2O7bt"
      },
      "source": [
        "score = [90, 89, 77, 95, 67] # score 변수에 숫자로 된 리스트형의 값을 저장\n",
        "fruit = ['apple', 'banana', 'orange'] # fruit 변수에 문자열로 된 리스트형의 값을 저장\n",
        "print(score)"
      ],
      "execution_count": null,
      "outputs": []
    },
    {
      "cell_type": "code",
      "metadata": {
        "id": "k5pzPE3DP0Ri"
      },
      "source": [
        "print(fruit)"
      ],
      "execution_count": null,
      "outputs": []
    },
    {
      "cell_type": "code",
      "metadata": {
        "id": "g6nFYsNlO7WR"
      },
      "source": [
        "color = ['red', 'green', 'blue', 'black', 'white'] # 가장 왼쪽부터 0번째 값임\n",
        "print(color[4]) "
      ],
      "execution_count": null,
      "outputs": []
    },
    {
      "cell_type": "code",
      "metadata": {
        "id": "m-Hqd4d0O7R0"
      },
      "source": [
        "print(color[1:4])"
      ],
      "execution_count": null,
      "outputs": []
    },
    {
      "cell_type": "code",
      "metadata": {
        "id": "TDvo82wnO7LT"
      },
      "source": [
        "a = [1, 2, 3, ['a', 'b', 'c'], 4, 5]\n",
        "print(a[2:5]) # a변수에서 2번 index에서 4번 index까지 출력"
      ],
      "execution_count": null,
      "outputs": []
    },
    {
      "cell_type": "code",
      "metadata": {
        "id": "6OFzT8y4O7Hp"
      },
      "source": [
        "print(a[3][:2])"
      ],
      "execution_count": null,
      "outputs": []
    },
    {
      "cell_type": "code",
      "metadata": {
        "id": "FD7e5kz9O68u"
      },
      "source": [
        "num = list(range(1,21, 2)) # 1부터 20까지 2씩 증가하는 데이터 생성\n",
        "print(num)"
      ],
      "execution_count": null,
      "outputs": []
    },
    {
      "cell_type": "code",
      "metadata": {
        "id": "ic6J_FnEO606"
      },
      "source": [
        "print(num[3:7])"
      ],
      "execution_count": null,
      "outputs": []
    },
    {
      "cell_type": "markdown",
      "metadata": {
        "id": "fPKdgZcWQwxS"
      },
      "source": [
        " 리스트 연산하기"
      ]
    },
    {
      "cell_type": "code",
      "metadata": {
        "id": "wzhUsz0EMbv1"
      },
      "source": [
        "a = [1, 2, 3]\n",
        "b = [4, 5, 6]\n",
        "print(a + b)"
      ],
      "execution_count": null,
      "outputs": []
    },
    {
      "cell_type": "code",
      "metadata": {
        "id": "--JbdxzFQ2vm"
      },
      "source": [
        "a = [1, 2, 3]\n",
        "print(a * 3)"
      ],
      "execution_count": null,
      "outputs": []
    },
    {
      "cell_type": "code",
      "metadata": {
        "id": "T8k4WaR5Q2r3"
      },
      "source": [
        "a = [1, 2, 3]\n",
        "print(len(a))"
      ],
      "execution_count": null,
      "outputs": []
    },
    {
      "cell_type": "code",
      "metadata": {
        "id": "ZIVUIq8mQ2pC"
      },
      "source": [
        "a = [1, 2, 3]\n",
        "a[2] = 4 # a의 3번째 값에 4를 저장\n",
        "print(a)"
      ],
      "execution_count": null,
      "outputs": []
    },
    {
      "cell_type": "code",
      "metadata": {
        "id": "omwiWwUYQ2ia"
      },
      "source": [
        "a = [1, 2, 3]\n",
        "del a[1] # a의 2번째 값을 삭제\n",
        "print(a)"
      ],
      "execution_count": null,
      "outputs": []
    },
    {
      "cell_type": "code",
      "metadata": {
        "id": "rLbv0JmhQ2dR"
      },
      "source": [
        "a = [1, 2, 3, 4, 5]\n",
        "del a[2:] # a의 3번째 값부터 삭제\n",
        "print(a)"
      ],
      "execution_count": null,
      "outputs": []
    },
    {
      "cell_type": "code",
      "metadata": {
        "id": "80x9hCQVQ2Yw",
        "outputId": "7679ed33-63c8-4e81-cad8-e329c97c0034",
        "colab": {
          "base_uri": "https://localhost:8080/"
        }
      },
      "source": [
        "a = [1, 2, 3]\n",
        "a.append(4) # a의 값에 4를 추가\n",
        "print(a)"
      ],
      "execution_count": 95,
      "outputs": [
        {
          "output_type": "stream",
          "text": [
            "[1, 2, 3, 4]\n"
          ],
          "name": "stdout"
        }
      ]
    },
    {
      "cell_type": "code",
      "metadata": {
        "id": "yGPQOdARQ2K1"
      },
      "source": [
        "a.append([5,6]) # a의 값에 [5,6] 리스트를 추가\n",
        "print(a)"
      ],
      "execution_count": null,
      "outputs": []
    },
    {
      "cell_type": "code",
      "metadata": {
        "id": "_5DOO8uhQ1sc"
      },
      "source": [
        "a = [1, 2, 3]\n",
        "a.insert(0, 4) # insert(a, b)는 리스트의 a번째 위치에 b를 삽입\n",
        "print(a)"
      ],
      "execution_count": null,
      "outputs": []
    },
    {
      "cell_type": "code",
      "metadata": {
        "id": "ZhcPKAFtRmk6"
      },
      "source": [
        "a = [1, 2, 3, 1, 2, 3]\n",
        "a.remove(3) # remove(x)는 리스트에서 첫 번째로 나오는 x를 삭제\n",
        "print(a)"
      ],
      "execution_count": null,
      "outputs": []
    },
    {
      "cell_type": "code",
      "metadata": {
        "id": "L3KQOK-vRmhM",
        "outputId": "0b6ef68d-c85b-4f25-86da-858703286b2e",
        "colab": {
          "base_uri": "https://localhost:8080/"
        }
      },
      "source": [
        "a = [1,2,3]\n",
        "print(a.pop()) # pop()은 리스트의 맨 마지막 요소를 돌려주고 그 요소는 삭제"
      ],
      "execution_count": 102,
      "outputs": [
        {
          "output_type": "stream",
          "text": [
            "3\n"
          ],
          "name": "stdout"
        }
      ]
    },
    {
      "cell_type": "code",
      "metadata": {
        "id": "lHAnzEsGRmfO",
        "outputId": "f0ee4d8c-020c-4efb-990b-37db18e9bae2",
        "colab": {
          "base_uri": "https://localhost:8080/"
        }
      },
      "source": [
        "a"
      ],
      "execution_count": 103,
      "outputs": [
        {
          "output_type": "execute_result",
          "data": {
            "text/plain": [
              "[1, 2]"
            ]
          },
          "metadata": {
            "tags": []
          },
          "execution_count": 103
        }
      ]
    },
    {
      "cell_type": "code",
      "metadata": {
        "id": "pGWU-x6kRmXL",
        "outputId": "f7cdad8e-55f5-4c8c-f2c1-a6e2f66e604d",
        "colab": {
          "base_uri": "https://localhost:8080/"
        }
      },
      "source": [
        "b = [1,2,3]\n",
        "print(b.pop(1)) # pop(x)는 리스트의 x번째 요소를 돌려주고 그 요소는 삭제"
      ],
      "execution_count": 104,
      "outputs": [
        {
          "output_type": "stream",
          "text": [
            "2\n"
          ],
          "name": "stdout"
        }
      ]
    },
    {
      "cell_type": "code",
      "metadata": {
        "id": "ruRoYTFfRmKK",
        "outputId": "21d2b1ea-8a96-4617-b90d-c51ae056f96b",
        "colab": {
          "base_uri": "https://localhost:8080/"
        }
      },
      "source": [
        "print(b)"
      ],
      "execution_count": 105,
      "outputs": [
        {
          "output_type": "stream",
          "text": [
            "[1, 3]\n"
          ],
          "name": "stdout"
        }
      ]
    },
    {
      "cell_type": "code",
      "metadata": {
        "id": "GACZ_klWSWKn"
      },
      "source": [
        ""
      ],
      "execution_count": null,
      "outputs": []
    },
    {
      "cell_type": "code",
      "metadata": {
        "id": "MyAzyYFfSV7i"
      },
      "source": [
        ""
      ],
      "execution_count": null,
      "outputs": []
    },
    {
      "cell_type": "code",
      "metadata": {
        "id": "Hw8qMw_9SV2F"
      },
      "source": [
        ""
      ],
      "execution_count": null,
      "outputs": []
    },
    {
      "cell_type": "code",
      "metadata": {
        "id": "-oXkfCHqSVyr"
      },
      "source": [
        ""
      ],
      "execution_count": null,
      "outputs": []
    },
    {
      "cell_type": "code",
      "metadata": {
        "id": "55rfLsIhSViu"
      },
      "source": [
        ""
      ],
      "execution_count": null,
      "outputs": []
    },
    {
      "cell_type": "code",
      "metadata": {
        "id": "GlKfX8YHSVbg"
      },
      "source": [
        ""
      ],
      "execution_count": null,
      "outputs": []
    },
    {
      "cell_type": "markdown",
      "metadata": {
        "id": "b1et8piWHO7W"
      },
      "source": [
        "\n",
        "\n"
      ]
    },
    {
      "cell_type": "code",
      "metadata": {
        "id": "BOOKOghMHNtH"
      },
      "source": [
        ""
      ],
      "execution_count": null,
      "outputs": []
    },
    {
      "cell_type": "code",
      "metadata": {
        "id": "KYhJo4FOBSs0"
      },
      "source": [
        "import pandas as pd"
      ],
      "execution_count": null,
      "outputs": []
    },
    {
      "cell_type": "markdown",
      "metadata": {
        "id": "j5FX29mqBP5t"
      },
      "source": [
        ""
      ]
    },
    {
      "cell_type": "markdown",
      "metadata": {
        "id": "AeVE-larBP-X"
      },
      "source": [
        ""
      ]
    },
    {
      "cell_type": "markdown",
      "metadata": {
        "id": "LY3aRxwTBQAX"
      },
      "source": [
        ""
      ]
    },
    {
      "cell_type": "markdown",
      "metadata": {
        "id": "Z2dj-DoXBQCG"
      },
      "source": [
        ""
      ]
    }
  ]
}