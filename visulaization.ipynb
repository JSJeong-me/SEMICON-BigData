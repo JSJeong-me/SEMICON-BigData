{
  "nbformat": 4,
  "nbformat_minor": 0,
  "metadata": {
    "colab": {
      "name": "Untitled3.ipynb",
      "provenance": [],
      "authorship_tag": "ABX9TyNcHwqYk7A7RbXn4a6UnsdQ",
      "include_colab_link": true
    },
    "kernelspec": {
      "name": "python3",
      "display_name": "Python 3"
    },
    "language_info": {
      "name": "python"
    }
  },
  "cells": [
    {
      "cell_type": "markdown",
      "metadata": {
        "id": "view-in-github",
        "colab_type": "text"
      },
      "source": [
        "<a href=\"https://colab.research.google.com/github/JSJeong-me/SEMICON-BigData/blob/main/visulaization.ipynb\" target=\"_parent\"><img src=\"https://colab.research.google.com/assets/colab-badge.svg\" alt=\"Open In Colab\"/></a>"
      ]
    },
    {
      "cell_type": "markdown",
      "metadata": {
        "id": "BbpqHbSl1JNn"
      },
      "source": [
        "**Visualization**"
      ]
    },
    {
      "cell_type": "code",
      "metadata": {
        "id": "t-0rhFyk1H7G"
      },
      "source": [
        "# 데이터 처리 패키지\n",
        "import pandas as pd\n",
        "# 행렬 연산 패키지\n",
        "import numpy as np\n",
        "# 데이터 시각화 패키지\n",
        "import matplotlib\n",
        "import matplotlib.pyplot as plt\n",
        "import seaborn as sns\n",
        "194\n",
        "# 경고 메시지 처리\n",
        "import warnings"
      ],
      "execution_count": 1,
      "outputs": []
    },
    {
      "cell_type": "code",
      "metadata": {
        "id": "QusW9OVL1gQR"
      },
      "source": [
        "# 한글설치 (윈도우 버전)\n",
        "matplotlib.rc('font', family=\"Malgun Gothic\")\n",
        "# 음수 표시\n",
        "matplotlib.rc('axes', unicode_minus=False)\n",
        "# 실행결과 경고메시지 출력 제외\n",
        "warnings.filterwarnings('ignore')"
      ],
      "execution_count": 2,
      "outputs": []
    },
    {
      "cell_type": "code",
      "metadata": {
        "id": "0Cen1q2TTW8T"
      },
      "source": [
        "path = \"./\""
      ],
      "execution_count": 3,
      "outputs": []
    },
    {
      "cell_type": "code",
      "metadata": {
        "id": "qBlNDAU91rSu"
      },
      "source": [
        "df_fitness = pd.read_csv(\"health.csv\", encoding =\"euc-kr\")"
      ],
      "execution_count": 4,
      "outputs": []
    },
    {
      "cell_type": "code",
      "metadata": {
        "id": "nwFLDqU91_Jo"
      },
      "source": [
        ""
      ],
      "execution_count": null,
      "outputs": []
    },
    {
      "cell_type": "code",
      "metadata": {
        "id": "tQ1mZ-Ld2BKW"
      },
      "source": [
        "df_currency = pd.read_csv(\"exchange.csv\", parse_dates = [\"APPL_DATE\"])"
      ],
      "execution_count": 5,
      "outputs": []
    },
    {
      "cell_type": "code",
      "metadata": {
        "id": "krYMDUJ9UTGg"
      },
      "source": [
        "df_currency.head()"
      ],
      "execution_count": null,
      "outputs": []
    },
    {
      "cell_type": "code",
      "metadata": {
        "id": "4JtHbYTzUTDX"
      },
      "source": [
        "df_count = df_fitness[\"GENDER\"].value_counts()\n",
        "df_count.plot.bar()"
      ],
      "execution_count": null,
      "outputs": []
    },
    {
      "cell_type": "code",
      "metadata": {
        "id": "b9CXtpY7US_Z"
      },
      "source": [
        "df_count = df_fitness[\"AGEGROUP\"].value_counts()\n",
        "# sort_index(inplace = True) : 정렬 결과를 저장\n",
        "df_count.sort_index(inplace = True)"
      ],
      "execution_count": 8,
      "outputs": []
    },
    {
      "cell_type": "code",
      "metadata": {
        "id": "IBoX7kJ0US8R"
      },
      "source": [
        "df_count.plot.bar()"
      ],
      "execution_count": null,
      "outputs": []
    },
    {
      "cell_type": "code",
      "metadata": {
        "id": "xGtTFw3WUS5A"
      },
      "source": [
        "df_groupby_total = df_fitness.groupby([\"GENDER\", \"AGEGROUP\"]).size()\n",
        "df_groupby_total.plot.bar()"
      ],
      "execution_count": null,
      "outputs": []
    },
    {
      "cell_type": "code",
      "metadata": {
        "id": "Vwm-nU2TUS1-"
      },
      "source": [
        "# 누적 막대 그래프\n",
        "df_groupby_total = df_fitness.groupby([\"GENDER\", \"AGEGROUP\"], as_index = False)['WEIGHT'].agg('count')\n",
        "df_pivot = df_groupby_total.pivot(\"AGEGROUP\", \"GENDER\", \"WEIGHT\")\n",
        "df_pivot.plot(kind = 'barh', stacked = True)"
      ],
      "execution_count": null,
      "outputs": []
    },
    {
      "cell_type": "code",
      "metadata": {
        "id": "PlFxErGUUSy5"
      },
      "source": [
        "df_pivot_norm = df_pivot.div(df_pivot.sum(1), axis = 0)\n",
        "df_pivot_norm.plot(kind = 'barh', stacked = True)"
      ],
      "execution_count": null,
      "outputs": []
    },
    {
      "cell_type": "code",
      "metadata": {
        "id": "sf66Oc09USvy"
      },
      "source": [
        "# matplotlib 활용\n",
        "plt.hist(df_fitness[\"OXY\"])"
      ],
      "execution_count": null,
      "outputs": []
    },
    {
      "cell_type": "code",
      "metadata": {
        "id": "umt_J5-CUSrh"
      },
      "source": [
        "# pandas 활용\n",
        "df_fitness[\"OXY\"].hist()"
      ],
      "execution_count": null,
      "outputs": []
    },
    {
      "cell_type": "code",
      "metadata": {
        "id": "7AmyiXHsUSg7"
      },
      "source": [
        "# seaborn 활용\n",
        "sns.displot(df_fitness, x = \"OXY\")"
      ],
      "execution_count": null,
      "outputs": []
    },
    {
      "cell_type": "code",
      "metadata": {
        "id": "dr3CT19iWSUu"
      },
      "source": [
        "sns.histplot(data = df_fitness, x = 'OXY', kde = True)"
      ],
      "execution_count": null,
      "outputs": []
    },
    {
      "cell_type": "code",
      "metadata": {
        "id": "0mLDuu3zWSRP"
      },
      "source": [
        "# pandas 활용\n",
        "# figsize = (x축 크기, y축 크기)\n",
        "df_fitness.hist(figsize = (10,7))"
      ],
      "execution_count": null,
      "outputs": []
    },
    {
      "cell_type": "code",
      "metadata": {
        "id": "Bx6ZpLk0WSN5"
      },
      "source": [
        "# matplotlib 활용\n",
        "fig, (ax0, ax1) = plt.subplots(nrows =1, ncols = 2)\n",
        "x1 = df_fitness[df_fitness[\"GENDER\"] == \"남성\"][\"OXY\"]\n",
        "x2 = df_fitness[df_fitness[\"GENDER\"] == \"여성\"][\"OXY\"]\n",
        "ax0.hist(x1, histtype = 'bar', color = 'blue')\n",
        "ax1.hist(x2, histtype = 'bar', color= 'red' )\n",
        "ax0.legend('남성')\n",
        "ax1.legend('여성')\n",
        "plt.show()"
      ],
      "execution_count": null,
      "outputs": []
    },
    {
      "cell_type": "code",
      "metadata": {
        "id": "uW6aZA0MW-nz"
      },
      "source": [
        "# pandas 활용\n",
        "# hist(column = 변수, by = 그룹변수, range=(최소값, 최대값))-X축 범위 통일\n",
        "df_fitness.hist(column=\"OXY\" , by = \"GENDER\" , range=(35,65))"
      ],
      "execution_count": null,
      "outputs": []
    },
    {
      "cell_type": "code",
      "metadata": {
        "id": "juobLNr-W-kp"
      },
      "source": [
        "# seaborn 활용. FacetGrid(데이터 지정, col=컬럼 지정)\n",
        "grid = sns.FacetGrid(df_fitness, col=\"GENDER\")\n",
        "# map(함수, 컬럼명)\n",
        "grid.map(sns.histplot, \"OXY\")"
      ],
      "execution_count": null,
      "outputs": []
    },
    {
      "cell_type": "code",
      "metadata": {
        "id": "SmaG8adKW-hf"
      },
      "source": [
        "# seaborn 활용. FacetGrid(데이터 지정, col=컬럼 지정)\n",
        "grid = sns.FacetGrid(df_fitness, col=\"GENDER\")\n",
        "# 함수로 matplotlib.pyplot 활용\n",
        "grid.map(plt.hist, \"OXY\")"
      ],
      "execution_count": null,
      "outputs": []
    },
    {
      "cell_type": "code",
      "metadata": {
        "id": "0I665IjfW-eX"
      },
      "source": [
        "# matplotlib 활용 - hist(변수,label=\"표시 값\" , alpha = 투명도(0~1 지정) )\n",
        "plt.hist(df_fitness[df_fitness[\"GENDER\"] == \"남성\"][\"OXY\"],label = \"남성\", alpha = 0.5)\n",
        "plt.hist(df_fitness[df_fitness[\"GENDER\"] == \"여성\"][\"OXY\"],label = \"여성\", alpha = 0.5)\n",
        "plt.legend()"
      ],
      "execution_count": null,
      "outputs": []
    },
    {
      "cell_type": "code",
      "metadata": {
        "id": "6EgYo1oaW-bA"
      },
      "source": [
        "# seaborn 활용\n",
        "sns.displot(df_fitness, x = 'OXY', hue = 'GENDER')"
      ],
      "execution_count": null,
      "outputs": []
    },
    {
      "cell_type": "code",
      "metadata": {
        "id": "b8Gn6f07W-XY"
      },
      "source": [
        "# matplotlib 활용\n",
        "# x축 구간(bin) 조정(상세 분포 확인)\n",
        "plt.hist(x = \"OXY\", data = df_fitness, bins = 20)"
      ],
      "execution_count": null,
      "outputs": []
    },
    {
      "cell_type": "code",
      "metadata": {
        "id": "v_ZxyRkRW-TJ"
      },
      "source": [
        "# pandas 활용\n",
        "df_fitness.boxplot(column=\"OXY\", by = [\"GENDER\", \"AGEGROUP\"])"
      ],
      "execution_count": null,
      "outputs": []
    },
    {
      "cell_type": "code",
      "metadata": {
        "id": "E4Qcnb62W-Pv"
      },
      "source": [
        "df_count = df_fitness.groupby([\"GENDER\"] ).size()"
      ],
      "execution_count": 30,
      "outputs": []
    },
    {
      "cell_type": "code",
      "metadata": {
        "id": "4xn88He8XzkI"
      },
      "source": [
        "# matplotlib 활용 (데이터, labels=레이블 변수 지정, autopct=비율 %로 표시)\n",
        "plt.pie(df_count, labels = df_count.index, autopct=\"%.1f%%\")"
      ],
      "execution_count": null,
      "outputs": []
    },
    {
      "cell_type": "code",
      "metadata": {
        "id": "APTmZJORXzgz"
      },
      "source": [
        "# pandas 활용\n",
        "df_count.plot.pie(y = \"OXY\", autopct=\"%.1f%%\")"
      ],
      "execution_count": null,
      "outputs": []
    },
    {
      "cell_type": "code",
      "metadata": {
        "id": "G10SSaXgXzdp"
      },
      "source": [
        "df_count = df_fitness.groupby([\"GENDER\", \"AGEGROUP\"] ).size()"
      ],
      "execution_count": 33,
      "outputs": []
    },
    {
      "cell_type": "code",
      "metadata": {
        "id": "VMaE4x1kXza5"
      },
      "source": [
        "# matplotlib 활용\n",
        "plt.pie(df_count, labels = df_count.index, autopct=\"%.1f%%\")"
      ],
      "execution_count": null,
      "outputs": []
    },
    {
      "cell_type": "code",
      "metadata": {
        "id": "SmbEbmKwXzXg"
      },
      "source": [
        "# pandas 활용\n",
        "df_count.plot.pie(y = \"OXY\", autopct=\"%.1f%%\")"
      ],
      "execution_count": null,
      "outputs": []
    },
    {
      "cell_type": "code",
      "metadata": {
        "id": "AIJIgcpIXzUP"
      },
      "source": [
        "# seaborn 활용\n",
        "# scatterplot( x, y, hue: 그룹 변수, style : 그룹별 marker 구분 , data )\n",
        "sns.scatterplot(x = \"RUNTIME\", y = \"OXY\", hue = \"GENDER\", style= \"GENDER\", data = df_fitness)"
      ],
      "execution_count": null,
      "outputs": []
    },
    {
      "cell_type": "code",
      "metadata": {
        "id": "voohTP-EXzK5"
      },
      "source": [
        "# 회귀선 포함하여 그리기\n",
        "sns.lmplot(x = \"RUNTIME\", y = \"OXY\", hue = \"GENDER\", data = df_fitness, size = 5)"
      ],
      "execution_count": null,
      "outputs": []
    },
    {
      "cell_type": "code",
      "metadata": {
        "id": "sW9Sh0VYXzAV"
      },
      "source": [
        "# seaborn 활용\n",
        "# pairplot(데이터): Scatter Plot 그래프 생성\n",
        "sns.pairplot(df_fitness)"
      ],
      "execution_count": null,
      "outputs": []
    },
    {
      "cell_type": "code",
      "metadata": {
        "id": "m6qs-r9hYrI6"
      },
      "source": [
        "# 성별로 그리기\n",
        "sns.pairplot(df_fitness, hue = \"GENDER\")"
      ],
      "execution_count": null,
      "outputs": []
    },
    {
      "cell_type": "code",
      "metadata": {
        "id": "bX_O3bXXYrFw"
      },
      "source": [
        "# seaborn 활용\n",
        "# y변수: 혈당산소 요구량, x변수: 맥박(운동), 맥박(최대), 운동시간 Scatter Matrix 생성\n",
        "sns.pairplot(df_fitness , y_vars=[\"OXY\"] , x_vars=[\"RUNPULSE\",\"MAXPULSE\",\"RUNTIME\"])"
      ],
      "execution_count": null,
      "outputs": []
    },
    {
      "cell_type": "code",
      "metadata": {
        "id": "ByWVR3MQYrBX"
      },
      "source": [
        "sns.pairplot(df_fitness , y_vars=[\"OXY\"] , x_vars=[\"RUNPULSE\",\"MAXPULSE\",\"RUNTIME\"], hue = 'GENDER')"
      ],
      "execution_count": null,
      "outputs": []
    },
    {
      "cell_type": "code",
      "metadata": {
        "id": "PF-p_wWtYq9h"
      },
      "source": [
        "# pivot 활용하여 각국 통화별 데이터 생성\n",
        "df_currency_pivot = df_currency.pivot(index = \"APPL_DATE\", columns=\"CURRENCY\", values = \"STD_RATE\")\n",
        "df_currency_pivot.head()"
      ],
      "execution_count": null,
      "outputs": []
    },
    {
      "cell_type": "code",
      "metadata": {
        "id": "lwIWVlO3Yq47"
      },
      "source": [
        "# pandas 활용\n",
        "# 중국 위안화 그래프 그리기\n",
        "df_currency_pivot[\"CNY\"].plot()\n",
        "\n",
        "# 일본 엔화, 미국 달러 그래프 그리기\n",
        "df_currency_pivot[[\"JPY\", \"USD\"]].plot()"
      ],
      "execution_count": null,
      "outputs": []
    },
    {
      "cell_type": "code",
      "metadata": {
        "id": "aabUTGpYYqu5"
      },
      "source": [
        "# 성별과 연령대별 혈당 산소 요구량 평균 계산, groupby: (성별, 연령), agg(\"mean\")\n",
        "df_agg = df_fitness.groupby([\"GENDER\", \"AGEGROUP\"], as_index = False).agg(\"mean\")\n",
        "# pivot(성별, 연령대, 혈당 산소 요구량): x축(연령대), y축(성별), 값(혈당산소요구량의 평균)으로 pivot\n",
        "df_pivot = df_agg.pivot(\"GENDER\", \"AGEGROUP\", \"OXY\")"
      ],
      "execution_count": 45,
      "outputs": []
    },
    {
      "cell_type": "code",
      "metadata": {
        "id": "tDRqNA6rZUMW"
      },
      "source": [
        "# seaborn 활용 : heatmap(데이터, cmap: 색상)\n",
        "sns.heatmap(df_pivot, annot = True, cmap=\"Blues\")"
      ],
      "execution_count": null,
      "outputs": []
    },
    {
      "cell_type": "code",
      "metadata": {
        "id": "TNOLeczdZUIm"
      },
      "source": [
        "# seaborn 활용\n",
        "df_cor = df_fitness.corr(method = 'pearson')\n",
        "sns.heatmap(df_cor, annot = True, cmap=\"Blues\")"
      ],
      "execution_count": null,
      "outputs": []
    },
    {
      "cell_type": "code",
      "metadata": {
        "id": "zfadNTFbZUFO"
      },
      "source": [
        "# seaborn 활용 : kdeplot( x축, y축 , shade: 음영 선택 여부)\n",
        "sns.kdeplot(df_fitness[\"RUNTIME\"], df_fitness[\"OXY\"], shade = False)"
      ],
      "execution_count": null,
      "outputs": []
    },
    {
      "cell_type": "code",
      "metadata": {
        "id": "-p8yLTABZUCO"
      },
      "source": [
        "# pandas 활용\n",
        "# parallel_coordinates(데이터, 그룹 변수, cols = 변수, colormap= 다양한 colormap지정)\n",
        "pd.plotting.parallel_coordinates(df_fitness,\"GENDER\", cols=[\"OXY\", \"WEIGHT\", \"RSTPULSE\"], colormap=\"Accent\")"
      ],
      "execution_count": null,
      "outputs": []
    },
    {
      "cell_type": "code",
      "metadata": {
        "id": "hqZgLZ4jZT-2"
      },
      "source": [
        ""
      ],
      "execution_count": null,
      "outputs": []
    },
    {
      "cell_type": "code",
      "metadata": {
        "id": "Z4FGAgnmZT7I"
      },
      "source": [
        ""
      ],
      "execution_count": null,
      "outputs": []
    },
    {
      "cell_type": "code",
      "metadata": {
        "id": "rBTrEqojZT3f"
      },
      "source": [
        ""
      ],
      "execution_count": null,
      "outputs": []
    }
  ]
}