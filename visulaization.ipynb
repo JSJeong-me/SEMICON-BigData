{
  "nbformat": 4,
  "nbformat_minor": 0,
  "metadata": {
    "colab": {
      "name": "Untitled3.ipynb",
      "provenance": [],
      "authorship_tag": "ABX9TyONXfWnQz5YREJvBLhxjD6Z",
      "include_colab_link": true
    },
    "kernelspec": {
      "name": "python3",
      "display_name": "Python 3"
    },
    "language_info": {
      "name": "python"
    }
  },
  "cells": [
    {
      "cell_type": "markdown",
      "metadata": {
        "id": "view-in-github",
        "colab_type": "text"
      },
      "source": [
        "<a href=\"https://colab.research.google.com/github/JSJeong-me/SEMICON-BigData/blob/main/visulaization.ipynb\" target=\"_parent\"><img src=\"https://colab.research.google.com/assets/colab-badge.svg\" alt=\"Open In Colab\"/></a>"
      ]
    },
    {
      "cell_type": "markdown",
      "metadata": {
        "id": "BbpqHbSl1JNn"
      },
      "source": [
        "**Visualization**"
      ]
    },
    {
      "cell_type": "code",
      "metadata": {
        "id": "t-0rhFyk1H7G"
      },
      "source": [
        "# 데이터 처리 패키지\n",
        "import pandas as pd\n",
        "# 행렬 연산 패키지\n",
        "import numpy as np\n",
        "# 데이터 시각화 패키지\n",
        "import matplotlib\n",
        "import matplotlib.pyplot as plt\n",
        "import seaborn as sns\n",
        "194\n",
        "# 경고 메시지 처리\n",
        "import warnings"
      ],
      "execution_count": 1,
      "outputs": []
    },
    {
      "cell_type": "code",
      "metadata": {
        "id": "QusW9OVL1gQR"
      },
      "source": [
        "# 한글설치 (윈도우 버전)\n",
        "matplotlib.rc('font', family=\"Malgun Gothic\")\n",
        "# 음수 표시\n",
        "matplotlib.rc('axes', unicode_minus=False)\n",
        "# 실행결과 경고메시지 출력 제외\n",
        "warnings.filterwarnings('ignore')"
      ],
      "execution_count": 3,
      "outputs": []
    },
    {
      "cell_type": "code",
      "metadata": {
        "id": "qBlNDAU91rSu"
      },
      "source": [
        "df_fitness = pd.read_csv(\"health.csv\", encoding =\"euc-kr\")"
      ],
      "execution_count": null,
      "outputs": []
    },
    {
      "cell_type": "code",
      "metadata": {
        "id": "nwFLDqU91_Jo"
      },
      "source": [
        "#page 200"
      ],
      "execution_count": 5,
      "outputs": []
    },
    {
      "cell_type": "code",
      "metadata": {
        "id": "tQ1mZ-Ld2BKW"
      },
      "source": [
        ""
      ],
      "execution_count": null,
      "outputs": []
    }
  ]
}