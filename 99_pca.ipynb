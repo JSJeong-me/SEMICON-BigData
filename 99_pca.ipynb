{
  "nbformat": 4,
  "nbformat_minor": 5,
  "metadata": {
    "kernelspec": {
      "display_name": "Python 3",
      "language": "python",
      "name": "python3"
    },
    "language_info": {
      "codemirror_mode": {
        "name": "ipython",
        "version": 3
      },
      "file_extension": ".py",
      "mimetype": "text/x-python",
      "name": "python",
      "nbconvert_exporter": "python",
      "pygments_lexer": "ipython3",
      "version": "3.7.6"
    },
    "colab": {
      "name": "pca.ipynb",
      "provenance": [],
      "include_colab_link": true
    }
  },
  "cells": [
    {
      "cell_type": "markdown",
      "metadata": {
        "id": "view-in-github",
        "colab_type": "text"
      },
      "source": [
        "<a href=\"https://colab.research.google.com/github/JSJeong-me/JBNU-2021/blob/main/PCA/pca.ipynb\" target=\"_parent\"><img src=\"https://colab.research.google.com/assets/colab-badge.svg\" alt=\"Open In Colab\"/></a>"
      ]
    },
    {
      "cell_type": "markdown",
      "metadata": {
        "id": "presidential-voice"
      },
      "source": [
        "### PCA"
      ],
      "id": "presidential-voice"
    },
    {
      "cell_type": "code",
      "metadata": {
        "id": "yellow-slope"
      },
      "source": [
        "# example of pca for dimensionality reduction\n",
        "from sklearn.datasets import make_classification\n",
        "from sklearn.decomposition import PCA"
      ],
      "id": "yellow-slope",
      "execution_count": 1,
      "outputs": []
    },
    {
      "cell_type": "code",
      "metadata": {
        "id": "north-brighton"
      },
      "source": [
        "# define dataset\n",
        "X, y = make_classification(n_samples=1000, n_features=10, n_informative=3, n_redundant=7,\n",
        "random_state=1)\n",
        "\n",
        "# summarize data before the transform\n",
        "print(X[:3, :])"
      ],
      "id": "north-brighton",
      "execution_count": null,
      "outputs": []
    },
    {
      "cell_type": "code",
      "metadata": {
        "id": "smooth-camera"
      },
      "source": [
        "# define the transform\n",
        "trans = PCA(n_components=10)\n",
        "\n",
        "# transform the data\n",
        "X_dim = trans.fit_transform(X)\n",
        "\n",
        "# summarize data after the transform\n",
        "print(X_dim[:3, :])"
      ],
      "id": "smooth-camera",
      "execution_count": null,
      "outputs": []
    },
    {
      "cell_type": "code",
      "metadata": {
        "id": "6RabNQ3sE-1Y"
      },
      "source": [
        "print(X_dim)"
      ],
      "id": "6RabNQ3sE-1Y",
      "execution_count": null,
      "outputs": []
    },
    {
      "cell_type": "code",
      "metadata": {
        "id": "aLtrJh24H8o4"
      },
      "source": [
        "import pandas as pd"
      ],
      "id": "aLtrJh24H8o4",
      "execution_count": 5,
      "outputs": []
    },
    {
      "cell_type": "code",
      "metadata": {
        "id": "609oENpdH0-D"
      },
      "source": [
        "df_X = pd.DataFrame(X_dim)"
      ],
      "id": "609oENpdH0-D",
      "execution_count": 6,
      "outputs": []
    },
    {
      "cell_type": "code",
      "metadata": {
        "id": "nc5HBpo-IA9D"
      },
      "source": [
        "df_X.describe().round()"
      ],
      "id": "nc5HBpo-IA9D",
      "execution_count": null,
      "outputs": []
    },
    {
      "cell_type": "code",
      "metadata": {
        "id": "fSOQlMVZIQbN"
      },
      "source": [
        "df_X_org = pd.DataFrame(X)"
      ],
      "id": "fSOQlMVZIQbN",
      "execution_count": 8,
      "outputs": []
    },
    {
      "cell_type": "code",
      "metadata": {
        "id": "O4Rgu-8vIWB-"
      },
      "source": [
        "df_X_org.describe().round()"
      ],
      "id": "O4Rgu-8vIWB-",
      "execution_count": null,
      "outputs": []
    },
    {
      "cell_type": "code",
      "metadata": {
        "id": "informational-tattoo"
      },
      "source": [
        "X_dim.shape"
      ],
      "id": "informational-tattoo",
      "execution_count": null,
      "outputs": []
    },
    {
      "cell_type": "code",
      "metadata": {
        "id": "fossil-piece"
      },
      "source": [
        "print(\"\\nFirstprincipal axis :\", trans.components_[0])\n",
        "\n",
        "print(\"Second principal axis\", trans.components_[1])\n",
        "\n",
        "print(\"Third principal axis\", trans.components_[2])"
      ],
      "id": "fossil-piece",
      "execution_count": null,
      "outputs": []
    },
    {
      "cell_type": "code",
      "metadata": {
        "id": "gjGCsvCUGcj8"
      },
      "source": [
        "print(trans.explained_variance_ratio_)"
      ],
      "id": "gjGCsvCUGcj8",
      "execution_count": null,
      "outputs": []
    }
  ]
}