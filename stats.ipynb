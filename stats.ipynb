{
  "nbformat": 4,
  "nbformat_minor": 0,
  "metadata": {
    "kernelspec": {
      "display_name": "Python 3",
      "language": "python",
      "name": "python3"
    },
    "language_info": {
      "codemirror_mode": {
        "name": "ipython",
        "version": 3
      },
      "file_extension": ".py",
      "mimetype": "text/x-python",
      "name": "python",
      "nbconvert_exporter": "python",
      "pygments_lexer": "ipython3",
      "version": "3.7.4"
    },
    "toc": {
      "nav_menu": {},
      "number_sections": true,
      "sideBar": true,
      "skip_h1_title": false,
      "toc_cell": false,
      "toc_position": {},
      "toc_section_display": "block",
      "toc_window_display": false
    },
    "varInspector": {
      "cols": {
        "lenName": 16,
        "lenType": 16,
        "lenVar": 40
      },
      "kernels_config": {
        "python": {
          "delete_cmd_postfix": "",
          "delete_cmd_prefix": "del ",
          "library": "var_list.py",
          "varRefreshCmd": "print(var_dic_list())"
        },
        "r": {
          "delete_cmd_postfix": ") ",
          "delete_cmd_prefix": "rm(",
          "library": "var_list.r",
          "varRefreshCmd": "cat(var_dic_list()) "
        }
      },
      "types_to_exclude": [
        "module",
        "function",
        "builtin_function_or_method",
        "instance",
        "_Feature"
      ],
      "window_display": false
    },
    "colab": {
      "name": "chap11.ipynb",
      "provenance": [],
      "include_colab_link": true
    }
  },
  "cells": [
    {
      "cell_type": "markdown",
      "metadata": {
        "id": "view-in-github",
        "colab_type": "text"
      },
      "source": [
        "<a href=\"https://colab.research.google.com/github/JSJeong-me/SEMICON-BigData/blob/main/stats.ipynb\" target=\"_parent\"><img src=\"https://colab.research.google.com/assets/colab-badge.svg\" alt=\"Open In Colab\"/></a>"
      ]
    },
    {
      "cell_type": "markdown",
      "metadata": {
        "id": "RQUI5k-RlRuY"
      },
      "source": [
        "# 통계적 가설검정"
      ]
    },
    {
      "cell_type": "code",
      "metadata": {
        "ExecuteTime": {
          "end_time": "2018-08-24T07:05:45.085823Z",
          "start_time": "2018-08-24T07:05:44.414922Z"
        },
        "id": "jDdgX_MhlRuZ"
      },
      "source": [
        "import numpy as np\n",
        "import pandas as pd\n",
        "from scipy import stats\n",
        "\n",
        "%precision 3\n",
        "np.random.seed(1111)"
      ],
      "execution_count": null,
      "outputs": []
    },
    {
      "cell_type": "code",
      "metadata": {
        "ExecuteTime": {
          "end_time": "2018-08-24T07:05:45.104555Z",
          "start_time": "2018-08-24T07:05:45.087110Z"
        },
        "id": "W-oIR-F4lRuZ",
        "outputId": "3c95873a-3cfb-4b3b-bd5e-11d0d5651593"
      },
      "source": [
        "df = pd.read_csv('../data/ch11_potato.csv')\n",
        "sample = np.array(df['무게'])\n",
        "sample"
      ],
      "execution_count": null,
      "outputs": [
        {
          "output_type": "execute_result",
          "data": {
            "text/plain": [
              "array([122.02, 131.73, 130.6 , 131.82, 132.05, 126.12, 124.43, 132.89,\n",
              "       122.79, 129.95, 126.14, 134.45, 127.64, 125.68])"
            ]
          },
          "metadata": {
            "tags": []
          },
          "execution_count": 2
        }
      ]
    },
    {
      "cell_type": "code",
      "metadata": {
        "ExecuteTime": {
          "end_time": "2018-08-24T07:05:45.108071Z",
          "start_time": "2018-08-24T07:05:45.105521Z"
        },
        "id": "KZPtvZuhlRua",
        "outputId": "06f8d6ef-b90a-49b2-ff6a-6f882570a4a0"
      },
      "source": [
        "s_mean = np.mean(sample)\n",
        "s_mean"
      ],
      "execution_count": null,
      "outputs": [
        {
          "output_type": "execute_result",
          "data": {
            "text/plain": [
              "128.4507142857143"
            ]
          },
          "metadata": {
            "tags": []
          },
          "execution_count": 3
        }
      ]
    },
    {
      "cell_type": "markdown",
      "metadata": {
        "id": "Txp7tMe4lRub"
      },
      "source": [
        "## 통계적 가설검정이란"
      ]
    },
    {
      "cell_type": "markdown",
      "metadata": {
        "id": "doC-5nmHlRub"
      },
      "source": [
        "### 통계적 가설검정의 흐름"
      ]
    },
    {
      "cell_type": "code",
      "metadata": {
        "ExecuteTime": {
          "end_time": "2018-08-24T07:05:45.112973Z",
          "start_time": "2018-08-24T07:05:45.109309Z"
        },
        "id": "GENTSD4flRub",
        "outputId": "a911c755-198f-49b3-9e63-c96a73eeb7ad"
      },
      "source": [
        "rv = stats.norm(130, np.sqrt(9/14))\n",
        "rv.isf(0.95)"
      ],
      "execution_count": null,
      "outputs": [
        {
          "output_type": "execute_result",
          "data": {
            "text/plain": [
              "128.68118313069039"
            ]
          },
          "metadata": {
            "tags": []
          },
          "execution_count": 4
        }
      ]
    },
    {
      "cell_type": "code",
      "metadata": {
        "ExecuteTime": {
          "end_time": "2018-08-24T07:05:45.117198Z",
          "start_time": "2018-08-24T07:05:45.113995Z"
        },
        "id": "aoEle6-9lRuc",
        "outputId": "1af1ceca-0cef-4bdd-e5f2-9a88f96c1064"
      },
      "source": [
        "z = (s_mean - 130) / np.sqrt(9/14)\n",
        "z"
      ],
      "execution_count": null,
      "outputs": [
        {
          "output_type": "execute_result",
          "data": {
            "text/plain": [
              "-1.932298779026813"
            ]
          },
          "metadata": {
            "tags": []
          },
          "execution_count": 5
        }
      ]
    },
    {
      "cell_type": "code",
      "metadata": {
        "ExecuteTime": {
          "end_time": "2018-08-24T07:05:45.122064Z",
          "start_time": "2018-08-24T07:05:45.118103Z"
        },
        "id": "5UQnki97lRuc",
        "outputId": "cc2a28a5-9870-4b38-df72-6c0c1bca0eba"
      },
      "source": [
        "rv = stats.norm()\n",
        "rv.isf(0.95)"
      ],
      "execution_count": null,
      "outputs": [
        {
          "output_type": "execute_result",
          "data": {
            "text/plain": [
              "-1.6448536269514722"
            ]
          },
          "metadata": {
            "tags": []
          },
          "execution_count": 6
        }
      ]
    },
    {
      "cell_type": "code",
      "metadata": {
        "ExecuteTime": {
          "end_time": "2018-08-24T07:05:45.126401Z",
          "start_time": "2018-08-24T07:05:45.123042Z"
        },
        "id": "NyS24JpMlRuc",
        "outputId": "3e64d3d9-ece2-4373-f389-f17740ef78e8"
      },
      "source": [
        "rv.cdf(z)"
      ],
      "execution_count": null,
      "outputs": [
        {
          "output_type": "execute_result",
          "data": {
            "text/plain": [
              "0.026661319523126635"
            ]
          },
          "metadata": {
            "tags": []
          },
          "execution_count": 7
        }
      ]
    },
    {
      "cell_type": "markdown",
      "metadata": {
        "id": "tcQh9h3KlRud"
      },
      "source": [
        "### 단측검정과 양측검정"
      ]
    },
    {
      "cell_type": "code",
      "metadata": {
        "ExecuteTime": {
          "end_time": "2018-08-24T07:05:45.131360Z",
          "start_time": "2018-08-24T07:05:45.127654Z"
        },
        "id": "JqPv2DxLlRud",
        "outputId": "893c95fd-98d1-4e48-d41a-f22316cc893d"
      },
      "source": [
        "z = (s_mean - 130) / np.sqrt(9/14)\n",
        "z"
      ],
      "execution_count": null,
      "outputs": [
        {
          "output_type": "execute_result",
          "data": {
            "text/plain": [
              "-1.932298779026813"
            ]
          },
          "metadata": {
            "tags": []
          },
          "execution_count": 8
        }
      ]
    },
    {
      "cell_type": "code",
      "metadata": {
        "ExecuteTime": {
          "end_time": "2018-08-24T07:05:45.137501Z",
          "start_time": "2018-08-24T07:05:45.132802Z"
        },
        "id": "pouUgqkmlRue",
        "outputId": "b052a2c7-8f1f-4123-b3aa-f4793a29f54b"
      },
      "source": [
        "rv = stats.norm()\n",
        "rv.interval(0.95)"
      ],
      "execution_count": null,
      "outputs": [
        {
          "output_type": "execute_result",
          "data": {
            "text/plain": [
              "(-1.959963984540054, 1.959963984540054)"
            ]
          },
          "metadata": {
            "tags": []
          },
          "execution_count": 9
        }
      ]
    },
    {
      "cell_type": "code",
      "metadata": {
        "ExecuteTime": {
          "end_time": "2018-08-24T07:05:45.141573Z",
          "start_time": "2018-08-24T07:05:45.138698Z"
        },
        "id": "h1dxWg0tlRue",
        "outputId": "a6f6b859-6c75-4901-99f1-0f16b4f3d8b9"
      },
      "source": [
        "rv.cdf(z) * 2"
      ],
      "execution_count": null,
      "outputs": [
        {
          "output_type": "execute_result",
          "data": {
            "text/plain": [
              "0.05332263904625327"
            ]
          },
          "metadata": {
            "tags": []
          },
          "execution_count": 10
        }
      ]
    },
    {
      "cell_type": "raw",
      "metadata": {
        "id": "FmbmNxFblRug"
      },
      "source": [
        "### 가설검정에서의 두 가지 오류"
      ]
    },
    {
      "cell_type": "code",
      "metadata": {
        "ExecuteTime": {
          "end_time": "2018-08-24T07:05:45.145207Z",
          "start_time": "2018-08-24T07:05:45.142707Z"
        },
        "id": "YeIO4yVZlRug"
      },
      "source": [
        "rv = stats.norm(130, 3)"
      ],
      "execution_count": null,
      "outputs": []
    },
    {
      "cell_type": "code",
      "metadata": {
        "ExecuteTime": {
          "end_time": "2018-08-24T07:05:45.610816Z",
          "start_time": "2018-08-24T07:05:45.146318Z"
        },
        "id": "7Ou_rHOolRuh",
        "outputId": "68b5e078-00a2-4848-de0b-99ba4ed89119"
      },
      "source": [
        "c = stats.norm().isf(0.95)\n",
        "n_samples = 10000\n",
        "cnt = 0\n",
        "for _ in range(n_samples):\n",
        "    sample_ = np.round(rv.rvs(14), 2)\n",
        "    s_mean_ = np.mean(sample_)\n",
        "    z = (s_mean_ - 130) / np.sqrt(9/14)\n",
        "    if z < c:\n",
        "        cnt += 1\n",
        "cnt / n_samples"
      ],
      "execution_count": null,
      "outputs": [
        {
          "output_type": "execute_result",
          "data": {
            "text/plain": [
              "0.053"
            ]
          },
          "metadata": {
            "tags": []
          },
          "execution_count": 12
        }
      ]
    },
    {
      "cell_type": "code",
      "metadata": {
        "ExecuteTime": {
          "end_time": "2018-08-24T07:05:45.614545Z",
          "start_time": "2018-08-24T07:05:45.611974Z"
        },
        "id": "mjyvJlhClRuh"
      },
      "source": [
        "rv = stats.norm(128, 3)"
      ],
      "execution_count": null,
      "outputs": []
    },
    {
      "cell_type": "code",
      "metadata": {
        "ExecuteTime": {
          "end_time": "2018-08-24T07:05:46.072562Z",
          "start_time": "2018-08-24T07:05:45.615736Z"
        },
        "id": "3UsriPaXlRui",
        "outputId": "80b5b2df-b04f-4aaf-b517-4a34336b1eff"
      },
      "source": [
        "c = stats.norm().isf(0.95)\n",
        "n_samples = 10000\n",
        "cnt = 0\n",
        "for _ in range(n_samples):\n",
        "    sample_ = np.round(rv.rvs(14), 2)\n",
        "    s_mean_ = np.mean(sample_)\n",
        "    z = (s_mean_ - 130) / np.sqrt(9/14)\n",
        "    if z >= c:\n",
        "        cnt += 1\n",
        "        \n",
        "cnt / n_samples"
      ],
      "execution_count": null,
      "outputs": [
        {
          "output_type": "execute_result",
          "data": {
            "text/plain": [
              "0.197"
            ]
          },
          "metadata": {
            "tags": []
          },
          "execution_count": 14
        }
      ]
    },
    {
      "cell_type": "markdown",
      "metadata": {
        "id": "MjaIAT1HlRui"
      },
      "source": [
        "## 가설검정"
      ]
    },
    {
      "cell_type": "markdown",
      "metadata": {
        "id": "mQ-I09_dlRuj"
      },
      "source": [
        "### 정규분포의 모평균에 대한 검정(모분산을 알고 있음)"
      ]
    },
    {
      "cell_type": "code",
      "metadata": {
        "ExecuteTime": {
          "end_time": "2018-08-24T07:05:46.084590Z",
          "start_time": "2018-08-24T07:05:46.073725Z"
        },
        "id": "QBFQo8tglRuj"
      },
      "source": [
        "def pmean_test(sample, mean0, p_var, alpha=0.05):\n",
        "    s_mean = np.mean(sample)\n",
        "    n = len(sample)\n",
        "    rv = stats.norm()\n",
        "    interval = rv.interval(1-alpha)\n",
        "\n",
        "    z = (s_mean - mean0) / np.sqrt(p_var/n)\n",
        "    if interval[0] <= z <= interval[1]:\n",
        "        print('귀무가설을 채택')\n",
        "    else:\n",
        "        print('귀무가설을 기각')\n",
        "\n",
        "    if z < 0:\n",
        "        p = rv.cdf(z) * 2\n",
        "    else:\n",
        "        p = (1 - rv.cdf(z)) * 2\n",
        "    print(f'p값은 {p:.3f}')"
      ],
      "execution_count": null,
      "outputs": []
    },
    {
      "cell_type": "code",
      "metadata": {
        "ExecuteTime": {
          "end_time": "2018-08-24T07:05:46.089708Z",
          "start_time": "2018-08-24T07:05:46.085814Z"
        },
        "id": "bgr6r4FUlRuk",
        "outputId": "6d840be7-3d0b-4a23-c0a0-9a9aa0f81397"
      },
      "source": [
        "pmean_test(sample, 130, 9)"
      ],
      "execution_count": null,
      "outputs": [
        {
          "output_type": "stream",
          "text": [
            "귀무가설을 채택\n",
            "p값은 0.053\n"
          ],
          "name": "stdout"
        }
      ]
    },
    {
      "cell_type": "markdown",
      "metadata": {
        "id": "nQArP8molRul"
      },
      "source": [
        "### 정규분포의 모분산에 대한 검정"
      ]
    },
    {
      "cell_type": "code",
      "metadata": {
        "ExecuteTime": {
          "end_time": "2018-08-24T07:05:46.102142Z",
          "start_time": "2018-08-24T07:05:46.090827Z"
        },
        "id": "vqwRryHmlRul"
      },
      "source": [
        "def pvar_test(sample, var0, alpha=0.05):\n",
        "    u_var = np.var(sample, ddof=1)\n",
        "    n = len(sample)\n",
        "    rv = stats.chi2(df=n-1)\n",
        "    interval = rv.interval(1-alpha)\n",
        "    \n",
        "    y = (n-1) * u_var / var0\n",
        "    if interval[0] <= y <= interval[1]:\n",
        "        print('귀무가설을 채택')\n",
        "    else:\n",
        "        print('귀무가설을 기각')\n",
        "\n",
        "    if y < rv.isf(0.5):\n",
        "        p = rv.cdf(y) * 2\n",
        "    else:\n",
        "        p = (1 - rv.cdf(y)) * 2\n",
        "    print(f'p값은 {p:.3f}')"
      ],
      "execution_count": null,
      "outputs": []
    },
    {
      "cell_type": "code",
      "metadata": {
        "ExecuteTime": {
          "end_time": "2018-08-24T07:05:46.108340Z",
          "start_time": "2018-08-24T07:05:46.103388Z"
        },
        "id": "0IEdeRVolRum",
        "outputId": "1a31d10c-daae-4f91-da5c-aac45d66ba0c"
      },
      "source": [
        "pvar_test(sample, 9)"
      ],
      "execution_count": null,
      "outputs": [
        {
          "output_type": "stream",
          "text": [
            "귀무가설을 채택\n",
            "p값은 0.085\n"
          ],
          "name": "stdout"
        }
      ]
    },
    {
      "cell_type": "markdown",
      "metadata": {
        "ExecuteTime": {
          "end_time": "2018-05-18T08:45:31.171707Z",
          "start_time": "2018-05-18T08:45:31.169401Z"
        },
        "id": "wrsyjc62lRum"
      },
      "source": [
        "### 정규분포의 모평균에 대한 검정(모분산을 알지 못함)"
      ]
    },
    {
      "cell_type": "code",
      "metadata": {
        "ExecuteTime": {
          "end_time": "2018-08-24T07:05:46.121314Z",
          "start_time": "2018-08-24T07:05:46.109509Z"
        },
        "id": "17ZWI6eClRun"
      },
      "source": [
        "def pmean_test(sample, mean0, alpha=0.05):\n",
        "    s_mean = np.mean(sample)\n",
        "    u_var = np.var(sample, ddof=1)\n",
        "    n = len(sample)\n",
        "    rv = stats.t(df=n-1)\n",
        "    interval = rv.interval(1-alpha)\n",
        "\n",
        "    t = (s_mean - mean0) / np.sqrt(u_var/n)\n",
        "    if interval[0] <= t <= interval[1]:\n",
        "        print('귀무가설을 채택')\n",
        "    else:\n",
        "        print('귀무가설을 기각')\n",
        "\n",
        "    if t < 0:\n",
        "        p = rv.cdf(t) * 2\n",
        "    else:\n",
        "        p = (1 - rv.cdf(t)) * 2\n",
        "    print(f'p값은 {p:.3f}')"
      ],
      "execution_count": null,
      "outputs": []
    },
    {
      "cell_type": "code",
      "metadata": {
        "ExecuteTime": {
          "end_time": "2018-08-24T07:05:46.126873Z",
          "start_time": "2018-08-24T07:05:46.122475Z"
        },
        "id": "pxtI2cZElRuo",
        "outputId": "8c3a591a-09c0-4679-a4da-9f0286c14e75"
      },
      "source": [
        "pmean_test(sample, 130)"
      ],
      "execution_count": null,
      "outputs": [
        {
          "output_type": "stream",
          "text": [
            "귀무가설을 채택\n",
            "p값은 0.169\n"
          ],
          "name": "stdout"
        }
      ]
    },
    {
      "cell_type": "code",
      "metadata": {
        "ExecuteTime": {
          "end_time": "2018-08-24T07:05:46.131732Z",
          "start_time": "2018-08-24T07:05:46.128023Z"
        },
        "id": "Ch1dYuTClRuo",
        "outputId": "79b35b06-b40e-4501-f9c4-c4fd16cad4c0"
      },
      "source": [
        "t, p = stats.ttest_1samp(sample, 130)\n",
        "t, p"
      ],
      "execution_count": null,
      "outputs": [
        {
          "output_type": "execute_result",
          "data": {
            "text/plain": [
              "(-1.4551960206404198, 0.16933464230414275)"
            ]
          },
          "metadata": {
            "tags": []
          },
          "execution_count": 21
        }
      ]
    },
    {
      "cell_type": "markdown",
      "metadata": {
        "id": "IjCk0pcqlRup"
      },
      "source": [
        "## 2표본 문제에 관한 가설검정"
      ]
    },
    {
      "cell_type": "markdown",
      "metadata": {
        "id": "_PWkKAsplRup"
      },
      "source": [
        "### 대응비교 t검정"
      ]
    },
    {
      "cell_type": "code",
      "metadata": {
        "ExecuteTime": {
          "end_time": "2018-08-24T07:05:46.142074Z",
          "start_time": "2018-08-24T07:05:46.132876Z"
        },
        "id": "1mCP_dyBlRuq",
        "outputId": "ffa3ed39-b18a-4ef7-c000-c201422ecc63"
      },
      "source": [
        "training_rel = pd.read_csv('../data/ch11_training_rel.csv')\n",
        "print(training_rel.shape)\n",
        "training_rel.head()"
      ],
      "execution_count": null,
      "outputs": [
        {
          "output_type": "stream",
          "text": [
            "(20, 2)\n"
          ],
          "name": "stdout"
        },
        {
          "output_type": "execute_result",
          "data": {
            "text/html": [
              "<div>\n",
              "<style scoped>\n",
              "    .dataframe tbody tr th:only-of-type {\n",
              "        vertical-align: middle;\n",
              "    }\n",
              "\n",
              "    .dataframe tbody tr th {\n",
              "        vertical-align: top;\n",
              "    }\n",
              "\n",
              "    .dataframe thead th {\n",
              "        text-align: right;\n",
              "    }\n",
              "</style>\n",
              "<table border=\"1\" class=\"dataframe\">\n",
              "  <thead>\n",
              "    <tr style=\"text-align: right;\">\n",
              "      <th></th>\n",
              "      <th>전</th>\n",
              "      <th>후</th>\n",
              "    </tr>\n",
              "  </thead>\n",
              "  <tbody>\n",
              "    <tr>\n",
              "      <td>0</td>\n",
              "      <td>59</td>\n",
              "      <td>41</td>\n",
              "    </tr>\n",
              "    <tr>\n",
              "      <td>1</td>\n",
              "      <td>52</td>\n",
              "      <td>63</td>\n",
              "    </tr>\n",
              "    <tr>\n",
              "      <td>2</td>\n",
              "      <td>55</td>\n",
              "      <td>68</td>\n",
              "    </tr>\n",
              "    <tr>\n",
              "      <td>3</td>\n",
              "      <td>61</td>\n",
              "      <td>59</td>\n",
              "    </tr>\n",
              "    <tr>\n",
              "      <td>4</td>\n",
              "      <td>59</td>\n",
              "      <td>84</td>\n",
              "    </tr>\n",
              "  </tbody>\n",
              "</table>\n",
              "</div>"
            ],
            "text/plain": [
              "    전   후\n",
              "0  59  41\n",
              "1  52  63\n",
              "2  55  68\n",
              "3  61  59\n",
              "4  59  84"
            ]
          },
          "metadata": {
            "tags": []
          },
          "execution_count": 22
        }
      ]
    },
    {
      "cell_type": "code",
      "metadata": {
        "ExecuteTime": {
          "end_time": "2018-08-24T07:05:46.170624Z",
          "start_time": "2018-08-24T07:05:46.143168Z"
        },
        "id": "DAE3S2n0lRuq",
        "outputId": "c52ce08b-6143-4302-8980-861cf6f014a7"
      },
      "source": [
        "training_rel['차'] = training_rel['후'] - training_rel['전']\n",
        "training_rel.head()"
      ],
      "execution_count": null,
      "outputs": [
        {
          "output_type": "execute_result",
          "data": {
            "text/html": [
              "<div>\n",
              "<style scoped>\n",
              "    .dataframe tbody tr th:only-of-type {\n",
              "        vertical-align: middle;\n",
              "    }\n",
              "\n",
              "    .dataframe tbody tr th {\n",
              "        vertical-align: top;\n",
              "    }\n",
              "\n",
              "    .dataframe thead th {\n",
              "        text-align: right;\n",
              "    }\n",
              "</style>\n",
              "<table border=\"1\" class=\"dataframe\">\n",
              "  <thead>\n",
              "    <tr style=\"text-align: right;\">\n",
              "      <th></th>\n",
              "      <th>전</th>\n",
              "      <th>후</th>\n",
              "      <th>차</th>\n",
              "    </tr>\n",
              "  </thead>\n",
              "  <tbody>\n",
              "    <tr>\n",
              "      <td>0</td>\n",
              "      <td>59</td>\n",
              "      <td>41</td>\n",
              "      <td>-18</td>\n",
              "    </tr>\n",
              "    <tr>\n",
              "      <td>1</td>\n",
              "      <td>52</td>\n",
              "      <td>63</td>\n",
              "      <td>11</td>\n",
              "    </tr>\n",
              "    <tr>\n",
              "      <td>2</td>\n",
              "      <td>55</td>\n",
              "      <td>68</td>\n",
              "      <td>13</td>\n",
              "    </tr>\n",
              "    <tr>\n",
              "      <td>3</td>\n",
              "      <td>61</td>\n",
              "      <td>59</td>\n",
              "      <td>-2</td>\n",
              "    </tr>\n",
              "    <tr>\n",
              "      <td>4</td>\n",
              "      <td>59</td>\n",
              "      <td>84</td>\n",
              "      <td>25</td>\n",
              "    </tr>\n",
              "  </tbody>\n",
              "</table>\n",
              "</div>"
            ],
            "text/plain": [
              "    전   후   차\n",
              "0  59  41 -18\n",
              "1  52  63  11\n",
              "2  55  68  13\n",
              "3  61  59  -2\n",
              "4  59  84  25"
            ]
          },
          "metadata": {
            "tags": []
          },
          "execution_count": 23
        }
      ]
    },
    {
      "cell_type": "code",
      "metadata": {
        "ExecuteTime": {
          "end_time": "2018-08-24T07:05:46.175732Z",
          "start_time": "2018-08-24T07:05:46.171981Z"
        },
        "id": "x1kCpQYplRur",
        "outputId": "19cbdee1-52cd-4bbc-b009-14a45d18aef4"
      },
      "source": [
        "t, p = stats.ttest_1samp(training_rel['차'], 0)\n",
        "p"
      ],
      "execution_count": null,
      "outputs": [
        {
          "output_type": "execute_result",
          "data": {
            "text/plain": [
              "0.04004419061842953"
            ]
          },
          "metadata": {
            "tags": []
          },
          "execution_count": 24
        }
      ]
    },
    {
      "cell_type": "code",
      "metadata": {
        "ExecuteTime": {
          "end_time": "2018-08-24T07:05:46.180719Z",
          "start_time": "2018-08-24T07:05:46.176793Z"
        },
        "id": "QLKiho1LlRus",
        "outputId": "b621742b-d50e-4ddf-c624-d09fb618cd9d"
      },
      "source": [
        "t, p = stats.ttest_rel(training_rel['후'], training_rel['전'])\n",
        "p"
      ],
      "execution_count": null,
      "outputs": [
        {
          "output_type": "execute_result",
          "data": {
            "text/plain": [
              "0.04004419061842953"
            ]
          },
          "metadata": {
            "tags": []
          },
          "execution_count": 25
        }
      ]
    },
    {
      "cell_type": "markdown",
      "metadata": {
        "id": "ZmQMbhTdlRus"
      },
      "source": [
        "### 독립비교 t검정"
      ]
    },
    {
      "cell_type": "code",
      "metadata": {
        "ExecuteTime": {
          "end_time": "2018-08-24T07:05:46.188822Z",
          "start_time": "2018-08-24T07:05:46.181763Z"
        },
        "id": "db_ToJgZlRut",
        "outputId": "8d3ae107-ae7b-4d9c-ec54-192278bf6aad"
      },
      "source": [
        "training_ind = pd.read_csv('../data/ch11_training_ind.csv')\n",
        "print(training_ind.shape)\n",
        "training_ind.head()"
      ],
      "execution_count": null,
      "outputs": [
        {
          "output_type": "stream",
          "text": [
            "(20, 2)\n"
          ],
          "name": "stdout"
        },
        {
          "output_type": "execute_result",
          "data": {
            "text/html": [
              "<div>\n",
              "<style scoped>\n",
              "    .dataframe tbody tr th:only-of-type {\n",
              "        vertical-align: middle;\n",
              "    }\n",
              "\n",
              "    .dataframe tbody tr th {\n",
              "        vertical-align: top;\n",
              "    }\n",
              "\n",
              "    .dataframe thead th {\n",
              "        text-align: right;\n",
              "    }\n",
              "</style>\n",
              "<table border=\"1\" class=\"dataframe\">\n",
              "  <thead>\n",
              "    <tr style=\"text-align: right;\">\n",
              "      <th></th>\n",
              "      <th>A</th>\n",
              "      <th>B</th>\n",
              "    </tr>\n",
              "  </thead>\n",
              "  <tbody>\n",
              "    <tr>\n",
              "      <td>0</td>\n",
              "      <td>47</td>\n",
              "      <td>49</td>\n",
              "    </tr>\n",
              "    <tr>\n",
              "      <td>1</td>\n",
              "      <td>50</td>\n",
              "      <td>52</td>\n",
              "    </tr>\n",
              "    <tr>\n",
              "      <td>2</td>\n",
              "      <td>37</td>\n",
              "      <td>54</td>\n",
              "    </tr>\n",
              "    <tr>\n",
              "      <td>3</td>\n",
              "      <td>60</td>\n",
              "      <td>48</td>\n",
              "    </tr>\n",
              "    <tr>\n",
              "      <td>4</td>\n",
              "      <td>39</td>\n",
              "      <td>51</td>\n",
              "    </tr>\n",
              "  </tbody>\n",
              "</table>\n",
              "</div>"
            ],
            "text/plain": [
              "    A   B\n",
              "0  47  49\n",
              "1  50  52\n",
              "2  37  54\n",
              "3  60  48\n",
              "4  39  51"
            ]
          },
          "metadata": {
            "tags": []
          },
          "execution_count": 26
        }
      ]
    },
    {
      "cell_type": "code",
      "metadata": {
        "ExecuteTime": {
          "end_time": "2018-08-24T07:05:46.194002Z",
          "start_time": "2018-08-24T07:05:46.189948Z"
        },
        "id": "oYyGlkQslRuu",
        "outputId": "3384004c-655b-4ba6-83da-5d1d1dd6a217"
      },
      "source": [
        "t, p = stats.ttest_ind(training_ind['A'], training_ind['B'],\n",
        "                       equal_var=False)\n",
        "p"
      ],
      "execution_count": null,
      "outputs": [
        {
          "output_type": "execute_result",
          "data": {
            "text/plain": [
              "0.08695731107259361"
            ]
          },
          "metadata": {
            "tags": []
          },
          "execution_count": 27
        }
      ]
    },
    {
      "cell_type": "markdown",
      "metadata": {
        "id": "Qnd59csxlRuu"
      },
      "source": [
        "### 윌콕슨의 부호순위검정"
      ]
    },
    {
      "cell_type": "code",
      "metadata": {
        "ExecuteTime": {
          "end_time": "2018-08-24T07:05:46.201801Z",
          "start_time": "2018-08-24T07:05:46.195183Z"
        },
        "id": "NQn3n8MWlRuv",
        "outputId": "d8fc55b8-ffff-4ba0-a45d-582295b2b0e6"
      },
      "source": [
        "training_rel = pd.read_csv('../data/ch11_training_rel.csv')\n",
        "toy_df = training_rel[:6].copy()\n",
        "toy_df"
      ],
      "execution_count": null,
      "outputs": [
        {
          "output_type": "execute_result",
          "data": {
            "text/html": [
              "<div>\n",
              "<style scoped>\n",
              "    .dataframe tbody tr th:only-of-type {\n",
              "        vertical-align: middle;\n",
              "    }\n",
              "\n",
              "    .dataframe tbody tr th {\n",
              "        vertical-align: top;\n",
              "    }\n",
              "\n",
              "    .dataframe thead th {\n",
              "        text-align: right;\n",
              "    }\n",
              "</style>\n",
              "<table border=\"1\" class=\"dataframe\">\n",
              "  <thead>\n",
              "    <tr style=\"text-align: right;\">\n",
              "      <th></th>\n",
              "      <th>전</th>\n",
              "      <th>후</th>\n",
              "    </tr>\n",
              "  </thead>\n",
              "  <tbody>\n",
              "    <tr>\n",
              "      <td>0</td>\n",
              "      <td>59</td>\n",
              "      <td>41</td>\n",
              "    </tr>\n",
              "    <tr>\n",
              "      <td>1</td>\n",
              "      <td>52</td>\n",
              "      <td>63</td>\n",
              "    </tr>\n",
              "    <tr>\n",
              "      <td>2</td>\n",
              "      <td>55</td>\n",
              "      <td>68</td>\n",
              "    </tr>\n",
              "    <tr>\n",
              "      <td>3</td>\n",
              "      <td>61</td>\n",
              "      <td>59</td>\n",
              "    </tr>\n",
              "    <tr>\n",
              "      <td>4</td>\n",
              "      <td>59</td>\n",
              "      <td>84</td>\n",
              "    </tr>\n",
              "    <tr>\n",
              "      <td>5</td>\n",
              "      <td>45</td>\n",
              "      <td>37</td>\n",
              "    </tr>\n",
              "  </tbody>\n",
              "</table>\n",
              "</div>"
            ],
            "text/plain": [
              "    전   후\n",
              "0  59  41\n",
              "1  52  63\n",
              "2  55  68\n",
              "3  61  59\n",
              "4  59  84\n",
              "5  45  37"
            ]
          },
          "metadata": {
            "tags": []
          },
          "execution_count": 28
        }
      ]
    },
    {
      "cell_type": "code",
      "metadata": {
        "ExecuteTime": {
          "end_time": "2018-08-24T07:05:46.209309Z",
          "start_time": "2018-08-24T07:05:46.203035Z"
        },
        "id": "TghkBn1SlRuv",
        "outputId": "d6a9101c-4b8e-496a-f067-df9c3d167f69"
      },
      "source": [
        "diff = toy_df['후'] - toy_df['전']\n",
        "toy_df['차'] = diff\n",
        "toy_df"
      ],
      "execution_count": null,
      "outputs": [
        {
          "output_type": "execute_result",
          "data": {
            "text/html": [
              "<div>\n",
              "<style scoped>\n",
              "    .dataframe tbody tr th:only-of-type {\n",
              "        vertical-align: middle;\n",
              "    }\n",
              "\n",
              "    .dataframe tbody tr th {\n",
              "        vertical-align: top;\n",
              "    }\n",
              "\n",
              "    .dataframe thead th {\n",
              "        text-align: right;\n",
              "    }\n",
              "</style>\n",
              "<table border=\"1\" class=\"dataframe\">\n",
              "  <thead>\n",
              "    <tr style=\"text-align: right;\">\n",
              "      <th></th>\n",
              "      <th>전</th>\n",
              "      <th>후</th>\n",
              "      <th>차</th>\n",
              "    </tr>\n",
              "  </thead>\n",
              "  <tbody>\n",
              "    <tr>\n",
              "      <td>0</td>\n",
              "      <td>59</td>\n",
              "      <td>41</td>\n",
              "      <td>-18</td>\n",
              "    </tr>\n",
              "    <tr>\n",
              "      <td>1</td>\n",
              "      <td>52</td>\n",
              "      <td>63</td>\n",
              "      <td>11</td>\n",
              "    </tr>\n",
              "    <tr>\n",
              "      <td>2</td>\n",
              "      <td>55</td>\n",
              "      <td>68</td>\n",
              "      <td>13</td>\n",
              "    </tr>\n",
              "    <tr>\n",
              "      <td>3</td>\n",
              "      <td>61</td>\n",
              "      <td>59</td>\n",
              "      <td>-2</td>\n",
              "    </tr>\n",
              "    <tr>\n",
              "      <td>4</td>\n",
              "      <td>59</td>\n",
              "      <td>84</td>\n",
              "      <td>25</td>\n",
              "    </tr>\n",
              "    <tr>\n",
              "      <td>5</td>\n",
              "      <td>45</td>\n",
              "      <td>37</td>\n",
              "      <td>-8</td>\n",
              "    </tr>\n",
              "  </tbody>\n",
              "</table>\n",
              "</div>"
            ],
            "text/plain": [
              "    전   후   차\n",
              "0  59  41 -18\n",
              "1  52  63  11\n",
              "2  55  68  13\n",
              "3  61  59  -2\n",
              "4  59  84  25\n",
              "5  45  37  -8"
            ]
          },
          "metadata": {
            "tags": []
          },
          "execution_count": 29
        }
      ]
    },
    {
      "cell_type": "code",
      "metadata": {
        "ExecuteTime": {
          "end_time": "2018-08-24T07:05:46.217605Z",
          "start_time": "2018-08-24T07:05:46.210468Z"
        },
        "id": "qwtvek4BlRuv",
        "outputId": "429c0e55-a322-4daa-af6d-97d4e18b47db"
      },
      "source": [
        "rank = stats.rankdata(abs(diff)).astype(int)\n",
        "toy_df['순위'] = rank\n",
        "toy_df"
      ],
      "execution_count": null,
      "outputs": [
        {
          "output_type": "execute_result",
          "data": {
            "text/html": [
              "<div>\n",
              "<style scoped>\n",
              "    .dataframe tbody tr th:only-of-type {\n",
              "        vertical-align: middle;\n",
              "    }\n",
              "\n",
              "    .dataframe tbody tr th {\n",
              "        vertical-align: top;\n",
              "    }\n",
              "\n",
              "    .dataframe thead th {\n",
              "        text-align: right;\n",
              "    }\n",
              "</style>\n",
              "<table border=\"1\" class=\"dataframe\">\n",
              "  <thead>\n",
              "    <tr style=\"text-align: right;\">\n",
              "      <th></th>\n",
              "      <th>전</th>\n",
              "      <th>후</th>\n",
              "      <th>차</th>\n",
              "      <th>순위</th>\n",
              "    </tr>\n",
              "  </thead>\n",
              "  <tbody>\n",
              "    <tr>\n",
              "      <td>0</td>\n",
              "      <td>59</td>\n",
              "      <td>41</td>\n",
              "      <td>-18</td>\n",
              "      <td>5</td>\n",
              "    </tr>\n",
              "    <tr>\n",
              "      <td>1</td>\n",
              "      <td>52</td>\n",
              "      <td>63</td>\n",
              "      <td>11</td>\n",
              "      <td>3</td>\n",
              "    </tr>\n",
              "    <tr>\n",
              "      <td>2</td>\n",
              "      <td>55</td>\n",
              "      <td>68</td>\n",
              "      <td>13</td>\n",
              "      <td>4</td>\n",
              "    </tr>\n",
              "    <tr>\n",
              "      <td>3</td>\n",
              "      <td>61</td>\n",
              "      <td>59</td>\n",
              "      <td>-2</td>\n",
              "      <td>1</td>\n",
              "    </tr>\n",
              "    <tr>\n",
              "      <td>4</td>\n",
              "      <td>59</td>\n",
              "      <td>84</td>\n",
              "      <td>25</td>\n",
              "      <td>6</td>\n",
              "    </tr>\n",
              "    <tr>\n",
              "      <td>5</td>\n",
              "      <td>45</td>\n",
              "      <td>37</td>\n",
              "      <td>-8</td>\n",
              "      <td>2</td>\n",
              "    </tr>\n",
              "  </tbody>\n",
              "</table>\n",
              "</div>"
            ],
            "text/plain": [
              "    전   후   차  순위\n",
              "0  59  41 -18   5\n",
              "1  52  63  11   3\n",
              "2  55  68  13   4\n",
              "3  61  59  -2   1\n",
              "4  59  84  25   6\n",
              "5  45  37  -8   2"
            ]
          },
          "metadata": {
            "tags": []
          },
          "execution_count": 30
        }
      ]
    },
    {
      "cell_type": "code",
      "metadata": {
        "ExecuteTime": {
          "end_time": "2018-08-24T07:05:46.223577Z",
          "start_time": "2018-08-24T07:05:46.218864Z"
        },
        "id": "IflxNd1SlRuw",
        "outputId": "68f9f461-e974-4d8f-8176-32fece6a5f7e"
      },
      "source": [
        "r_minus = np.sum((diff < 0) * rank)\n",
        "r_plus = np.sum((diff > 0) * rank)\n",
        "\n",
        "r_minus, r_plus"
      ],
      "execution_count": null,
      "outputs": [
        {
          "output_type": "execute_result",
          "data": {
            "text/plain": [
              "(8, 13)"
            ]
          },
          "metadata": {
            "tags": []
          },
          "execution_count": 31
        }
      ]
    },
    {
      "cell_type": "code",
      "metadata": {
        "ExecuteTime": {
          "end_time": "2018-08-24T07:05:46.234054Z",
          "start_time": "2018-08-24T07:05:46.224746Z"
        },
        "id": "QY1J2zyJlRuw",
        "outputId": "d7453c38-e160-476d-afc7-99f03f3fbaff"
      },
      "source": [
        "toy_df['후'] = toy_df['전'] + np.arange(1, 7)\n",
        "diff = toy_df['후'] - toy_df['전']\n",
        "rank = stats.rankdata(abs(diff)).astype(int)\n",
        "toy_df['차'] = diff\n",
        "toy_df['순위'] = rank\n",
        "toy_df"
      ],
      "execution_count": null,
      "outputs": [
        {
          "output_type": "execute_result",
          "data": {
            "text/html": [
              "<div>\n",
              "<style scoped>\n",
              "    .dataframe tbody tr th:only-of-type {\n",
              "        vertical-align: middle;\n",
              "    }\n",
              "\n",
              "    .dataframe tbody tr th {\n",
              "        vertical-align: top;\n",
              "    }\n",
              "\n",
              "    .dataframe thead th {\n",
              "        text-align: right;\n",
              "    }\n",
              "</style>\n",
              "<table border=\"1\" class=\"dataframe\">\n",
              "  <thead>\n",
              "    <tr style=\"text-align: right;\">\n",
              "      <th></th>\n",
              "      <th>전</th>\n",
              "      <th>후</th>\n",
              "      <th>차</th>\n",
              "      <th>순위</th>\n",
              "    </tr>\n",
              "  </thead>\n",
              "  <tbody>\n",
              "    <tr>\n",
              "      <td>0</td>\n",
              "      <td>59</td>\n",
              "      <td>60</td>\n",
              "      <td>1</td>\n",
              "      <td>1</td>\n",
              "    </tr>\n",
              "    <tr>\n",
              "      <td>1</td>\n",
              "      <td>52</td>\n",
              "      <td>54</td>\n",
              "      <td>2</td>\n",
              "      <td>2</td>\n",
              "    </tr>\n",
              "    <tr>\n",
              "      <td>2</td>\n",
              "      <td>55</td>\n",
              "      <td>58</td>\n",
              "      <td>3</td>\n",
              "      <td>3</td>\n",
              "    </tr>\n",
              "    <tr>\n",
              "      <td>3</td>\n",
              "      <td>61</td>\n",
              "      <td>65</td>\n",
              "      <td>4</td>\n",
              "      <td>4</td>\n",
              "    </tr>\n",
              "    <tr>\n",
              "      <td>4</td>\n",
              "      <td>59</td>\n",
              "      <td>64</td>\n",
              "      <td>5</td>\n",
              "      <td>5</td>\n",
              "    </tr>\n",
              "    <tr>\n",
              "      <td>5</td>\n",
              "      <td>45</td>\n",
              "      <td>51</td>\n",
              "      <td>6</td>\n",
              "      <td>6</td>\n",
              "    </tr>\n",
              "  </tbody>\n",
              "</table>\n",
              "</div>"
            ],
            "text/plain": [
              "    전   후  차  순위\n",
              "0  59  60  1   1\n",
              "1  52  54  2   2\n",
              "2  55  58  3   3\n",
              "3  61  65  4   4\n",
              "4  59  64  5   5\n",
              "5  45  51  6   6"
            ]
          },
          "metadata": {
            "tags": []
          },
          "execution_count": 32
        }
      ]
    },
    {
      "cell_type": "code",
      "metadata": {
        "ExecuteTime": {
          "end_time": "2018-08-24T07:05:46.239887Z",
          "start_time": "2018-08-24T07:05:46.235134Z"
        },
        "id": "iauhWApblRuw",
        "outputId": "dd0a4b6a-1238-4bf5-edd8-e255b1a5bad1"
      },
      "source": [
        "r_minus = np.sum((diff < 0) * rank)\n",
        "r_plus = np.sum((diff > 0) * rank)\n",
        "\n",
        "r_minus, r_plus"
      ],
      "execution_count": null,
      "outputs": [
        {
          "output_type": "execute_result",
          "data": {
            "text/plain": [
              "(0, 21)"
            ]
          },
          "metadata": {
            "tags": []
          },
          "execution_count": 33
        }
      ]
    },
    {
      "cell_type": "code",
      "metadata": {
        "ExecuteTime": {
          "end_time": "2018-08-24T07:05:46.251061Z",
          "start_time": "2018-08-24T07:05:46.242490Z"
        },
        "id": "jjPLmqPolRux",
        "outputId": "d0a1f07a-54ba-4c02-dd62-d95c94ac8aa9"
      },
      "source": [
        "toy_df['후'] = toy_df['전'] + [1, -2, -3, 4, 5, -6]\n",
        "diff = toy_df['후'] - toy_df['전']\n",
        "rank = stats.rankdata(abs(diff)).astype(int)\n",
        "toy_df['차'] = diff\n",
        "toy_df['순위'] = rank\n",
        "toy_df"
      ],
      "execution_count": null,
      "outputs": [
        {
          "output_type": "execute_result",
          "data": {
            "text/html": [
              "<div>\n",
              "<style scoped>\n",
              "    .dataframe tbody tr th:only-of-type {\n",
              "        vertical-align: middle;\n",
              "    }\n",
              "\n",
              "    .dataframe tbody tr th {\n",
              "        vertical-align: top;\n",
              "    }\n",
              "\n",
              "    .dataframe thead th {\n",
              "        text-align: right;\n",
              "    }\n",
              "</style>\n",
              "<table border=\"1\" class=\"dataframe\">\n",
              "  <thead>\n",
              "    <tr style=\"text-align: right;\">\n",
              "      <th></th>\n",
              "      <th>전</th>\n",
              "      <th>후</th>\n",
              "      <th>차</th>\n",
              "      <th>순위</th>\n",
              "    </tr>\n",
              "  </thead>\n",
              "  <tbody>\n",
              "    <tr>\n",
              "      <td>0</td>\n",
              "      <td>59</td>\n",
              "      <td>60</td>\n",
              "      <td>1</td>\n",
              "      <td>1</td>\n",
              "    </tr>\n",
              "    <tr>\n",
              "      <td>1</td>\n",
              "      <td>52</td>\n",
              "      <td>50</td>\n",
              "      <td>-2</td>\n",
              "      <td>2</td>\n",
              "    </tr>\n",
              "    <tr>\n",
              "      <td>2</td>\n",
              "      <td>55</td>\n",
              "      <td>52</td>\n",
              "      <td>-3</td>\n",
              "      <td>3</td>\n",
              "    </tr>\n",
              "    <tr>\n",
              "      <td>3</td>\n",
              "      <td>61</td>\n",
              "      <td>65</td>\n",
              "      <td>4</td>\n",
              "      <td>4</td>\n",
              "    </tr>\n",
              "    <tr>\n",
              "      <td>4</td>\n",
              "      <td>59</td>\n",
              "      <td>64</td>\n",
              "      <td>5</td>\n",
              "      <td>5</td>\n",
              "    </tr>\n",
              "    <tr>\n",
              "      <td>5</td>\n",
              "      <td>45</td>\n",
              "      <td>39</td>\n",
              "      <td>-6</td>\n",
              "      <td>6</td>\n",
              "    </tr>\n",
              "  </tbody>\n",
              "</table>\n",
              "</div>"
            ],
            "text/plain": [
              "    전   후  차  순위\n",
              "0  59  60  1   1\n",
              "1  52  50 -2   2\n",
              "2  55  52 -3   3\n",
              "3  61  65  4   4\n",
              "4  59  64  5   5\n",
              "5  45  39 -6   6"
            ]
          },
          "metadata": {
            "tags": []
          },
          "execution_count": 34
        }
      ]
    },
    {
      "cell_type": "code",
      "metadata": {
        "ExecuteTime": {
          "end_time": "2018-08-24T07:05:46.256477Z",
          "start_time": "2018-08-24T07:05:46.252136Z"
        },
        "id": "Ut5jk0q2lRux",
        "outputId": "151bf13f-5673-4de4-8d17-bafee15e6164"
      },
      "source": [
        "r_minus = np.sum((diff < 0) * rank)\n",
        "r_plus = np.sum((diff > 0) * rank)\n",
        "\n",
        "r_minus, r_plus"
      ],
      "execution_count": null,
      "outputs": [
        {
          "output_type": "execute_result",
          "data": {
            "text/plain": [
              "(11, 10)"
            ]
          },
          "metadata": {
            "tags": []
          },
          "execution_count": 35
        }
      ]
    },
    {
      "cell_type": "code",
      "metadata": {
        "ExecuteTime": {
          "end_time": "2018-08-24T07:05:46.261588Z",
          "start_time": "2018-08-24T07:05:46.257715Z"
        },
        "id": "ECmupDNZlRuy",
        "outputId": "d6f94fc5-3108-47aa-8a76-3572ee8c19e0"
      },
      "source": [
        "T, p = stats.wilcoxon(training_rel['전'], training_rel['후'])\n",
        "p"
      ],
      "execution_count": null,
      "outputs": [
        {
          "output_type": "execute_result",
          "data": {
            "text/plain": [
              "0.037999792729223686"
            ]
          },
          "metadata": {
            "tags": []
          },
          "execution_count": 36
        }
      ]
    },
    {
      "cell_type": "code",
      "metadata": {
        "ExecuteTime": {
          "end_time": "2018-08-24T07:05:46.266378Z",
          "start_time": "2018-08-24T07:05:46.262703Z"
        },
        "id": "-Q9ztLOMlRuy",
        "outputId": "9d5caa84-f511-482a-c07c-8c67fbb5168e"
      },
      "source": [
        "T, p = stats.wilcoxon(training_rel['후'] - training_rel['전'])\n",
        "p"
      ],
      "execution_count": null,
      "outputs": [
        {
          "output_type": "execute_result",
          "data": {
            "text/plain": [
              "0.037999792729223686"
            ]
          },
          "metadata": {
            "tags": []
          },
          "execution_count": 37
        }
      ]
    },
    {
      "cell_type": "code",
      "metadata": {
        "ExecuteTime": {
          "end_time": "2018-08-24T07:05:46.280201Z",
          "start_time": "2018-08-24T07:05:46.267547Z"
        },
        "id": "ZbUyaNYxlRuz"
      },
      "source": [
        "n = 10000\n",
        "diffs = np.round(stats.norm(3, 4).rvs(size=(n, 20)))"
      ],
      "execution_count": null,
      "outputs": []
    },
    {
      "cell_type": "code",
      "metadata": {
        "ExecuteTime": {
          "end_time": "2018-08-24T07:05:47.610383Z",
          "start_time": "2018-08-24T07:05:46.281743Z"
        },
        "id": "r59vbLi1lRuz",
        "outputId": "f336cf69-c4ca-4b41-a47b-2ffa4a48b987"
      },
      "source": [
        "cnt = 0\n",
        "alpha = 0.05\n",
        "for diff in diffs:\n",
        "    t, p = stats.ttest_1samp(diff, 0)\n",
        "    if p < alpha:\n",
        "        cnt += 1\n",
        "cnt / n"
      ],
      "execution_count": null,
      "outputs": [
        {
          "output_type": "execute_result",
          "data": {
            "text/plain": [
              "0.883"
            ]
          },
          "metadata": {
            "tags": []
          },
          "execution_count": 39
        }
      ]
    },
    {
      "cell_type": "code",
      "metadata": {
        "ExecuteTime": {
          "end_time": "2018-08-24T07:05:49.268059Z",
          "start_time": "2018-08-24T07:05:47.611721Z"
        },
        "id": "es4kr8a0lRu0",
        "outputId": "c4ec284f-21a2-4b4c-bc7a-0e780de60636"
      },
      "source": [
        "cnt = 0\n",
        "alpha = 0.05\n",
        "for diff in diffs:\n",
        "    T, p = stats.wilcoxon(diff)\n",
        "    if p < alpha:\n",
        "        cnt += 1\n",
        "cnt / n"
      ],
      "execution_count": null,
      "outputs": [
        {
          "output_type": "execute_result",
          "data": {
            "text/plain": [
              "0.874"
            ]
          },
          "metadata": {
            "tags": []
          },
          "execution_count": 40
        }
      ]
    },
    {
      "cell_type": "markdown",
      "metadata": {
        "id": "oQWPLJ9vlRu2"
      },
      "source": [
        "### 만・위트니의 U검정"
      ]
    },
    {
      "cell_type": "code",
      "metadata": {
        "ExecuteTime": {
          "end_time": "2018-08-24T07:05:49.275994Z",
          "start_time": "2018-08-24T07:05:49.269119Z"
        },
        "id": "caXp5jRSlRu3",
        "outputId": "71333641-bbe7-4a70-9834-0134d95bd574"
      },
      "source": [
        "training_ind = pd.read_csv('../data/ch11_training_ind.csv')\n",
        "toy_df = training_ind[:5].copy()\n",
        "toy_df"
      ],
      "execution_count": null,
      "outputs": [
        {
          "output_type": "execute_result",
          "data": {
            "text/html": [
              "<div>\n",
              "<style scoped>\n",
              "    .dataframe tbody tr th:only-of-type {\n",
              "        vertical-align: middle;\n",
              "    }\n",
              "\n",
              "    .dataframe tbody tr th {\n",
              "        vertical-align: top;\n",
              "    }\n",
              "\n",
              "    .dataframe thead th {\n",
              "        text-align: right;\n",
              "    }\n",
              "</style>\n",
              "<table border=\"1\" class=\"dataframe\">\n",
              "  <thead>\n",
              "    <tr style=\"text-align: right;\">\n",
              "      <th></th>\n",
              "      <th>A</th>\n",
              "      <th>B</th>\n",
              "    </tr>\n",
              "  </thead>\n",
              "  <tbody>\n",
              "    <tr>\n",
              "      <td>0</td>\n",
              "      <td>47</td>\n",
              "      <td>49</td>\n",
              "    </tr>\n",
              "    <tr>\n",
              "      <td>1</td>\n",
              "      <td>50</td>\n",
              "      <td>52</td>\n",
              "    </tr>\n",
              "    <tr>\n",
              "      <td>2</td>\n",
              "      <td>37</td>\n",
              "      <td>54</td>\n",
              "    </tr>\n",
              "    <tr>\n",
              "      <td>3</td>\n",
              "      <td>60</td>\n",
              "      <td>48</td>\n",
              "    </tr>\n",
              "    <tr>\n",
              "      <td>4</td>\n",
              "      <td>39</td>\n",
              "      <td>51</td>\n",
              "    </tr>\n",
              "  </tbody>\n",
              "</table>\n",
              "</div>"
            ],
            "text/plain": [
              "    A   B\n",
              "0  47  49\n",
              "1  50  52\n",
              "2  37  54\n",
              "3  60  48\n",
              "4  39  51"
            ]
          },
          "metadata": {
            "tags": []
          },
          "execution_count": 41
        }
      ]
    },
    {
      "cell_type": "code",
      "metadata": {
        "ExecuteTime": {
          "end_time": "2018-08-24T07:05:49.285873Z",
          "start_time": "2018-08-24T07:05:49.277475Z"
        },
        "id": "cg2eRANblRu4",
        "outputId": "c82cae7e-2411-4997-8205-9aaba8681d69"
      },
      "source": [
        "rank = stats.rankdata(np.concatenate([toy_df['A'],\n",
        "                                      toy_df['B']]))\n",
        "rank_df = pd.DataFrame({'A': rank[:5],\n",
        "                        'B': rank[5:10]}).astype(int)\n",
        "rank_df"
      ],
      "execution_count": null,
      "outputs": [
        {
          "output_type": "execute_result",
          "data": {
            "text/html": [
              "<div>\n",
              "<style scoped>\n",
              "    .dataframe tbody tr th:only-of-type {\n",
              "        vertical-align: middle;\n",
              "    }\n",
              "\n",
              "    .dataframe tbody tr th {\n",
              "        vertical-align: top;\n",
              "    }\n",
              "\n",
              "    .dataframe thead th {\n",
              "        text-align: right;\n",
              "    }\n",
              "</style>\n",
              "<table border=\"1\" class=\"dataframe\">\n",
              "  <thead>\n",
              "    <tr style=\"text-align: right;\">\n",
              "      <th></th>\n",
              "      <th>A</th>\n",
              "      <th>B</th>\n",
              "    </tr>\n",
              "  </thead>\n",
              "  <tbody>\n",
              "    <tr>\n",
              "      <td>0</td>\n",
              "      <td>3</td>\n",
              "      <td>5</td>\n",
              "    </tr>\n",
              "    <tr>\n",
              "      <td>1</td>\n",
              "      <td>6</td>\n",
              "      <td>8</td>\n",
              "    </tr>\n",
              "    <tr>\n",
              "      <td>2</td>\n",
              "      <td>1</td>\n",
              "      <td>9</td>\n",
              "    </tr>\n",
              "    <tr>\n",
              "      <td>3</td>\n",
              "      <td>10</td>\n",
              "      <td>4</td>\n",
              "    </tr>\n",
              "    <tr>\n",
              "      <td>4</td>\n",
              "      <td>2</td>\n",
              "      <td>7</td>\n",
              "    </tr>\n",
              "  </tbody>\n",
              "</table>\n",
              "</div>"
            ],
            "text/plain": [
              "    A  B\n",
              "0   3  5\n",
              "1   6  8\n",
              "2   1  9\n",
              "3  10  4\n",
              "4   2  7"
            ]
          },
          "metadata": {
            "tags": []
          },
          "execution_count": 42
        }
      ]
    },
    {
      "cell_type": "code",
      "metadata": {
        "ExecuteTime": {
          "end_time": "2018-08-24T07:05:49.292820Z",
          "start_time": "2018-08-24T07:05:49.287606Z"
        },
        "id": "q5NIg8iDlRu4",
        "outputId": "a9d483d7-7d4a-40c8-f742-3c355558e130"
      },
      "source": [
        "n1 = len(rank_df['A'])\n",
        "u = rank_df['A'].sum() - (n1*(n1+1))/2\n",
        "u"
      ],
      "execution_count": null,
      "outputs": [
        {
          "output_type": "execute_result",
          "data": {
            "text/plain": [
              "7.0"
            ]
          },
          "metadata": {
            "tags": []
          },
          "execution_count": 43
        }
      ]
    },
    {
      "cell_type": "code",
      "metadata": {
        "ExecuteTime": {
          "end_time": "2018-08-24T07:05:49.301473Z",
          "start_time": "2018-08-24T07:05:49.294455Z"
        },
        "id": "uJMW-8xklRu5",
        "outputId": "282e761b-80fd-4966-b294-098e3f61c4f2"
      },
      "source": [
        "rank_df = pd.DataFrame(np.arange(1, 11).reshape(2, 5).T,\n",
        "                       columns=['A', 'B'])\n",
        "rank_df"
      ],
      "execution_count": null,
      "outputs": [
        {
          "output_type": "execute_result",
          "data": {
            "text/html": [
              "<div>\n",
              "<style scoped>\n",
              "    .dataframe tbody tr th:only-of-type {\n",
              "        vertical-align: middle;\n",
              "    }\n",
              "\n",
              "    .dataframe tbody tr th {\n",
              "        vertical-align: top;\n",
              "    }\n",
              "\n",
              "    .dataframe thead th {\n",
              "        text-align: right;\n",
              "    }\n",
              "</style>\n",
              "<table border=\"1\" class=\"dataframe\">\n",
              "  <thead>\n",
              "    <tr style=\"text-align: right;\">\n",
              "      <th></th>\n",
              "      <th>A</th>\n",
              "      <th>B</th>\n",
              "    </tr>\n",
              "  </thead>\n",
              "  <tbody>\n",
              "    <tr>\n",
              "      <td>0</td>\n",
              "      <td>1</td>\n",
              "      <td>6</td>\n",
              "    </tr>\n",
              "    <tr>\n",
              "      <td>1</td>\n",
              "      <td>2</td>\n",
              "      <td>7</td>\n",
              "    </tr>\n",
              "    <tr>\n",
              "      <td>2</td>\n",
              "      <td>3</td>\n",
              "      <td>8</td>\n",
              "    </tr>\n",
              "    <tr>\n",
              "      <td>3</td>\n",
              "      <td>4</td>\n",
              "      <td>9</td>\n",
              "    </tr>\n",
              "    <tr>\n",
              "      <td>4</td>\n",
              "      <td>5</td>\n",
              "      <td>10</td>\n",
              "    </tr>\n",
              "  </tbody>\n",
              "</table>\n",
              "</div>"
            ],
            "text/plain": [
              "   A   B\n",
              "0  1   6\n",
              "1  2   7\n",
              "2  3   8\n",
              "3  4   9\n",
              "4  5  10"
            ]
          },
          "metadata": {
            "tags": []
          },
          "execution_count": 44
        }
      ]
    },
    {
      "cell_type": "code",
      "metadata": {
        "ExecuteTime": {
          "end_time": "2018-08-24T07:05:49.307579Z",
          "start_time": "2018-08-24T07:05:49.302805Z"
        },
        "id": "QFZOsRpClRu5",
        "outputId": "15934c9f-d79e-4a2d-a86c-52316369e88c"
      },
      "source": [
        "u = rank_df['A'].sum() - (n1*(n1+1))/2\n",
        "u"
      ],
      "execution_count": null,
      "outputs": [
        {
          "output_type": "execute_result",
          "data": {
            "text/plain": [
              "0.0"
            ]
          },
          "metadata": {
            "tags": []
          },
          "execution_count": 45
        }
      ]
    },
    {
      "cell_type": "code",
      "metadata": {
        "ExecuteTime": {
          "end_time": "2018-08-24T07:05:49.316081Z",
          "start_time": "2018-08-24T07:05:49.309569Z"
        },
        "id": "EsZlVWqDlRu6",
        "outputId": "7da06738-0cfe-4c99-984f-e627cf6e8978"
      },
      "source": [
        "rank_df = pd.DataFrame(np.arange(1, 11).reshape(2, 5)[::-1].T,\n",
        "                       columns=['A', 'B'])\n",
        "rank_df"
      ],
      "execution_count": null,
      "outputs": [
        {
          "output_type": "execute_result",
          "data": {
            "text/html": [
              "<div>\n",
              "<style scoped>\n",
              "    .dataframe tbody tr th:only-of-type {\n",
              "        vertical-align: middle;\n",
              "    }\n",
              "\n",
              "    .dataframe tbody tr th {\n",
              "        vertical-align: top;\n",
              "    }\n",
              "\n",
              "    .dataframe thead th {\n",
              "        text-align: right;\n",
              "    }\n",
              "</style>\n",
              "<table border=\"1\" class=\"dataframe\">\n",
              "  <thead>\n",
              "    <tr style=\"text-align: right;\">\n",
              "      <th></th>\n",
              "      <th>A</th>\n",
              "      <th>B</th>\n",
              "    </tr>\n",
              "  </thead>\n",
              "  <tbody>\n",
              "    <tr>\n",
              "      <td>0</td>\n",
              "      <td>6</td>\n",
              "      <td>1</td>\n",
              "    </tr>\n",
              "    <tr>\n",
              "      <td>1</td>\n",
              "      <td>7</td>\n",
              "      <td>2</td>\n",
              "    </tr>\n",
              "    <tr>\n",
              "      <td>2</td>\n",
              "      <td>8</td>\n",
              "      <td>3</td>\n",
              "    </tr>\n",
              "    <tr>\n",
              "      <td>3</td>\n",
              "      <td>9</td>\n",
              "      <td>4</td>\n",
              "    </tr>\n",
              "    <tr>\n",
              "      <td>4</td>\n",
              "      <td>10</td>\n",
              "      <td>5</td>\n",
              "    </tr>\n",
              "  </tbody>\n",
              "</table>\n",
              "</div>"
            ],
            "text/plain": [
              "    A  B\n",
              "0   6  1\n",
              "1   7  2\n",
              "2   8  3\n",
              "3   9  4\n",
              "4  10  5"
            ]
          },
          "metadata": {
            "tags": []
          },
          "execution_count": 46
        }
      ]
    },
    {
      "cell_type": "code",
      "metadata": {
        "ExecuteTime": {
          "end_time": "2018-08-24T07:05:49.321425Z",
          "start_time": "2018-08-24T07:05:49.317214Z"
        },
        "id": "aMg3yWkJlRu7",
        "outputId": "88f598bc-3166-48a2-9708-bec155fb2175"
      },
      "source": [
        "u = rank_df['A'].sum() - (n1*(n1+1))/2\n",
        "u"
      ],
      "execution_count": null,
      "outputs": [
        {
          "output_type": "execute_result",
          "data": {
            "text/plain": [
              "25.0"
            ]
          },
          "metadata": {
            "tags": []
          },
          "execution_count": 47
        }
      ]
    },
    {
      "cell_type": "code",
      "metadata": {
        "ExecuteTime": {
          "end_time": "2018-08-24T07:05:49.327402Z",
          "start_time": "2018-08-24T07:05:49.322854Z"
        },
        "id": "z_7bkrjzlRu7",
        "outputId": "596a208e-6a24-44f8-ad34-a8785584f906"
      },
      "source": [
        "u, p = stats.mannwhitneyu(training_ind['A'], training_ind['B'],\n",
        "                          alternative='two-sided')\n",
        "p"
      ],
      "execution_count": null,
      "outputs": [
        {
          "output_type": "execute_result",
          "data": {
            "text/plain": [
              "0.05948611166127324"
            ]
          },
          "metadata": {
            "tags": []
          },
          "execution_count": 48
        }
      ]
    },
    {
      "cell_type": "markdown",
      "metadata": {
        "id": "oPoeG8LslRu8"
      },
      "source": [
        "### 카이제곱검정"
      ]
    },
    {
      "cell_type": "code",
      "metadata": {
        "ExecuteTime": {
          "end_time": "2018-08-24T07:05:49.336570Z",
          "start_time": "2018-08-24T07:05:49.328538Z"
        },
        "id": "yws5ioQklRu8",
        "outputId": "aa1369b4-8181-4573-f9ab-7ded818a8a97"
      },
      "source": [
        "ad_df = pd.read_csv('../data/ch11_ad.csv')\n",
        "n = len(ad_df)\n",
        "print(n)\n",
        "ad_df.head()"
      ],
      "execution_count": null,
      "outputs": [
        {
          "output_type": "stream",
          "text": [
            "1000\n"
          ],
          "name": "stdout"
        },
        {
          "output_type": "execute_result",
          "data": {
            "text/html": [
              "<div>\n",
              "<style scoped>\n",
              "    .dataframe tbody tr th:only-of-type {\n",
              "        vertical-align: middle;\n",
              "    }\n",
              "\n",
              "    .dataframe tbody tr th {\n",
              "        vertical-align: top;\n",
              "    }\n",
              "\n",
              "    .dataframe thead th {\n",
              "        text-align: right;\n",
              "    }\n",
              "</style>\n",
              "<table border=\"1\" class=\"dataframe\">\n",
              "  <thead>\n",
              "    <tr style=\"text-align: right;\">\n",
              "      <th></th>\n",
              "      <th>광고</th>\n",
              "      <th>구입</th>\n",
              "    </tr>\n",
              "  </thead>\n",
              "  <tbody>\n",
              "    <tr>\n",
              "      <td>0</td>\n",
              "      <td>B</td>\n",
              "      <td>하지 않았다</td>\n",
              "    </tr>\n",
              "    <tr>\n",
              "      <td>1</td>\n",
              "      <td>B</td>\n",
              "      <td>하지 않았다</td>\n",
              "    </tr>\n",
              "    <tr>\n",
              "      <td>2</td>\n",
              "      <td>A</td>\n",
              "      <td>했다</td>\n",
              "    </tr>\n",
              "    <tr>\n",
              "      <td>3</td>\n",
              "      <td>A</td>\n",
              "      <td>했다</td>\n",
              "    </tr>\n",
              "    <tr>\n",
              "      <td>4</td>\n",
              "      <td>B</td>\n",
              "      <td>하지 않았다</td>\n",
              "    </tr>\n",
              "  </tbody>\n",
              "</table>\n",
              "</div>"
            ],
            "text/plain": [
              "  광고      구입\n",
              "0  B  하지 않았다\n",
              "1  B  하지 않았다\n",
              "2  A      했다\n",
              "3  A      했다\n",
              "4  B  하지 않았다"
            ]
          },
          "metadata": {
            "tags": []
          },
          "execution_count": 49
        }
      ]
    },
    {
      "cell_type": "code",
      "metadata": {
        "ExecuteTime": {
          "end_time": "2018-08-24T07:05:49.354107Z",
          "start_time": "2018-08-24T07:05:49.337684Z"
        },
        "id": "LrRczroOlRu9",
        "outputId": "9c77260e-32f7-458d-f0bb-0133a6936d4a"
      },
      "source": [
        "ad_cross = pd.crosstab(ad_df['광고'], ad_df['구입'])\n",
        "ad_cross"
      ],
      "execution_count": null,
      "outputs": [
        {
          "output_type": "execute_result",
          "data": {
            "text/html": [
              "<div>\n",
              "<style scoped>\n",
              "    .dataframe tbody tr th:only-of-type {\n",
              "        vertical-align: middle;\n",
              "    }\n",
              "\n",
              "    .dataframe tbody tr th {\n",
              "        vertical-align: top;\n",
              "    }\n",
              "\n",
              "    .dataframe thead th {\n",
              "        text-align: right;\n",
              "    }\n",
              "</style>\n",
              "<table border=\"1\" class=\"dataframe\">\n",
              "  <thead>\n",
              "    <tr style=\"text-align: right;\">\n",
              "      <th>구입</th>\n",
              "      <th>하지 않았다</th>\n",
              "      <th>했다</th>\n",
              "    </tr>\n",
              "    <tr>\n",
              "      <th>광고</th>\n",
              "      <th></th>\n",
              "      <th></th>\n",
              "    </tr>\n",
              "  </thead>\n",
              "  <tbody>\n",
              "    <tr>\n",
              "      <td>A</td>\n",
              "      <td>351</td>\n",
              "      <td>49</td>\n",
              "    </tr>\n",
              "    <tr>\n",
              "      <td>B</td>\n",
              "      <td>549</td>\n",
              "      <td>51</td>\n",
              "    </tr>\n",
              "  </tbody>\n",
              "</table>\n",
              "</div>"
            ],
            "text/plain": [
              "구입  하지 않았다  했다\n",
              "광고            \n",
              "A      351  49\n",
              "B      549  51"
            ]
          },
          "metadata": {
            "tags": []
          },
          "execution_count": 50
        }
      ]
    },
    {
      "cell_type": "code",
      "metadata": {
        "ExecuteTime": {
          "end_time": "2018-08-24T07:05:49.359743Z",
          "start_time": "2018-08-24T07:05:49.355421Z"
        },
        "id": "4yCEfvgElRu9",
        "outputId": "d36787a9-4f3a-49f2-9899-40a1f36c789d"
      },
      "source": [
        "ad_cross['했다'] / (ad_cross['했다'] + ad_cross['하지 않았다'])"
      ],
      "execution_count": null,
      "outputs": [
        {
          "output_type": "execute_result",
          "data": {
            "text/plain": [
              "광고\n",
              "A    0.1225\n",
              "B    0.0850\n",
              "dtype: float64"
            ]
          },
          "metadata": {
            "tags": []
          },
          "execution_count": 51
        }
      ]
    },
    {
      "cell_type": "code",
      "metadata": {
        "ExecuteTime": {
          "end_time": "2018-08-24T07:05:49.364603Z",
          "start_time": "2018-08-24T07:05:49.361124Z"
        },
        "id": "dV9pQp17lRu9",
        "outputId": "9b179d4f-96c9-4729-bcac-70f1d63bbf3f"
      },
      "source": [
        "n_not, n_yes = ad_cross.sum()\n",
        "n_not, n_yes"
      ],
      "execution_count": null,
      "outputs": [
        {
          "output_type": "execute_result",
          "data": {
            "text/plain": [
              "(900, 100)"
            ]
          },
          "metadata": {
            "tags": []
          },
          "execution_count": 52
        }
      ]
    },
    {
      "cell_type": "code",
      "metadata": {
        "ExecuteTime": {
          "end_time": "2018-08-24T07:05:49.370216Z",
          "start_time": "2018-08-24T07:05:49.365857Z"
        },
        "id": "FGnVVpMplRu-",
        "outputId": "f7d71eae-1cf1-48c7-d7ed-47321f73609d"
      },
      "source": [
        "n_adA, n_adB = ad_cross.sum(axis=1)\n",
        "n_adA, n_adB"
      ],
      "execution_count": null,
      "outputs": [
        {
          "output_type": "execute_result",
          "data": {
            "text/plain": [
              "(400, 600)"
            ]
          },
          "metadata": {
            "tags": []
          },
          "execution_count": 53
        }
      ]
    },
    {
      "cell_type": "code",
      "metadata": {
        "ExecuteTime": {
          "end_time": "2018-08-24T07:05:49.379853Z",
          "start_time": "2018-08-24T07:05:49.371681Z"
        },
        "id": "eUCtNUL6lRu_",
        "outputId": "986932b2-cd5c-4bea-c9ec-50fc0ac06402"
      },
      "source": [
        "ad_ef = pd.DataFrame({'했다': [n_adA * n_yes / n,\n",
        "                              n_adB * n_yes / n],\n",
        "                      '하지 않았다': [n_adA * n_not / n,\n",
        "                                   n_adB * n_not / n]},\n",
        "                      index=['A', 'B'])\n",
        "ad_ef"
      ],
      "execution_count": null,
      "outputs": [
        {
          "output_type": "execute_result",
          "data": {
            "text/html": [
              "<div>\n",
              "<style scoped>\n",
              "    .dataframe tbody tr th:only-of-type {\n",
              "        vertical-align: middle;\n",
              "    }\n",
              "\n",
              "    .dataframe tbody tr th {\n",
              "        vertical-align: top;\n",
              "    }\n",
              "\n",
              "    .dataframe thead th {\n",
              "        text-align: right;\n",
              "    }\n",
              "</style>\n",
              "<table border=\"1\" class=\"dataframe\">\n",
              "  <thead>\n",
              "    <tr style=\"text-align: right;\">\n",
              "      <th></th>\n",
              "      <th>했다</th>\n",
              "      <th>하지 않았다</th>\n",
              "    </tr>\n",
              "  </thead>\n",
              "  <tbody>\n",
              "    <tr>\n",
              "      <td>A</td>\n",
              "      <td>40.0</td>\n",
              "      <td>360.0</td>\n",
              "    </tr>\n",
              "    <tr>\n",
              "      <td>B</td>\n",
              "      <td>60.0</td>\n",
              "      <td>540.0</td>\n",
              "    </tr>\n",
              "  </tbody>\n",
              "</table>\n",
              "</div>"
            ],
            "text/plain": [
              "     했다  하지 않았다\n",
              "A  40.0   360.0\n",
              "B  60.0   540.0"
            ]
          },
          "metadata": {
            "tags": []
          },
          "execution_count": 54
        }
      ]
    },
    {
      "cell_type": "code",
      "metadata": {
        "ExecuteTime": {
          "end_time": "2018-08-24T07:05:49.385412Z",
          "start_time": "2018-08-24T07:05:49.380905Z"
        },
        "id": "ykj_dpZtlRu_",
        "outputId": "0e2feb04-7c3d-45cf-fcd6-949846509efe"
      },
      "source": [
        "y = ((ad_cross - ad_ef) ** 2 / ad_ef).sum().sum()\n",
        "y"
      ],
      "execution_count": null,
      "outputs": [
        {
          "output_type": "execute_result",
          "data": {
            "text/plain": [
              "3.75"
            ]
          },
          "metadata": {
            "tags": []
          },
          "execution_count": 55
        }
      ]
    },
    {
      "cell_type": "code",
      "metadata": {
        "ExecuteTime": {
          "end_time": "2018-08-24T07:05:49.390070Z",
          "start_time": "2018-08-24T07:05:49.386617Z"
        },
        "id": "_g615keBlRvA",
        "outputId": "971a3a45-b54d-4186-cf87-0fe86dfc55fb"
      },
      "source": [
        "rv = stats.chi2(1)\n",
        "1 - rv.cdf(y)"
      ],
      "execution_count": null,
      "outputs": [
        {
          "output_type": "execute_result",
          "data": {
            "text/plain": [
              "0.052807511416113395"
            ]
          },
          "metadata": {
            "tags": []
          },
          "execution_count": 56
        }
      ]
    },
    {
      "cell_type": "code",
      "metadata": {
        "ExecuteTime": {
          "end_time": "2018-08-24T07:05:49.395030Z",
          "start_time": "2018-08-24T07:05:49.391241Z"
        },
        "id": "uEtAhw2UlRvB",
        "outputId": "1fe8ca83-e1a7-4fb4-c3ab-218434125e25"
      },
      "source": [
        "chi2, p, dof, ef = stats.chi2_contingency(ad_cross,\n",
        "                                          correction=False)\n",
        "chi2, p, dof"
      ],
      "execution_count": null,
      "outputs": [
        {
          "output_type": "execute_result",
          "data": {
            "text/plain": [
              "(3.75, 0.052807511416113395, 1)"
            ]
          },
          "metadata": {
            "tags": []
          },
          "execution_count": 57
        }
      ]
    },
    {
      "cell_type": "code",
      "metadata": {
        "ExecuteTime": {
          "end_time": "2018-08-24T07:05:49.399218Z",
          "start_time": "2018-08-24T07:05:49.396171Z"
        },
        "id": "hEIDtrIwlRvB",
        "outputId": "c88c4527-e8d9-440f-b588-77832e81b91b"
      },
      "source": [
        "ef"
      ],
      "execution_count": null,
      "outputs": [
        {
          "output_type": "execute_result",
          "data": {
            "text/plain": [
              "array([[360.,  40.],\n",
              "       [540.,  60.]])"
            ]
          },
          "metadata": {
            "tags": []
          },
          "execution_count": 58
        }
      ]
    },
    {
      "cell_type": "code",
      "metadata": {
        "id": "AyRJvOfqlRvC"
      },
      "source": [
        ""
      ],
      "execution_count": null,
      "outputs": []
    },
    {
      "cell_type": "code",
      "metadata": {
        "id": "fWNz_5VBlRvC"
      },
      "source": [
        ""
      ],
      "execution_count": null,
      "outputs": []
    }
  ]
}