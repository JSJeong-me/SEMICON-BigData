{
  "nbformat": 4,
  "nbformat_minor": 0,
  "metadata": {
    "colab": {
      "name": "Untitled1.ipynb",
      "provenance": [],
      "include_colab_link": true
    },
    "kernelspec": {
      "name": "python3",
      "display_name": "Python 3"
    },
    "language_info": {
      "name": "python"
    }
  },
  "cells": [
    {
      "cell_type": "markdown",
      "metadata": {
        "id": "view-in-github",
        "colab_type": "text"
      },
      "source": [
        "<a href=\"https://colab.research.google.com/github/JSJeong-me/SEMICON-BigData/blob/main/pandas.ipynb\" target=\"_parent\"><img src=\"https://colab.research.google.com/assets/colab-badge.svg\" alt=\"Open In Colab\"/></a>"
      ]
    },
    {
      "cell_type": "code",
      "metadata": {
        "id": "it8ldQfXBO4T"
      },
      "source": [
        "파이썬 이해, 데이터 수집 및 정제, 데이터 시각화, 통계의 이해까지이며 내용으로는 Pandas활용, 시각화, 통계적 가설검정"
      ],
      "execution_count": null,
      "outputs": []
    },
    {
      "cell_type": "markdown",
      "metadata": {
        "id": "_qjQKYBADv9H"
      },
      "source": [
        "Computer Program는\n",
        "\n",
        "Mathmatics Notation 과 NLP 사이"
      ]
    },
    {
      "cell_type": "markdown",
      "metadata": {
        "id": "bwGKbkrfEezH"
      },
      "source": [
        "Python\n",
        "platform — 하부 플랫폼의 식별 데이터에 대한 액세스"
      ]
    },
    {
      "cell_type": "code",
      "metadata": {
        "id": "XhAerIjzEd_5"
      },
      "source": [
        "import platform"
      ],
      "execution_count": null,
      "outputs": []
    },
    {
      "cell_type": "code",
      "metadata": {
        "id": "YdyciqhEDu4e"
      },
      "source": [
        ""
      ],
      "execution_count": null,
      "outputs": []
    },
    {
      "cell_type": "code",
      "metadata": {
        "id": "KYhJo4FOBSs0"
      },
      "source": [
        "import pandas as pd"
      ],
      "execution_count": null,
      "outputs": []
    },
    {
      "cell_type": "markdown",
      "metadata": {
        "id": "j5FX29mqBP5t"
      },
      "source": [
        ""
      ]
    },
    {
      "cell_type": "markdown",
      "metadata": {
        "id": "AeVE-larBP-X"
      },
      "source": [
        ""
      ]
    },
    {
      "cell_type": "markdown",
      "metadata": {
        "id": "LY3aRxwTBQAX"
      },
      "source": [
        ""
      ]
    },
    {
      "cell_type": "markdown",
      "metadata": {
        "id": "Z2dj-DoXBQCG"
      },
      "source": [
        ""
      ]
    }
  ]
}