{
  "nbformat": 4,
  "nbformat_minor": 0,
  "metadata": {
    "kernelspec": {
      "display_name": "Python 3",
      "language": "python",
      "name": "python3"
    },
    "colab": {
      "name": "tip-visualization.ipynb",
      "provenance": [],
      "include_colab_link": true
    }
  },
  "cells": [
    {
      "cell_type": "markdown",
      "metadata": {
        "id": "view-in-github",
        "colab_type": "text"
      },
      "source": [
        "<a href=\"https://colab.research.google.com/github/JSJeong-me/SEMICON-BigData/blob/main/tip_visualization.ipynb\" target=\"_parent\"><img src=\"https://colab.research.google.com/assets/colab-badge.svg\" alt=\"Open In Colab\"/></a>"
      ]
    },
    {
      "cell_type": "markdown",
      "metadata": {
        "id": "QF8EbFDsfvZW"
      },
      "source": [
        "# Python Assignment "
      ]
    },
    {
      "cell_type": "code",
      "metadata": {
        "trusted": true,
        "id": "_La5BazrfvZY"
      },
      "source": [
        "import pandas as pd\n",
        "import matplotlib.pyplot as plt\n",
        "import seaborn as sns\n",
        "import numpy as np"
      ],
      "execution_count": 3,
      "outputs": []
    },
    {
      "cell_type": "code",
      "metadata": {
        "trusted": true,
        "id": "J5bfmUfEfvZa"
      },
      "source": [
        "data = pd.read_csv(\"./tips.csv\")"
      ],
      "execution_count": 22,
      "outputs": []
    },
    {
      "cell_type": "markdown",
      "metadata": {
        "id": "KcsjTI1VfvZb"
      },
      "source": [
        "## Sample Data"
      ]
    },
    {
      "cell_type": "code",
      "metadata": {
        "trusted": true,
        "colab": {
          "base_uri": "https://localhost:8080/",
          "height": 204
        },
        "id": "nigeoEOQfvZc",
        "outputId": "fc2361e0-b9df-4abe-f815-d48c3e254b4e"
      },
      "source": [
        "data.head()"
      ],
      "execution_count": 82,
      "outputs": [
        {
          "output_type": "execute_result",
          "data": {
            "text/html": [
              "<div>\n",
              "<style scoped>\n",
              "    .dataframe tbody tr th:only-of-type {\n",
              "        vertical-align: middle;\n",
              "    }\n",
              "\n",
              "    .dataframe tbody tr th {\n",
              "        vertical-align: top;\n",
              "    }\n",
              "\n",
              "    .dataframe thead th {\n",
              "        text-align: right;\n",
              "    }\n",
              "</style>\n",
              "<table border=\"1\" class=\"dataframe\">\n",
              "  <thead>\n",
              "    <tr style=\"text-align: right;\">\n",
              "      <th></th>\n",
              "      <th>total_bill</th>\n",
              "      <th>tip</th>\n",
              "      <th>sex</th>\n",
              "      <th>smoker</th>\n",
              "      <th>day</th>\n",
              "      <th>time</th>\n",
              "      <th>size</th>\n",
              "    </tr>\n",
              "  </thead>\n",
              "  <tbody>\n",
              "    <tr>\n",
              "      <th>0</th>\n",
              "      <td>16.99</td>\n",
              "      <td>1.01</td>\n",
              "      <td>Female</td>\n",
              "      <td>No</td>\n",
              "      <td>Sun</td>\n",
              "      <td>Dinner</td>\n",
              "      <td>2.0</td>\n",
              "    </tr>\n",
              "    <tr>\n",
              "      <th>1</th>\n",
              "      <td>10.34</td>\n",
              "      <td>1.66</td>\n",
              "      <td>Male</td>\n",
              "      <td>No</td>\n",
              "      <td>Sun</td>\n",
              "      <td>Dinner</td>\n",
              "      <td>3.0</td>\n",
              "    </tr>\n",
              "    <tr>\n",
              "      <th>2</th>\n",
              "      <td>21.01</td>\n",
              "      <td>3.50</td>\n",
              "      <td>Male</td>\n",
              "      <td>No</td>\n",
              "      <td>Sun</td>\n",
              "      <td>Dinner</td>\n",
              "      <td>3.0</td>\n",
              "    </tr>\n",
              "    <tr>\n",
              "      <th>3</th>\n",
              "      <td>23.68</td>\n",
              "      <td>3.31</td>\n",
              "      <td>Male</td>\n",
              "      <td>No</td>\n",
              "      <td>Sun</td>\n",
              "      <td>Dinner</td>\n",
              "      <td>2.0</td>\n",
              "    </tr>\n",
              "    <tr>\n",
              "      <th>4</th>\n",
              "      <td>24.59</td>\n",
              "      <td>3.61</td>\n",
              "      <td>Female</td>\n",
              "      <td>No</td>\n",
              "      <td>Sun</td>\n",
              "      <td>Dinner</td>\n",
              "      <td>4.0</td>\n",
              "    </tr>\n",
              "  </tbody>\n",
              "</table>\n",
              "</div>"
            ],
            "text/plain": [
              "   total_bill   tip     sex smoker  day    time  size\n",
              "0       16.99  1.01  Female     No  Sun  Dinner   2.0\n",
              "1       10.34  1.66    Male     No  Sun  Dinner   3.0\n",
              "2       21.01  3.50    Male     No  Sun  Dinner   3.0\n",
              "3       23.68  3.31    Male     No  Sun  Dinner   2.0\n",
              "4       24.59  3.61  Female     No  Sun  Dinner   4.0"
            ]
          },
          "metadata": {
            "tags": []
          },
          "execution_count": 82
        }
      ]
    },
    {
      "cell_type": "code",
      "metadata": {
        "id": "KHVXh6yujZuY"
      },
      "source": [
        "data['sex'] = data['sex'].replace({'Female': 0, 'Male': 1})\n",
        "data['smoker'] = data['smoker'].replace({'No': 0, 'Yes': 1})\n",
        "data['time'] = data['time'].replace({'Lunch': 0, 'Dinner': 1})\n",
        "    \n",
        "# Ordinal encoding\n",
        "data['day'] = data['day'].replace({'Thur': 0, 'Fri': 1, 'Sat': 2, 'Sun': 3})"
      ],
      "execution_count": 23,
      "outputs": []
    },
    {
      "cell_type": "code",
      "metadata": {
        "colab": {
          "base_uri": "https://localhost:8080/",
          "height": 297
        },
        "id": "miQ7FSO-lYTX",
        "outputId": "5e43ec54-0740-48d9-f001-d6567a0b3379"
      },
      "source": [
        "data.describe()"
      ],
      "execution_count": 24,
      "outputs": [
        {
          "output_type": "execute_result",
          "data": {
            "text/html": [
              "<div>\n",
              "<style scoped>\n",
              "    .dataframe tbody tr th:only-of-type {\n",
              "        vertical-align: middle;\n",
              "    }\n",
              "\n",
              "    .dataframe tbody tr th {\n",
              "        vertical-align: top;\n",
              "    }\n",
              "\n",
              "    .dataframe thead th {\n",
              "        text-align: right;\n",
              "    }\n",
              "</style>\n",
              "<table border=\"1\" class=\"dataframe\">\n",
              "  <thead>\n",
              "    <tr style=\"text-align: right;\">\n",
              "      <th></th>\n",
              "      <th>total_bill</th>\n",
              "      <th>tip</th>\n",
              "      <th>sex</th>\n",
              "      <th>smoker</th>\n",
              "      <th>day</th>\n",
              "      <th>time</th>\n",
              "      <th>size</th>\n",
              "    </tr>\n",
              "  </thead>\n",
              "  <tbody>\n",
              "    <tr>\n",
              "      <th>count</th>\n",
              "      <td>244.000000</td>\n",
              "      <td>244.000000</td>\n",
              "      <td>244.000000</td>\n",
              "      <td>244.000000</td>\n",
              "      <td>244.000000</td>\n",
              "      <td>244.000000</td>\n",
              "      <td>241.000000</td>\n",
              "    </tr>\n",
              "    <tr>\n",
              "      <th>mean</th>\n",
              "      <td>19.785943</td>\n",
              "      <td>2.998279</td>\n",
              "      <td>0.643443</td>\n",
              "      <td>0.381148</td>\n",
              "      <td>1.725410</td>\n",
              "      <td>0.721311</td>\n",
              "      <td>2.556017</td>\n",
              "    </tr>\n",
              "    <tr>\n",
              "      <th>std</th>\n",
              "      <td>8.902412</td>\n",
              "      <td>1.383638</td>\n",
              "      <td>0.479967</td>\n",
              "      <td>0.486667</td>\n",
              "      <td>1.155774</td>\n",
              "      <td>0.449276</td>\n",
              "      <td>0.947571</td>\n",
              "    </tr>\n",
              "    <tr>\n",
              "      <th>min</th>\n",
              "      <td>3.070000</td>\n",
              "      <td>1.000000</td>\n",
              "      <td>0.000000</td>\n",
              "      <td>0.000000</td>\n",
              "      <td>0.000000</td>\n",
              "      <td>0.000000</td>\n",
              "      <td>1.000000</td>\n",
              "    </tr>\n",
              "    <tr>\n",
              "      <th>25%</th>\n",
              "      <td>13.347500</td>\n",
              "      <td>2.000000</td>\n",
              "      <td>0.000000</td>\n",
              "      <td>0.000000</td>\n",
              "      <td>0.000000</td>\n",
              "      <td>0.000000</td>\n",
              "      <td>2.000000</td>\n",
              "    </tr>\n",
              "    <tr>\n",
              "      <th>50%</th>\n",
              "      <td>17.795000</td>\n",
              "      <td>2.900000</td>\n",
              "      <td>1.000000</td>\n",
              "      <td>0.000000</td>\n",
              "      <td>2.000000</td>\n",
              "      <td>1.000000</td>\n",
              "      <td>2.000000</td>\n",
              "    </tr>\n",
              "    <tr>\n",
              "      <th>75%</th>\n",
              "      <td>24.127500</td>\n",
              "      <td>3.562500</td>\n",
              "      <td>1.000000</td>\n",
              "      <td>1.000000</td>\n",
              "      <td>3.000000</td>\n",
              "      <td>1.000000</td>\n",
              "      <td>3.000000</td>\n",
              "    </tr>\n",
              "    <tr>\n",
              "      <th>max</th>\n",
              "      <td>50.810000</td>\n",
              "      <td>10.000000</td>\n",
              "      <td>1.000000</td>\n",
              "      <td>1.000000</td>\n",
              "      <td>3.000000</td>\n",
              "      <td>1.000000</td>\n",
              "      <td>6.000000</td>\n",
              "    </tr>\n",
              "  </tbody>\n",
              "</table>\n",
              "</div>"
            ],
            "text/plain": [
              "       total_bill         tip         sex  ...         day        time        size\n",
              "count  244.000000  244.000000  244.000000  ...  244.000000  244.000000  241.000000\n",
              "mean    19.785943    2.998279    0.643443  ...    1.725410    0.721311    2.556017\n",
              "std      8.902412    1.383638    0.479967  ...    1.155774    0.449276    0.947571\n",
              "min      3.070000    1.000000    0.000000  ...    0.000000    0.000000    1.000000\n",
              "25%     13.347500    2.000000    0.000000  ...    0.000000    0.000000    2.000000\n",
              "50%     17.795000    2.900000    1.000000  ...    2.000000    1.000000    2.000000\n",
              "75%     24.127500    3.562500    1.000000  ...    3.000000    1.000000    3.000000\n",
              "max     50.810000   10.000000    1.000000  ...    3.000000    1.000000    6.000000\n",
              "\n",
              "[8 rows x 7 columns]"
            ]
          },
          "metadata": {
            "tags": []
          },
          "execution_count": 24
        }
      ]
    },
    {
      "cell_type": "markdown",
      "metadata": {
        "id": "fbRpaIV8fvZd"
      },
      "source": [
        "### 1.What is the overall average tip?"
      ]
    },
    {
      "cell_type": "code",
      "metadata": {
        "trusted": true,
        "colab": {
          "base_uri": "https://localhost:8080/"
        },
        "id": "xz3IDmXlfvZe",
        "outputId": "e6a06300-c175-4c39-ee6f-2870658e1fb9"
      },
      "source": [
        "data['tip'].mean()"
      ],
      "execution_count": 37,
      "outputs": [
        {
          "output_type": "execute_result",
          "data": {
            "text/plain": [
              "2.9982786885245902"
            ]
          },
          "metadata": {
            "tags": []
          },
          "execution_count": 37
        }
      ]
    },
    {
      "cell_type": "markdown",
      "metadata": {
        "id": "wr9u6ve7fvZf"
      },
      "source": [
        "### 2.Get a numerical summary for 'tip' - are the median and mean very different? What does this tell you about the field?"
      ]
    },
    {
      "cell_type": "code",
      "metadata": {
        "trusted": true,
        "colab": {
          "base_uri": "https://localhost:8080/"
        },
        "id": "kgS_fTNSfvZg",
        "outputId": "e206cbca-b5a1-4da2-9aa6-0808f27385f2"
      },
      "source": [
        "data['tip'].median()"
      ],
      "execution_count": 4,
      "outputs": [
        {
          "output_type": "execute_result",
          "data": {
            "text/plain": [
              "2.9"
            ]
          },
          "metadata": {
            "tags": []
          },
          "execution_count": 4
        }
      ]
    },
    {
      "cell_type": "markdown",
      "metadata": {
        "id": "USNbtSmFfvZi"
      },
      "source": [
        "Hence, Median & mean are almost same."
      ]
    },
    {
      "cell_type": "markdown",
      "metadata": {
        "id": "tH2BN15nfvZj"
      },
      "source": [
        "If the distribution is symmetric then the mean is equal to the median and the distribution will have zero skewness"
      ]
    },
    {
      "cell_type": "markdown",
      "metadata": {
        "id": "55zzy96RfvZk"
      },
      "source": [
        "### 3.Prepare a boxplot for 'tip', are there any outliers?  "
      ]
    },
    {
      "cell_type": "code",
      "metadata": {
        "trusted": true,
        "id": "3_giyUAzfvZl"
      },
      "source": [
        "sns.boxplot(x=\"tip\", data=data)"
      ],
      "execution_count": null,
      "outputs": []
    },
    {
      "cell_type": "code",
      "metadata": {
        "trusted": true,
        "id": "FtFCwBdCfvZm"
      },
      "source": [
        "q3, q1 = np.percentile(data.tip, [75,25])\n",
        "\n",
        "iqr = q3 - q1\n",
        "iqr = round(iqr,2)\n",
        "\n",
        "print (\"Lower Quatile:- \", q1 )\n",
        "print (\"Lower Quatile:- \", q3 )\n",
        "print (\"IQR:- \", iqr )\n",
        "l = q1 - (1.5*iqr)\n",
        "u = q1 + (1.5*iqr)\n",
        "l = round(l,2)\n",
        "u = round(u,2)\n",
        "print(\"Lower range in boxplot is {}, & the upper range is, {}\".format(l,u))"
      ],
      "execution_count": null,
      "outputs": []
    },
    {
      "cell_type": "markdown",
      "metadata": {
        "id": "7Kc4igQZfvZm"
      },
      "source": [
        "### 4.Prepare a boxplot for 'total_bill', are there any outliers?"
      ]
    },
    {
      "cell_type": "code",
      "metadata": {
        "trusted": true,
        "id": "yDjfnenrfvZn"
      },
      "source": [
        "sns.boxplot(x=\"total_bill\", data = data)"
      ],
      "execution_count": null,
      "outputs": []
    },
    {
      "cell_type": "code",
      "metadata": {
        "trusted": true,
        "id": "8cwNvw-DfvZn"
      },
      "source": [
        "q3, q1 = np.percentile(data.total_bill, [75,25])\n",
        "\n",
        "iqr = q3 - q1\n",
        "iqr = round(iqr,2)\n",
        "\n",
        "print (\"Lower Quatile:- \", q1 )\n",
        "print (\"Lower Quatile:- \", q3 )\n",
        "print (\"IQR:- \", iqr )\n",
        "l = q1 - (1.5*iqr)\n",
        "u = q1 + (1.5*iqr)\n",
        "l = round(l,2)\n",
        "u = round(u,2)\n",
        "print(\"Lower range in boxplot is {}, & the upper range is, {}\".format(l,u))"
      ],
      "execution_count": null,
      "outputs": []
    },
    {
      "cell_type": "markdown",
      "metadata": {
        "id": "g9Wes2M7fvZo"
      },
      "source": [
        "### 5. Gender: what is the percent of females in the data?"
      ]
    },
    {
      "cell_type": "code",
      "metadata": {
        "scrolled": true,
        "trusted": true,
        "id": "RrEoKGo0fvZo"
      },
      "source": [
        "data.groupby('sex').size()"
      ],
      "execution_count": null,
      "outputs": []
    },
    {
      "cell_type": "code",
      "metadata": {
        "trusted": true,
        "id": "_TWoTo2SfvZp"
      },
      "source": [
        "x = data.groupby(\"sex\").size()\n",
        "t = data[\"sex\"].count()\n",
        "p = x/t * 100\n",
        "p[0]"
      ],
      "execution_count": null,
      "outputs": []
    },
    {
      "cell_type": "markdown",
      "metadata": {
        "id": "gjjxjCLofvZp"
      },
      "source": [
        "### 6.Prepare a bar plot with the bars representing the percentage of records for each gender."
      ]
    },
    {
      "cell_type": "code",
      "metadata": {
        "trusted": true,
        "id": "fRY_8k1VfvZq"
      },
      "source": [
        "cnt = data.groupby(['sex']).count().reset_index()\n",
        "cnt"
      ],
      "execution_count": null,
      "outputs": []
    },
    {
      "cell_type": "code",
      "metadata": {
        "trusted": true,
        "colab": {
          "base_uri": "https://localhost:8080/",
          "height": 111
        },
        "id": "L7L3UpWHfvZq",
        "outputId": "03750849-2523-46aa-8d76-5339281f05a9"
      },
      "source": [
        "cnt['count_perc'] = (cnt['total_bill']/ len(data)) *100\n",
        "cnt"
      ],
      "execution_count": 40,
      "outputs": [
        {
          "output_type": "execute_result",
          "data": {
            "text/html": [
              "<div>\n",
              "<style scoped>\n",
              "    .dataframe tbody tr th:only-of-type {\n",
              "        vertical-align: middle;\n",
              "    }\n",
              "\n",
              "    .dataframe tbody tr th {\n",
              "        vertical-align: top;\n",
              "    }\n",
              "\n",
              "    .dataframe thead th {\n",
              "        text-align: right;\n",
              "    }\n",
              "</style>\n",
              "<table border=\"1\" class=\"dataframe\">\n",
              "  <thead>\n",
              "    <tr style=\"text-align: right;\">\n",
              "      <th></th>\n",
              "      <th>sex</th>\n",
              "      <th>total_bill</th>\n",
              "      <th>tip</th>\n",
              "      <th>smoker</th>\n",
              "      <th>day</th>\n",
              "      <th>time</th>\n",
              "      <th>size</th>\n",
              "      <th>count_perc</th>\n",
              "    </tr>\n",
              "  </thead>\n",
              "  <tbody>\n",
              "    <tr>\n",
              "      <th>0</th>\n",
              "      <td>Female</td>\n",
              "      <td>87</td>\n",
              "      <td>87</td>\n",
              "      <td>87</td>\n",
              "      <td>87</td>\n",
              "      <td>87</td>\n",
              "      <td>86</td>\n",
              "      <td>35.655738</td>\n",
              "    </tr>\n",
              "    <tr>\n",
              "      <th>1</th>\n",
              "      <td>Male</td>\n",
              "      <td>157</td>\n",
              "      <td>157</td>\n",
              "      <td>157</td>\n",
              "      <td>157</td>\n",
              "      <td>157</td>\n",
              "      <td>155</td>\n",
              "      <td>64.344262</td>\n",
              "    </tr>\n",
              "  </tbody>\n",
              "</table>\n",
              "</div>"
            ],
            "text/plain": [
              "      sex  total_bill  tip  smoker  day  time  size  count_perc\n",
              "0  Female          87   87      87   87    87    86   35.655738\n",
              "1    Male         157  157     157  157   157   155   64.344262"
            ]
          },
          "metadata": {
            "tags": []
          },
          "execution_count": 40
        }
      ]
    },
    {
      "cell_type": "code",
      "metadata": {
        "trusted": true,
        "id": "o1f7D1JFfvZr"
      },
      "source": [
        "sns.barplot(x=\"sex\",y='count_perc',\n",
        "            hue = 'count_perc'\n",
        "            ,data = cnt)"
      ],
      "execution_count": null,
      "outputs": []
    },
    {
      "cell_type": "code",
      "metadata": {
        "trusted": true,
        "id": "Wp1IpyX8fvZr"
      },
      "source": [
        "cnt = data.groupby(['sex']).count().reset_index()\n",
        "cnt\n",
        "cnt['count_perc'] = (cnt['total_bill']/ len(data)) *100 \n",
        "\n",
        "plt.pie(x='count_perc',data=cnt,labels=['Female', 'Male'], autopct='%1.1f%%',\n",
        "       shadow=True, startangle=90)\n"
      ],
      "execution_count": null,
      "outputs": []
    },
    {
      "cell_type": "markdown",
      "metadata": {
        "id": "OJArs7nUfvZr"
      },
      "source": [
        "### 7.Does the average tip differ by gender? Does one gender tip more than the other?"
      ]
    },
    {
      "cell_type": "code",
      "metadata": {
        "trusted": true,
        "colab": {
          "base_uri": "https://localhost:8080/"
        },
        "id": "CrNC2YuAfvZs",
        "outputId": "7602e661-2ee5-4a80-d859-77101ee9b627"
      },
      "source": [
        "data.groupby([\"sex\"]).mean()['tip']"
      ],
      "execution_count": 42,
      "outputs": [
        {
          "output_type": "execute_result",
          "data": {
            "text/plain": [
              "Series([], Name: tip, dtype: float64)"
            ]
          },
          "metadata": {
            "tags": []
          },
          "execution_count": 42
        }
      ]
    },
    {
      "cell_type": "markdown",
      "metadata": {
        "id": "0xWdNcEnfvZs"
      },
      "source": [
        "yes, the avg value of male tip is greater than female tip"
      ]
    },
    {
      "cell_type": "markdown",
      "metadata": {
        "id": "cjyqO2frfvZs"
      },
      "source": [
        "### 8. Does the average tip differ by the time of day?"
      ]
    },
    {
      "cell_type": "code",
      "metadata": {
        "trusted": true,
        "id": "zITXxRssfvZt"
      },
      "source": [
        "data.groupby([\"day\",\"time\"]).mean()['tip']"
      ],
      "execution_count": null,
      "outputs": []
    },
    {
      "cell_type": "code",
      "metadata": {
        "trusted": true,
        "id": "jgaafzhlfvZt"
      },
      "source": [
        "data.groupby([\"day\"]).mean()['tip']"
      ],
      "execution_count": null,
      "outputs": []
    },
    {
      "cell_type": "code",
      "metadata": {
        "trusted": true,
        "id": "7sLX7-HIfvZt"
      },
      "source": [
        "data.groupby([\"time\"]).mean()['tip']"
      ],
      "execution_count": null,
      "outputs": []
    },
    {
      "cell_type": "markdown",
      "metadata": {
        "id": "c8HvvmVPfvZt"
      },
      "source": [
        "### 9. Does the average tip differ by size (number of people at the table)?"
      ]
    },
    {
      "cell_type": "code",
      "metadata": {
        "trusted": true,
        "colab": {
          "base_uri": "https://localhost:8080/"
        },
        "id": "bjhASwnxfvZu",
        "outputId": "499e46d4-d7f3-4b94-f611-68ada8e5027e"
      },
      "source": [
        "data.groupby('size').mean()['tip']"
      ],
      "execution_count": 55,
      "outputs": [
        {
          "output_type": "execute_result",
          "data": {
            "text/plain": [
              "size\n",
              "1.0    1.437500\n",
              "2.0    2.582308\n",
              "3.0    3.384595\n",
              "4.0    4.012286\n",
              "5.0    4.028000\n",
              "6.0    5.225000\n",
              "Name: tip, dtype: float64"
            ]
          },
          "metadata": {
            "tags": []
          },
          "execution_count": 55
        }
      ]
    },
    {
      "cell_type": "markdown",
      "metadata": {
        "id": "S24f7m1OfvZu"
      },
      "source": [
        "### 10. Do smokers tip more than non-smokers?"
      ]
    },
    {
      "cell_type": "code",
      "metadata": {
        "trusted": true,
        "id": "SEbd4hAIfvZu"
      },
      "source": [
        "data.groupby('smoker').sum()['tip']"
      ],
      "execution_count": null,
      "outputs": []
    },
    {
      "cell_type": "markdown",
      "metadata": {
        "id": "CP4MLCAXfvZu"
      },
      "source": [
        "### 11. Gender vs. smoker/non-smoker and tip size - create a 2 by 2 and get the average tip size. Which group tips the most?"
      ]
    },
    {
      "cell_type": "code",
      "metadata": {
        "trusted": true,
        "id": "eHer-DqVfvZu"
      },
      "source": [
        "data.groupby(['sex','smoker']).mean()['tip']"
      ],
      "execution_count": null,
      "outputs": []
    },
    {
      "cell_type": "markdown",
      "metadata": {
        "id": "P67uP_GMfvZv"
      },
      "source": [
        "### 12.Create a new metric called 'pct_tip' = tip/ total_bill - this would be percent tip give, and should be a better measure of the tipping behaviour."
      ]
    },
    {
      "cell_type": "code",
      "metadata": {
        "trusted": true,
        "id": "6BQgrbmwfvZv"
      },
      "source": [
        "data['pct_tip'] = data['tip']/data['total_bill']"
      ],
      "execution_count": 90,
      "outputs": []
    },
    {
      "cell_type": "markdown",
      "metadata": {
        "id": "nBtBKkHYfvZv"
      },
      "source": [
        "### 13. Does pct_tip differ by gender? Does one gender tip more than the other?"
      ]
    },
    {
      "cell_type": "code",
      "metadata": {
        "trusted": true,
        "id": "NsaoY-AjfvZv"
      },
      "source": [
        "data.groupby([\"sex\"]).sum()['pct_tip']"
      ],
      "execution_count": null,
      "outputs": []
    },
    {
      "cell_type": "markdown",
      "metadata": {
        "id": "Eia8vTPqfvZw"
      },
      "source": [
        "### 14. Does pct_tip differ by size (number of people at the table)?"
      ]
    },
    {
      "cell_type": "code",
      "metadata": {
        "trusted": true,
        "id": "xqQbVUPefvZw"
      },
      "source": [
        "data.groupby([\"size\"]).sum()['pct_tip']"
      ],
      "execution_count": null,
      "outputs": []
    },
    {
      "cell_type": "markdown",
      "metadata": {
        "id": "QjhpvbsffvZw"
      },
      "source": [
        "### 15. Make the gender vs. smoker view using pct_tip - does your inference change?"
      ]
    },
    {
      "cell_type": "code",
      "metadata": {
        "trusted": true,
        "id": "cxwC9TMRfvZw"
      },
      "source": [
        "data['sex'].groupby(data[\"smoker\"]).value_counts(normalize=True).rename('pct_tip').reset_index()\n",
        "\n",
        "\n",
        "x,y,hue = 'sex','pct_tip','smoker'\n",
        "\n",
        "sns.barplot(x,y,hue,data=data)\n"
      ],
      "execution_count": null,
      "outputs": []
    },
    {
      "cell_type": "markdown",
      "metadata": {
        "id": "LjBRHbZzfvZx"
      },
      "source": [
        "### 16. Make a scatter plot of total_bill vs. tip."
      ]
    },
    {
      "cell_type": "code",
      "metadata": {
        "trusted": true,
        "id": "FBDDtoGCfvZx"
      },
      "source": [
        "sns.scatterplot(x=\"total_bill\", y = \"tip\",\n",
        "               data = data)"
      ],
      "execution_count": null,
      "outputs": []
    },
    {
      "cell_type": "markdown",
      "metadata": {
        "id": "Nhqgt57FfvZx"
      },
      "source": [
        "### 17. Make a scatter plot of total_bill vs. pct_tip."
      ]
    },
    {
      "cell_type": "code",
      "metadata": {
        "trusted": true,
        "id": "P6KOnksafvZx"
      },
      "source": [
        "sns.scatterplot(x=\"total_bill\", y = \"pct_tip\",\n",
        "               data = data)"
      ],
      "execution_count": null,
      "outputs": []
    },
    {
      "cell_type": "code",
      "metadata": {
        "trusted": true,
        "id": "weSY7c45fvZx"
      },
      "source": [
        "data[\"smoker\"].count()"
      ],
      "execution_count": null,
      "outputs": []
    },
    {
      "cell_type": "markdown",
      "metadata": {
        "id": "WxCG02yXiMaQ"
      },
      "source": [
        "### 18. Paired Plot"
      ]
    },
    {
      "cell_type": "code",
      "metadata": {
        "id": "3Y40c4VJh_aP"
      },
      "source": [
        "sns.pairplot(data.loc[:, ['total_bill', 'tip']])"
      ],
      "execution_count": null,
      "outputs": []
    },
    {
      "cell_type": "code",
      "metadata": {
        "id": "KMv-os_KmuCu"
      },
      "source": [
        "#sns.pairplot(data.loc[:, ['total_bill', 'day']])"
      ],
      "execution_count": null,
      "outputs": []
    },
    {
      "cell_type": "markdown",
      "metadata": {
        "id": "sgxgk1gIm1ru"
      },
      "source": [
        "### 19. Total bill abd Tip ratio"
      ]
    },
    {
      "cell_type": "code",
      "metadata": {
        "id": "8JMg_eeom9Yv"
      },
      "source": [
        "#data['tip_rate'] = (data['tip']/data['total_bill'])*100"
      ],
      "execution_count": 86,
      "outputs": []
    },
    {
      "cell_type": "code",
      "metadata": {
        "colab": {
          "base_uri": "https://localhost:8080/",
          "height": 608
        },
        "id": "uOv6OGDpijNd",
        "outputId": "acacd109-8455-4b33-9cc7-97456b087202"
      },
      "source": [
        "plt.figure(figsize=(12, 10))\n",
        "sns.heatmap(data.corr(), annot=True, vmin=-1.0, cmap='mako')\n",
        "plt.title(\"Correlation Matrix\")\n",
        "plt.show()"
      ],
      "execution_count": 25,
      "outputs": [
        {
          "output_type": "display_data",
          "data": {
            "image/png": "[encoded data removed]",
            "text/plain": [
              "<Figure size 864x720 with 2 Axes>"
            ]
          },
          "metadata": {
            "tags": [],
            "needs_background": "light"
          }
        }
      ]
    },
    {
      "cell_type": "markdown",
      "metadata": {
        "id": "Ra2nZRW3oPL4"
      },
      "source": [
        "### 20. Profile Report"
      ]
    },
    {
      "cell_type": "code",
      "metadata": {
        "id": "-mJuc1tvpD84"
      },
      "source": [
        "#!pip install -U pandas-profiling"
      ],
      "execution_count": null,
      "outputs": []
    },
    {
      "cell_type": "code",
      "metadata": {
        "id": "00rXLXHyoO1j"
      },
      "source": [
        "import pandas_profiling"
      ],
      "execution_count": 1,
      "outputs": []
    },
    {
      "cell_type": "code",
      "metadata": {
        "id": "7tTDpqQNo95v"
      },
      "source": [
        "data.profile_report()"
      ],
      "execution_count": null,
      "outputs": []
    },
    {
      "cell_type": "markdown",
      "metadata": {
        "id": "2eIlcmX0p2Kw"
      },
      "source": [
        "### 21. Z transform"
      ]
    },
    {
      "cell_type": "code",
      "metadata": {
        "colab": {
          "base_uri": "https://localhost:8080/"
        },
        "id": "dOnQ1366qZvQ",
        "outputId": "7b7a0582-0a3a-41f2-b0c7-da9effc53723"
      },
      "source": [
        "data.columns"
      ],
      "execution_count": 6,
      "outputs": [
        {
          "output_type": "execute_result",
          "data": {
            "text/plain": [
              "Index(['total_bill', 'tip', 'sex', 'smoker', 'day', 'time', 'size'], dtype='object')"
            ]
          },
          "metadata": {
            "tags": []
          },
          "execution_count": 6
        }
      ]
    },
    {
      "cell_type": "code",
      "metadata": {
        "id": "FVOFIKT0qSIE"
      },
      "source": [
        "data_scale_std = data.drop(['sex', 'smoker', 'day', 'time'], axis = 1)"
      ],
      "execution_count": 8,
      "outputs": []
    },
    {
      "cell_type": "code",
      "metadata": {
        "id": "NSjt1DpIqpR4"
      },
      "source": [
        "data_scale_std.describe()"
      ],
      "execution_count": null,
      "outputs": []
    },
    {
      "cell_type": "code",
      "metadata": {
        "id": "6MPtYcmurDEP"
      },
      "source": [
        ""
      ],
      "execution_count": null,
      "outputs": []
    },
    {
      "cell_type": "code",
      "metadata": {
        "id": "CI5PV-JPq7Q0"
      },
      "source": [
        "# Scaling 클래스\n",
        "from sklearn.preprocessing import scale, minmax_scale, robust_scale"
      ],
      "execution_count": 12,
      "outputs": []
    },
    {
      "cell_type": "code",
      "metadata": {
        "id": "Kc_Ud_iJp1vf"
      },
      "source": [
        "# scale변환 : 표준정규분포 기준\n",
        "df_scale_std = scale(data_scale_std)\n",
        "# scale 변환하면 numpy의 행렬 형태로 저장 -> DataFrame으로 변환\n",
        "df_scale_std = pd.DataFrame(df_scale_std, columns = data_scale_std.columns)\n",
        "df_scale_std.head()"
      ],
      "execution_count": null,
      "outputs": []
    },
    {
      "cell_type": "code",
      "metadata": {
        "id": "wR8iWaVlrXZB"
      },
      "source": [
        "df_scale_std.describe().round()"
      ],
      "execution_count": null,
      "outputs": []
    },
    {
      "cell_type": "code",
      "metadata": {
        "id": "dRAJuysUp0zK"
      },
      "source": [
        "df_scale_std.profile_report()"
      ],
      "execution_count": null,
      "outputs": []
    },
    {
      "cell_type": "markdown",
      "metadata": {
        "id": "TNkFykartXAs"
      },
      "source": [
        "### 22. Stack & Unstack"
      ]
    },
    {
      "cell_type": "code",
      "metadata": {
        "id": "Nt1HFUX6tWNR"
      },
      "source": [
        "tips_gb = data.groupby(['day','sex']).agg({'size':'sum'})"
      ],
      "execution_count": 27,
      "outputs": []
    },
    {
      "cell_type": "code",
      "metadata": {
        "id": "H5QBZEUOuSK8"
      },
      "source": [
        "tips_gb"
      ],
      "execution_count": null,
      "outputs": []
    },
    {
      "cell_type": "code",
      "metadata": {
        "id": "w-zuL_2kuW7Y"
      },
      "source": [
        "tips_gb.stack()"
      ],
      "execution_count": null,
      "outputs": []
    },
    {
      "cell_type": "code",
      "metadata": {
        "id": "rNuicyRLuls5"
      },
      "source": [
        "tips_us = tips_gb.unstack()"
      ],
      "execution_count": 30,
      "outputs": []
    },
    {
      "cell_type": "code",
      "metadata": {
        "id": "v3g0k3lJuogQ"
      },
      "source": [
        "tips_us"
      ],
      "execution_count": null,
      "outputs": []
    },
    {
      "cell_type": "code",
      "metadata": {
        "id": "y4L42rHtusZr"
      },
      "source": [
        "tips_gb.unstack(0)"
      ],
      "execution_count": null,
      "outputs": []
    },
    {
      "cell_type": "code",
      "metadata": {
        "id": "fFTpCYV3uwPs"
      },
      "source": [
        "tips_us.stack()"
      ],
      "execution_count": null,
      "outputs": []
    },
    {
      "cell_type": "code",
      "metadata": {
        "colab": {
          "base_uri": "https://localhost:8080/",
          "height": 204
        },
        "id": "C4yOntLSu0vX",
        "outputId": "c6c5ce94-4640-4e2e-b879-04a31042c160"
      },
      "source": [
        "tips_us.stack(0)"
      ],
      "execution_count": 34,
      "outputs": [
        {
          "output_type": "execute_result",
          "data": {
            "text/html": [
              "<div>\n",
              "<style scoped>\n",
              "    .dataframe tbody tr th:only-of-type {\n",
              "        vertical-align: middle;\n",
              "    }\n",
              "\n",
              "    .dataframe tbody tr th {\n",
              "        vertical-align: top;\n",
              "    }\n",
              "\n",
              "    .dataframe thead th {\n",
              "        text-align: right;\n",
              "    }\n",
              "</style>\n",
              "<table border=\"1\" class=\"dataframe\">\n",
              "  <thead>\n",
              "    <tr style=\"text-align: right;\">\n",
              "      <th></th>\n",
              "      <th>sex</th>\n",
              "      <th>0</th>\n",
              "      <th>1</th>\n",
              "    </tr>\n",
              "    <tr>\n",
              "      <th>day</th>\n",
              "      <th></th>\n",
              "      <th></th>\n",
              "      <th></th>\n",
              "    </tr>\n",
              "  </thead>\n",
              "  <tbody>\n",
              "    <tr>\n",
              "      <th>0</th>\n",
              "      <th>size</th>\n",
              "      <td>79.0</td>\n",
              "      <td>73.0</td>\n",
              "    </tr>\n",
              "    <tr>\n",
              "      <th>1</th>\n",
              "      <th>size</th>\n",
              "      <td>19.0</td>\n",
              "      <td>21.0</td>\n",
              "    </tr>\n",
              "    <tr>\n",
              "      <th>2</th>\n",
              "      <th>size</th>\n",
              "      <td>63.0</td>\n",
              "      <td>152.0</td>\n",
              "    </tr>\n",
              "    <tr>\n",
              "      <th>3</th>\n",
              "      <th>size</th>\n",
              "      <td>49.0</td>\n",
              "      <td>160.0</td>\n",
              "    </tr>\n",
              "  </tbody>\n",
              "</table>\n",
              "</div>"
            ],
            "text/plain": [
              "sex          0      1\n",
              "day                  \n",
              "0   size  79.0   73.0\n",
              "1   size  19.0   21.0\n",
              "2   size  63.0  152.0\n",
              "3   size  49.0  160.0"
            ]
          },
          "metadata": {
            "tags": []
          },
          "execution_count": 34
        }
      ]
    }
  ]
}