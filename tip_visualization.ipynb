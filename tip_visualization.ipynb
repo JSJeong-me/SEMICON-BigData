{
  "nbformat": 4,
  "nbformat_minor": 0,
  "metadata": {
    "kernelspec": {
      "display_name": "Python 3",
      "language": "python",
      "name": "python3"
    },
    "colab": {
      "name": "tip-visualization.ipynb",
      "provenance": [],
      "include_colab_link": true
    }
  },
  "cells": [
    {
      "cell_type": "markdown",
      "metadata": {
        "id": "view-in-github",
        "colab_type": "text"
      },
      "source": [
        "<a href=\"https://colab.research.google.com/github/JSJeong-me/SEMICON-BigData/blob/main/tip_visualization.ipynb\" target=\"_parent\"><img src=\"https://colab.research.google.com/assets/colab-badge.svg\" alt=\"Open In Colab\"/></a>"
      ]
    },
    {
      "cell_type": "markdown",
      "metadata": {
        "id": "QF8EbFDsfvZW"
      },
      "source": [
        "# Python Assignment "
      ]
    },
    {
      "cell_type": "code",
      "metadata": {
        "trusted": true,
        "id": "_La5BazrfvZY"
      },
      "source": [
        "import pandas as pd\n",
        "import matplotlib.pyplot as plt\n",
        "import seaborn as sns\n",
        "import numpy as np"
      ],
      "execution_count": null,
      "outputs": []
    },
    {
      "cell_type": "code",
      "metadata": {
        "trusted": true,
        "id": "J5bfmUfEfvZa"
      },
      "source": [
        "data = pd.read_csv(\"./tips.csv\")"
      ],
      "execution_count": null,
      "outputs": []
    },
    {
      "cell_type": "markdown",
      "metadata": {
        "id": "KcsjTI1VfvZb"
      },
      "source": [
        "## Tips Data"
      ]
    },
    {
      "cell_type": "code",
      "metadata": {
        "trusted": true,
        "colab": {
          "base_uri": "https://localhost:8080/",
          "height": 204
        },
        "id": "nigeoEOQfvZc",
        "outputId": "fc2361e0-b9df-4abe-f815-d48c3e254b4e"
      },
      "source": [
        "data.head()"
      ],
      "execution_count": null,
      "outputs": [
        {
          "output_type": "execute_result",
          "data": {
            "text/html": [
              "<div>\n",
              "<style scoped>\n",
              "    .dataframe tbody tr th:only-of-type {\n",
              "        vertical-align: middle;\n",
              "    }\n",
              "\n",
              "    .dataframe tbody tr th {\n",
              "        vertical-align: top;\n",
              "    }\n",
              "\n",
              "    .dataframe thead th {\n",
              "        text-align: right;\n",
              "    }\n",
              "</style>\n",
              "<table border=\"1\" class=\"dataframe\">\n",
              "  <thead>\n",
              "    <tr style=\"text-align: right;\">\n",
              "      <th></th>\n",
              "      <th>total_bill</th>\n",
              "      <th>tip</th>\n",
              "      <th>sex</th>\n",
              "      <th>smoker</th>\n",
              "      <th>day</th>\n",
              "      <th>time</th>\n",
              "      <th>size</th>\n",
              "    </tr>\n",
              "  </thead>\n",
              "  <tbody>\n",
              "    <tr>\n",
              "      <th>0</th>\n",
              "      <td>16.99</td>\n",
              "      <td>1.01</td>\n",
              "      <td>Female</td>\n",
              "      <td>No</td>\n",
              "      <td>Sun</td>\n",
              "      <td>Dinner</td>\n",
              "      <td>2.0</td>\n",
              "    </tr>\n",
              "    <tr>\n",
              "      <th>1</th>\n",
              "      <td>10.34</td>\n",
              "      <td>1.66</td>\n",
              "      <td>Male</td>\n",
              "      <td>No</td>\n",
              "      <td>Sun</td>\n",
              "      <td>Dinner</td>\n",
              "      <td>3.0</td>\n",
              "    </tr>\n",
              "    <tr>\n",
              "      <th>2</th>\n",
              "      <td>21.01</td>\n",
              "      <td>3.50</td>\n",
              "      <td>Male</td>\n",
              "      <td>No</td>\n",
              "      <td>Sun</td>\n",
              "      <td>Dinner</td>\n",
              "      <td>3.0</td>\n",
              "    </tr>\n",
              "    <tr>\n",
              "      <th>3</th>\n",
              "      <td>23.68</td>\n",
              "      <td>3.31</td>\n",
              "      <td>Male</td>\n",
              "      <td>No</td>\n",
              "      <td>Sun</td>\n",
              "      <td>Dinner</td>\n",
              "      <td>2.0</td>\n",
              "    </tr>\n",
              "    <tr>\n",
              "      <th>4</th>\n",
              "      <td>24.59</td>\n",
              "      <td>3.61</td>\n",
              "      <td>Female</td>\n",
              "      <td>No</td>\n",
              "      <td>Sun</td>\n",
              "      <td>Dinner</td>\n",
              "      <td>4.0</td>\n",
              "    </tr>\n",
              "  </tbody>\n",
              "</table>\n",
              "</div>"
            ],
            "text/plain": [
              "   total_bill   tip     sex smoker  day    time  size\n",
              "0       16.99  1.01  Female     No  Sun  Dinner   2.0\n",
              "1       10.34  1.66    Male     No  Sun  Dinner   3.0\n",
              "2       21.01  3.50    Male     No  Sun  Dinner   3.0\n",
              "3       23.68  3.31    Male     No  Sun  Dinner   2.0\n",
              "4       24.59  3.61  Female     No  Sun  Dinner   4.0"
            ]
          },
          "metadata": {
            "tags": []
          },
          "execution_count": 82
        }
      ]
    },
    {
      "cell_type": "code",
      "metadata": {
        "id": "KHVXh6yujZuY"
      },
      "source": [
        "data['sex'] = data['sex'].replace({'Female': 0, 'Male': 1})\n",
        "data['smoker'] = data['smoker'].replace({'No': 0, 'Yes': 1})\n",
        "data['time'] = data['time'].replace({'Lunch': 0, 'Dinner': 1})\n",
        "    \n",
        "# Ordinal encoding\n",
        "data['day'] = data['day'].replace({'Thur': 0, 'Fri': 1, 'Sat': 2, 'Sun': 3})"
      ],
      "execution_count": null,
      "outputs": []
    },
    {
      "cell_type": "code",
      "metadata": {
        "colab": {
          "base_uri": "https://localhost:8080/",
          "height": 297
        },
        "id": "miQ7FSO-lYTX",
        "outputId": "5e43ec54-0740-48d9-f001-d6567a0b3379"
      },
      "source": [
        "data.describe()"
      ],
      "execution_count": null,
      "outputs": [
        {
          "output_type": "execute_result",
          "data": {
            "text/html": [
              "<div>\n",
              "<style scoped>\n",
              "    .dataframe tbody tr th:only-of-type {\n",
              "        vertical-align: middle;\n",
              "    }\n",
              "\n",
              "    .dataframe tbody tr th {\n",
              "        vertical-align: top;\n",
              "    }\n",
              "\n",
              "    .dataframe thead th {\n",
              "        text-align: right;\n",
              "    }\n",
              "</style>\n",
              "<table border=\"1\" class=\"dataframe\">\n",
              "  <thead>\n",
              "    <tr style=\"text-align: right;\">\n",
              "      <th></th>\n",
              "      <th>total_bill</th>\n",
              "      <th>tip</th>\n",
              "      <th>sex</th>\n",
              "      <th>smoker</th>\n",
              "      <th>day</th>\n",
              "      <th>time</th>\n",
              "      <th>size</th>\n",
              "    </tr>\n",
              "  </thead>\n",
              "  <tbody>\n",
              "    <tr>\n",
              "      <th>count</th>\n",
              "      <td>244.000000</td>\n",
              "      <td>244.000000</td>\n",
              "      <td>244.000000</td>\n",
              "      <td>244.000000</td>\n",
              "      <td>244.000000</td>\n",
              "      <td>244.000000</td>\n",
              "      <td>241.000000</td>\n",
              "    </tr>\n",
              "    <tr>\n",
              "      <th>mean</th>\n",
              "      <td>19.785943</td>\n",
              "      <td>2.998279</td>\n",
              "      <td>0.643443</td>\n",
              "      <td>0.381148</td>\n",
              "      <td>1.725410</td>\n",
              "      <td>0.721311</td>\n",
              "      <td>2.556017</td>\n",
              "    </tr>\n",
              "    <tr>\n",
              "      <th>std</th>\n",
              "      <td>8.902412</td>\n",
              "      <td>1.383638</td>\n",
              "      <td>0.479967</td>\n",
              "      <td>0.486667</td>\n",
              "      <td>1.155774</td>\n",
              "      <td>0.449276</td>\n",
              "      <td>0.947571</td>\n",
              "    </tr>\n",
              "    <tr>\n",
              "      <th>min</th>\n",
              "      <td>3.070000</td>\n",
              "      <td>1.000000</td>\n",
              "      <td>0.000000</td>\n",
              "      <td>0.000000</td>\n",
              "      <td>0.000000</td>\n",
              "      <td>0.000000</td>\n",
              "      <td>1.000000</td>\n",
              "    </tr>\n",
              "    <tr>\n",
              "      <th>25%</th>\n",
              "      <td>13.347500</td>\n",
              "      <td>2.000000</td>\n",
              "      <td>0.000000</td>\n",
              "      <td>0.000000</td>\n",
              "      <td>0.000000</td>\n",
              "      <td>0.000000</td>\n",
              "      <td>2.000000</td>\n",
              "    </tr>\n",
              "    <tr>\n",
              "      <th>50%</th>\n",
              "      <td>17.795000</td>\n",
              "      <td>2.900000</td>\n",
              "      <td>1.000000</td>\n",
              "      <td>0.000000</td>\n",
              "      <td>2.000000</td>\n",
              "      <td>1.000000</td>\n",
              "      <td>2.000000</td>\n",
              "    </tr>\n",
              "    <tr>\n",
              "      <th>75%</th>\n",
              "      <td>24.127500</td>\n",
              "      <td>3.562500</td>\n",
              "      <td>1.000000</td>\n",
              "      <td>1.000000</td>\n",
              "      <td>3.000000</td>\n",
              "      <td>1.000000</td>\n",
              "      <td>3.000000</td>\n",
              "    </tr>\n",
              "    <tr>\n",
              "      <th>max</th>\n",
              "      <td>50.810000</td>\n",
              "      <td>10.000000</td>\n",
              "      <td>1.000000</td>\n",
              "      <td>1.000000</td>\n",
              "      <td>3.000000</td>\n",
              "      <td>1.000000</td>\n",
              "      <td>6.000000</td>\n",
              "    </tr>\n",
              "  </tbody>\n",
              "</table>\n",
              "</div>"
            ],
            "text/plain": [
              "       total_bill         tip         sex  ...         day        time        size\n",
              "count  244.000000  244.000000  244.000000  ...  244.000000  244.000000  241.000000\n",
              "mean    19.785943    2.998279    0.643443  ...    1.725410    0.721311    2.556017\n",
              "std      8.902412    1.383638    0.479967  ...    1.155774    0.449276    0.947571\n",
              "min      3.070000    1.000000    0.000000  ...    0.000000    0.000000    1.000000\n",
              "25%     13.347500    2.000000    0.000000  ...    0.000000    0.000000    2.000000\n",
              "50%     17.795000    2.900000    1.000000  ...    2.000000    1.000000    2.000000\n",
              "75%     24.127500    3.562500    1.000000  ...    3.000000    1.000000    3.000000\n",
              "max     50.810000   10.000000    1.000000  ...    3.000000    1.000000    6.000000\n",
              "\n",
              "[8 rows x 7 columns]"
            ]
          },
          "metadata": {
            "tags": []
          },
          "execution_count": 24
        }
      ]
    },
    {
      "cell_type": "markdown",
      "metadata": {
        "id": "fbRpaIV8fvZd"
      },
      "source": [
        "### 1. average tip?"
      ]
    },
    {
      "cell_type": "code",
      "metadata": {
        "trusted": true,
        "colab": {
          "base_uri": "https://localhost:8080/"
        },
        "id": "xz3IDmXlfvZe",
        "outputId": "e6a06300-c175-4c39-ee6f-2870658e1fb9"
      },
      "source": [
        "data['tip'].mean()"
      ],
      "execution_count": null,
      "outputs": [
        {
          "output_type": "execute_result",
          "data": {
            "text/plain": [
              "2.9982786885245902"
            ]
          },
          "metadata": {
            "tags": []
          },
          "execution_count": 37
        }
      ]
    },
    {
      "cell_type": "markdown",
      "metadata": {
        "id": "wr9u6ve7fvZf"
      },
      "source": [
        "### 2.Get a numerical summary for 'tip' - are the median and mean very different? What does this tell you about the field?"
      ]
    },
    {
      "cell_type": "code",
      "metadata": {
        "trusted": true,
        "colab": {
          "base_uri": "https://localhost:8080/"
        },
        "id": "kgS_fTNSfvZg",
        "outputId": "e206cbca-b5a1-4da2-9aa6-0808f27385f2"
      },
      "source": [
        "data['tip'].median()"
      ],
      "execution_count": null,
      "outputs": [
        {
          "output_type": "execute_result",
          "data": {
            "text/plain": [
              "2.9"
            ]
          },
          "metadata": {
            "tags": []
          },
          "execution_count": 4
        }
      ]
    },
    {
      "cell_type": "markdown",
      "metadata": {
        "id": "USNbtSmFfvZi"
      },
      "source": [
        "Hence, Median & mean are almost same."
      ]
    },
    {
      "cell_type": "markdown",
      "metadata": {
        "id": "tH2BN15nfvZj"
      },
      "source": [
        "If the distribution is symmetric then the mean is equal to the median and the distribution will have zero skewness"
      ]
    },
    {
      "cell_type": "markdown",
      "metadata": {
        "id": "55zzy96RfvZk"
      },
      "source": [
        "### 3.Prepare a boxplot for 'tip', are there any outliers?  "
      ]
    },
    {
      "cell_type": "code",
      "metadata": {
        "trusted": true,
        "id": "3_giyUAzfvZl"
      },
      "source": [
        "sns.boxplot(x=\"tip\", data=data)"
      ],
      "execution_count": null,
      "outputs": []
    },
    {
      "cell_type": "code",
      "metadata": {
        "trusted": true,
        "id": "FtFCwBdCfvZm"
      },
      "source": [
        "q3, q1 = np.percentile(data.tip, [75,25])\n",
        "\n",
        "iqr = q3 - q1\n",
        "iqr = round(iqr,2)\n",
        "\n",
        "print (\"Lower Quatile:- \", q1 )\n",
        "print (\"Lower Quatile:- \", q3 )\n",
        "print (\"IQR:- \", iqr )\n",
        "l = q1 - (1.5*iqr)\n",
        "u = q1 + (1.5*iqr)\n",
        "l = round(l,2)\n",
        "u = round(u,2)\n",
        "print(\"Lower range in boxplot is {}, & the upper range is, {}\".format(l,u))"
      ],
      "execution_count": null,
      "outputs": []
    },
    {
      "cell_type": "markdown",
      "metadata": {
        "id": "7Kc4igQZfvZm"
      },
      "source": [
        "### 4.Prepare a boxplot for 'total_bill', are there any outliers?"
      ]
    },
    {
      "cell_type": "code",
      "metadata": {
        "trusted": true,
        "id": "yDjfnenrfvZn"
      },
      "source": [
        "sns.boxplot(x=\"total_bill\", data = data)"
      ],
      "execution_count": null,
      "outputs": []
    },
    {
      "cell_type": "code",
      "metadata": {
        "trusted": true,
        "id": "8cwNvw-DfvZn"
      },
      "source": [
        "q3, q1 = np.percentile(data.total_bill, [75,25])\n",
        "\n",
        "iqr = q3 - q1\n",
        "iqr = round(iqr,2)\n",
        "\n",
        "print (\"Lower Quatile:- \", q1 )\n",
        "print (\"Lower Quatile:- \", q3 )\n",
        "print (\"IQR:- \", iqr )\n",
        "l = q1 - (1.5*iqr)\n",
        "u = q1 + (1.5*iqr)\n",
        "l = round(l,2)\n",
        "u = round(u,2)\n",
        "print(\"Lower range in boxplot is {}, & the upper range is, {}\".format(l,u))"
      ],
      "execution_count": null,
      "outputs": []
    },
    {
      "cell_type": "markdown",
      "metadata": {
        "id": "g9Wes2M7fvZo"
      },
      "source": [
        "### 5. Gender: what is the percent of females in the data?"
      ]
    },
    {
      "cell_type": "code",
      "metadata": {
        "scrolled": true,
        "trusted": true,
        "id": "RrEoKGo0fvZo"
      },
      "source": [
        "data.groupby('sex').size()"
      ],
      "execution_count": null,
      "outputs": []
    },
    {
      "cell_type": "code",
      "metadata": {
        "trusted": true,
        "id": "_TWoTo2SfvZp"
      },
      "source": [
        "x = data.groupby(\"sex\").size()\n",
        "t = data[\"sex\"].count()\n",
        "p = x/t * 100\n",
        "p[0]"
      ],
      "execution_count": null,
      "outputs": []
    },
    {
      "cell_type": "markdown",
      "metadata": {
        "id": "gjjxjCLofvZp"
      },
      "source": [
        "### 6.Prepare a bar plot with the bars representing the percentage of records for each gender."
      ]
    },
    {
      "cell_type": "code",
      "metadata": {
        "trusted": true,
        "id": "fRY_8k1VfvZq"
      },
      "source": [
        "cnt = data.groupby(['sex']).count().reset_index()\n",
        "cnt"
      ],
      "execution_count": null,
      "outputs": []
    },
    {
      "cell_type": "code",
      "metadata": {
        "trusted": true,
        "colab": {
          "base_uri": "https://localhost:8080/",
          "height": 111
        },
        "id": "L7L3UpWHfvZq",
        "outputId": "03750849-2523-46aa-8d76-5339281f05a9"
      },
      "source": [
        "cnt['count_perc'] = (cnt['total_bill']/ len(data)) *100\n",
        "cnt"
      ],
      "execution_count": null,
      "outputs": [
        {
          "output_type": "execute_result",
          "data": {
            "text/html": [
              "<div>\n",
              "<style scoped>\n",
              "    .dataframe tbody tr th:only-of-type {\n",
              "        vertical-align: middle;\n",
              "    }\n",
              "\n",
              "    .dataframe tbody tr th {\n",
              "        vertical-align: top;\n",
              "    }\n",
              "\n",
              "    .dataframe thead th {\n",
              "        text-align: right;\n",
              "    }\n",
              "</style>\n",
              "<table border=\"1\" class=\"dataframe\">\n",
              "  <thead>\n",
              "    <tr style=\"text-align: right;\">\n",
              "      <th></th>\n",
              "      <th>sex</th>\n",
              "      <th>total_bill</th>\n",
              "      <th>tip</th>\n",
              "      <th>smoker</th>\n",
              "      <th>day</th>\n",
              "      <th>time</th>\n",
              "      <th>size</th>\n",
              "      <th>count_perc</th>\n",
              "    </tr>\n",
              "  </thead>\n",
              "  <tbody>\n",
              "    <tr>\n",
              "      <th>0</th>\n",
              "      <td>Female</td>\n",
              "      <td>87</td>\n",
              "      <td>87</td>\n",
              "      <td>87</td>\n",
              "      <td>87</td>\n",
              "      <td>87</td>\n",
              "      <td>86</td>\n",
              "      <td>35.655738</td>\n",
              "    </tr>\n",
              "    <tr>\n",
              "      <th>1</th>\n",
              "      <td>Male</td>\n",
              "      <td>157</td>\n",
              "      <td>157</td>\n",
              "      <td>157</td>\n",
              "      <td>157</td>\n",
              "      <td>157</td>\n",
              "      <td>155</td>\n",
              "      <td>64.344262</td>\n",
              "    </tr>\n",
              "  </tbody>\n",
              "</table>\n",
              "</div>"
            ],
            "text/plain": [
              "      sex  total_bill  tip  smoker  day  time  size  count_perc\n",
              "0  Female          87   87      87   87    87    86   35.655738\n",
              "1    Male         157  157     157  157   157   155   64.344262"
            ]
          },
          "metadata": {
            "tags": []
          },
          "execution_count": 40
        }
      ]
    },
    {
      "cell_type": "code",
      "metadata": {
        "trusted": true,
        "id": "o1f7D1JFfvZr"
      },
      "source": [
        "sns.barplot(x=\"sex\",y='count_perc',\n",
        "            hue = 'count_perc'\n",
        "            ,data = cnt)"
      ],
      "execution_count": null,
      "outputs": []
    },
    {
      "cell_type": "code",
      "metadata": {
        "trusted": true,
        "id": "Wp1IpyX8fvZr"
      },
      "source": [
        "cnt = data.groupby(['sex']).count().reset_index()\n",
        "cnt\n",
        "cnt['count_perc'] = (cnt['total_bill']/ len(data)) *100 \n",
        "\n",
        "plt.pie(x='count_perc',data=cnt,labels=['Female', 'Male'], autopct='%1.1f%%',\n",
        "       shadow=True, startangle=90)\n"
      ],
      "execution_count": null,
      "outputs": []
    },
    {
      "cell_type": "markdown",
      "metadata": {
        "id": "OJArs7nUfvZr"
      },
      "source": [
        "### 7.Does the average tip differ by gender? Does one gender tip more than the other?"
      ]
    },
    {
      "cell_type": "code",
      "metadata": {
        "trusted": true,
        "colab": {
          "base_uri": "https://localhost:8080/"
        },
        "id": "CrNC2YuAfvZs",
        "outputId": "7602e661-2ee5-4a80-d859-77101ee9b627"
      },
      "source": [
        "data.groupby([\"sex\"]).mean()['tip']"
      ],
      "execution_count": null,
      "outputs": [
        {
          "output_type": "execute_result",
          "data": {
            "text/plain": [
              "Series([], Name: tip, dtype: float64)"
            ]
          },
          "metadata": {
            "tags": []
          },
          "execution_count": 42
        }
      ]
    },
    {
      "cell_type": "markdown",
      "metadata": {
        "id": "0xWdNcEnfvZs"
      },
      "source": [
        "yes, the avg value of male tip is greater than female tip"
      ]
    },
    {
      "cell_type": "markdown",
      "metadata": {
        "id": "cjyqO2frfvZs"
      },
      "source": [
        "### 8. Does the average tip differ by the time of day?"
      ]
    },
    {
      "cell_type": "code",
      "metadata": {
        "trusted": true,
        "id": "zITXxRssfvZt"
      },
      "source": [
        "data.groupby([\"day\",\"time\"]).mean()['tip']"
      ],
      "execution_count": null,
      "outputs": []
    },
    {
      "cell_type": "code",
      "metadata": {
        "trusted": true,
        "id": "jgaafzhlfvZt"
      },
      "source": [
        "data.groupby([\"day\"]).mean()['tip']"
      ],
      "execution_count": null,
      "outputs": []
    },
    {
      "cell_type": "code",
      "metadata": {
        "trusted": true,
        "id": "7sLX7-HIfvZt"
      },
      "source": [
        "data.groupby([\"time\"]).mean()['tip']"
      ],
      "execution_count": null,
      "outputs": []
    },
    {
      "cell_type": "markdown",
      "metadata": {
        "id": "c8HvvmVPfvZt"
      },
      "source": [
        "### 9. Does the average tip differ by size (number of people at the table)?"
      ]
    },
    {
      "cell_type": "code",
      "metadata": {
        "trusted": true,
        "colab": {
          "base_uri": "https://localhost:8080/"
        },
        "id": "bjhASwnxfvZu",
        "outputId": "499e46d4-d7f3-4b94-f611-68ada8e5027e"
      },
      "source": [
        "data.groupby('size').mean()['tip']"
      ],
      "execution_count": null,
      "outputs": [
        {
          "output_type": "execute_result",
          "data": {
            "text/plain": [
              "size\n",
              "1.0    1.437500\n",
              "2.0    2.582308\n",
              "3.0    3.384595\n",
              "4.0    4.012286\n",
              "5.0    4.028000\n",
              "6.0    5.225000\n",
              "Name: tip, dtype: float64"
            ]
          },
          "metadata": {
            "tags": []
          },
          "execution_count": 55
        }
      ]
    },
    {
      "cell_type": "markdown",
      "metadata": {
        "id": "S24f7m1OfvZu"
      },
      "source": [
        "### 10. Do smokers tip more than non-smokers?"
      ]
    },
    {
      "cell_type": "code",
      "metadata": {
        "trusted": true,
        "id": "SEbd4hAIfvZu"
      },
      "source": [
        "data.groupby('smoker').sum()['tip']"
      ],
      "execution_count": null,
      "outputs": []
    },
    {
      "cell_type": "markdown",
      "metadata": {
        "id": "CP4MLCAXfvZu"
      },
      "source": [
        "### 11. Gender vs. smoker/non-smoker and tip size - create a 2 by 2 and get the average tip size. Which group tips the most?"
      ]
    },
    {
      "cell_type": "code",
      "metadata": {
        "trusted": true,
        "id": "eHer-DqVfvZu"
      },
      "source": [
        "data.groupby(['sex','smoker']).mean()['tip']"
      ],
      "execution_count": null,
      "outputs": []
    },
    {
      "cell_type": "markdown",
      "metadata": {
        "id": "P67uP_GMfvZv"
      },
      "source": [
        "### 12.Create a new metric called 'pct_tip' = tip/ total_bill - this would be percent tip give, and should be a better measure of the tipping behaviour."
      ]
    },
    {
      "cell_type": "code",
      "metadata": {
        "trusted": true,
        "id": "6BQgrbmwfvZv"
      },
      "source": [
        "data['pct_tip'] = data['tip']/data['total_bill']"
      ],
      "execution_count": null,
      "outputs": []
    },
    {
      "cell_type": "markdown",
      "metadata": {
        "id": "nBtBKkHYfvZv"
      },
      "source": [
        "### 13. Does pct_tip differ by gender? Does one gender tip more than the other?"
      ]
    },
    {
      "cell_type": "code",
      "metadata": {
        "trusted": true,
        "id": "NsaoY-AjfvZv"
      },
      "source": [
        "data.groupby([\"sex\"]).sum()['pct_tip']"
      ],
      "execution_count": null,
      "outputs": []
    },
    {
      "cell_type": "markdown",
      "metadata": {
        "id": "Eia8vTPqfvZw"
      },
      "source": [
        "### 14. Does pct_tip differ by size (number of people at the table)?"
      ]
    },
    {
      "cell_type": "code",
      "metadata": {
        "trusted": true,
        "id": "xqQbVUPefvZw"
      },
      "source": [
        "data.groupby([\"size\"]).sum()['pct_tip']"
      ],
      "execution_count": null,
      "outputs": []
    },
    {
      "cell_type": "markdown",
      "metadata": {
        "id": "QjhpvbsffvZw"
      },
      "source": [
        "### 15. Make the gender vs. smoker view using pct_tip - does your inference change?"
      ]
    },
    {
      "cell_type": "code",
      "metadata": {
        "trusted": true,
        "id": "cxwC9TMRfvZw"
      },
      "source": [
        "data['sex'].groupby(data[\"smoker\"]).value_counts(normalize=True).rename('pct_tip').reset_index()\n",
        "\n",
        "\n",
        "x,y,hue = 'sex','pct_tip','smoker'\n",
        "\n",
        "sns.barplot(x,y,hue,data=data)\n"
      ],
      "execution_count": null,
      "outputs": []
    },
    {
      "cell_type": "markdown",
      "metadata": {
        "id": "LjBRHbZzfvZx"
      },
      "source": [
        "### 16. Make a scatter plot of total_bill vs. tip."
      ]
    },
    {
      "cell_type": "code",
      "metadata": {
        "trusted": true,
        "id": "FBDDtoGCfvZx"
      },
      "source": [
        "sns.scatterplot(x=\"total_bill\", y = \"tip\",\n",
        "               data = data)"
      ],
      "execution_count": null,
      "outputs": []
    },
    {
      "cell_type": "markdown",
      "metadata": {
        "id": "Nhqgt57FfvZx"
      },
      "source": [
        "### 17. Make a scatter plot of total_bill vs. pct_tip."
      ]
    },
    {
      "cell_type": "code",
      "metadata": {
        "trusted": true,
        "id": "P6KOnksafvZx"
      },
      "source": [
        "sns.scatterplot(x=\"total_bill\", y = \"pct_tip\",\n",
        "               data = data)"
      ],
      "execution_count": null,
      "outputs": []
    },
    {
      "cell_type": "code",
      "metadata": {
        "trusted": true,
        "id": "weSY7c45fvZx"
      },
      "source": [
        "data[\"smoker\"].count()"
      ],
      "execution_count": null,
      "outputs": []
    },
    {
      "cell_type": "markdown",
      "metadata": {
        "id": "WxCG02yXiMaQ"
      },
      "source": [
        "### 18. Paired Plot"
      ]
    },
    {
      "cell_type": "code",
      "metadata": {
        "id": "3Y40c4VJh_aP"
      },
      "source": [
        "sns.pairplot(data.loc[:, ['total_bill', 'tip']])"
      ],
      "execution_count": null,
      "outputs": []
    },
    {
      "cell_type": "code",
      "metadata": {
        "id": "KMv-os_KmuCu"
      },
      "source": [
        "#sns.pairplot(data.loc[:, ['total_bill', 'day']])"
      ],
      "execution_count": null,
      "outputs": []
    },
    {
      "cell_type": "markdown",
      "metadata": {
        "id": "sgxgk1gIm1ru"
      },
      "source": [
        "### 19. Total bill abd Tip ratio"
      ]
    },
    {
      "cell_type": "code",
      "metadata": {
        "id": "8JMg_eeom9Yv"
      },
      "source": [
        "#data['tip_rate'] = (data['tip']/data['total_bill'])*100"
      ],
      "execution_count": null,
      "outputs": []
    },
    {
      "cell_type": "code",
      "metadata": {
        "colab": {
          "base_uri": "https://localhost:8080/",
          "height": 608
        },
        "id": "uOv6OGDpijNd",
        "outputId": "acacd109-8455-4b33-9cc7-97456b087202"
      },
      "source": [
        "plt.figure(figsize=(12, 10))\n",
        "sns.heatmap(data.corr(), annot=True, vmin=-1.0, cmap='mako')\n",
        "plt.title(\"Correlation Matrix\")\n",
        "plt.show()"
      ],
      "execution_count": null,
      "outputs": [
        {
          "output_type": "display_data",
          "data": {
            "image/png": "[encoded data removed]",
            "text/plain": [
              "<Figure size 864x720 with 2 Axes>"
            ]
          },
          "metadata": {
            "tags": [],
            "needs_background": "light"
          }
        }
      ]
    },
    {
      "cell_type": "markdown",
      "metadata": {
        "id": "Ra2nZRW3oPL4"
      },
      "source": [
        "### 20. Profile Report"
      ]
    },
    {
      "cell_type": "code",
      "metadata": {
        "id": "-mJuc1tvpD84"
      },
      "source": [
        "#!pip install -U pandas-profiling"
      ],
      "execution_count": null,
      "outputs": []
    },
    {
      "cell_type": "code",
      "metadata": {
        "id": "00rXLXHyoO1j"
      },
      "source": [
        "import pandas_profiling"
      ],
      "execution_count": null,
      "outputs": []
    },
    {
      "cell_type": "code",
      "metadata": {
        "id": "7tTDpqQNo95v"
      },
      "source": [
        "data.profile_report()"
      ],
      "execution_count": null,
      "outputs": []
    },
    {
      "cell_type": "markdown",
      "metadata": {
        "id": "2eIlcmX0p2Kw"
      },
      "source": [
        "### 21. Z transform"
      ]
    },
    {
      "cell_type": "code",
      "metadata": {
        "colab": {
          "base_uri": "https://localhost:8080/"
        },
        "id": "dOnQ1366qZvQ",
        "outputId": "7b7a0582-0a3a-41f2-b0c7-da9effc53723"
      },
      "source": [
        "data.columns"
      ],
      "execution_count": null,
      "outputs": [
        {
          "output_type": "execute_result",
          "data": {
            "text/plain": [
              "Index(['total_bill', 'tip', 'sex', 'smoker', 'day', 'time', 'size'], dtype='object')"
            ]
          },
          "metadata": {
            "tags": []
          },
          "execution_count": 6
        }
      ]
    },
    {
      "cell_type": "code",
      "metadata": {
        "id": "FVOFIKT0qSIE"
      },
      "source": [
        "data_scale_std = data.drop(['sex', 'smoker', 'day', 'time'], axis = 1)"
      ],
      "execution_count": null,
      "outputs": []
    },
    {
      "cell_type": "code",
      "metadata": {
        "id": "NSjt1DpIqpR4"
      },
      "source": [
        "data_scale_std.describe()"
      ],
      "execution_count": null,
      "outputs": []
    },
    {
      "cell_type": "code",
      "metadata": {
        "id": "6MPtYcmurDEP"
      },
      "source": [
        ""
      ],
      "execution_count": null,
      "outputs": []
    },
    {
      "cell_type": "code",
      "metadata": {
        "id": "CI5PV-JPq7Q0"
      },
      "source": [
        "# Scaling 클래스\n",
        "from sklearn.preprocessing import scale, minmax_scale, robust_scale"
      ],
      "execution_count": null,
      "outputs": []
    },
    {
      "cell_type": "code",
      "metadata": {
        "id": "Kc_Ud_iJp1vf"
      },
      "source": [
        "# scale변환 : 표준정규분포 기준\n",
        "df_scale_std = scale(data_scale_std)\n",
        "# scale 변환하면 numpy의 행렬 형태로 저장 -> DataFrame으로 변환\n",
        "df_scale_std = pd.DataFrame(df_scale_std, columns = data_scale_std.columns)\n",
        "df_scale_std.head()"
      ],
      "execution_count": null,
      "outputs": []
    },
    {
      "cell_type": "code",
      "metadata": {
        "id": "wR8iWaVlrXZB"
      },
      "source": [
        "df_scale_std.describe().round()"
      ],
      "execution_count": null,
      "outputs": []
    },
    {
      "cell_type": "code",
      "metadata": {
        "id": "dRAJuysUp0zK"
      },
      "source": [
        "df_scale_std.profile_report()"
      ],
      "execution_count": null,
      "outputs": []
    },
    {
      "cell_type": "markdown",
      "metadata": {
        "id": "TNkFykartXAs"
      },
      "source": [
        "### 22. Stack & Unstack"
      ]
    },
    {
      "cell_type": "code",
      "metadata": {
        "id": "Nt1HFUX6tWNR"
      },
      "source": [
        "tips_gb = data.groupby(['day','sex']).agg({'size':'sum'})"
      ],
      "execution_count": null,
      "outputs": []
    },
    {
      "cell_type": "code",
      "metadata": {
        "id": "H5QBZEUOuSK8"
      },
      "source": [
        "tips_gb"
      ],
      "execution_count": null,
      "outputs": []
    },
    {
      "cell_type": "code",
      "metadata": {
        "id": "w-zuL_2kuW7Y"
      },
      "source": [
        "tips_gb.stack()"
      ],
      "execution_count": null,
      "outputs": []
    },
    {
      "cell_type": "code",
      "metadata": {
        "id": "rNuicyRLuls5"
      },
      "source": [
        "tips_us = tips_gb.unstack()"
      ],
      "execution_count": null,
      "outputs": []
    },
    {
      "cell_type": "code",
      "metadata": {
        "id": "v3g0k3lJuogQ"
      },
      "source": [
        "tips_us"
      ],
      "execution_count": null,
      "outputs": []
    },
    {
      "cell_type": "code",
      "metadata": {
        "id": "y4L42rHtusZr"
      },
      "source": [
        "tips_gb.unstack(0)"
      ],
      "execution_count": null,
      "outputs": []
    },
    {
      "cell_type": "code",
      "metadata": {
        "id": "fFTpCYV3uwPs"
      },
      "source": [
        "tips_us.stack()"
      ],
      "execution_count": null,
      "outputs": []
    },
    {
      "cell_type": "code",
      "metadata": {
        "colab": {
          "base_uri": "https://localhost:8080/",
          "height": 204
        },
        "id": "C4yOntLSu0vX",
        "outputId": "c6c5ce94-4640-4e2e-b879-04a31042c160"
      },
      "source": [
        "tips_us.stack(0)"
      ],
      "execution_count": null,
      "outputs": [
        {
          "output_type": "execute_result",
          "data": {
            "text/html": [
              "<div>\n",
              "<style scoped>\n",
              "    .dataframe tbody tr th:only-of-type {\n",
              "        vertical-align: middle;\n",
              "    }\n",
              "\n",
              "    .dataframe tbody tr th {\n",
              "        vertical-align: top;\n",
              "    }\n",
              "\n",
              "    .dataframe thead th {\n",
              "        text-align: right;\n",
              "    }\n",
              "</style>\n",
              "<table border=\"1\" class=\"dataframe\">\n",
              "  <thead>\n",
              "    <tr style=\"text-align: right;\">\n",
              "      <th></th>\n",
              "      <th>sex</th>\n",
              "      <th>0</th>\n",
              "      <th>1</th>\n",
              "    </tr>\n",
              "    <tr>\n",
              "      <th>day</th>\n",
              "      <th></th>\n",
              "      <th></th>\n",
              "      <th></th>\n",
              "    </tr>\n",
              "  </thead>\n",
              "  <tbody>\n",
              "    <tr>\n",
              "      <th>0</th>\n",
              "      <th>size</th>\n",
              "      <td>79.0</td>\n",
              "      <td>73.0</td>\n",
              "    </tr>\n",
              "    <tr>\n",
              "      <th>1</th>\n",
              "      <th>size</th>\n",
              "      <td>19.0</td>\n",
              "      <td>21.0</td>\n",
              "    </tr>\n",
              "    <tr>\n",
              "      <th>2</th>\n",
              "      <th>size</th>\n",
              "      <td>63.0</td>\n",
              "      <td>152.0</td>\n",
              "    </tr>\n",
              "    <tr>\n",
              "      <th>3</th>\n",
              "      <th>size</th>\n",
              "      <td>49.0</td>\n",
              "      <td>160.0</td>\n",
              "    </tr>\n",
              "  </tbody>\n",
              "</table>\n",
              "</div>"
            ],
            "text/plain": [
              "sex          0      1\n",
              "day                  \n",
              "0   size  79.0   73.0\n",
              "1   size  19.0   21.0\n",
              "2   size  63.0  152.0\n",
              "3   size  49.0  160.0"
            ]
          },
          "metadata": {
            "tags": []
          },
          "execution_count": 34
        }
      ]
    },
    {
      "cell_type": "markdown",
      "metadata": {
        "id": "JmMh8_ZCv-ei"
      },
      "source": [
        "![mysql(k-digial).jpg](data:image/jpeg;base64,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)"
      ]
    },
    {
      "cell_type": "markdown",
      "metadata": {
        "id": "wbDOgpe-wezb"
      },
      "source": [
        "![mysql(k-digial).jpg](data:image/jpeg;base64,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)"
      ]
    },
    {
      "cell_type": "code",
      "metadata": {
        "id": "g2eedkl2wO7h"
      },
      "source": [
        ""
      ],
      "execution_count": null,
      "outputs": []
    }
  ]
}